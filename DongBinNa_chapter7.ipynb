{
 "cells": [
  {
   "cell_type": "markdown",
   "metadata": {},
   "source": [
    "# 미로찾기"
   ]
  },
  {
   "cell_type": "code",
   "execution_count": 1,
   "metadata": {},
   "outputs": [],
   "source": [
    "n,m=5,6"
   ]
  },
  {
   "cell_type": "code",
   "execution_count": 2,
   "metadata": {},
   "outputs": [
    {
     "data": {
      "text/plain": [
       "[[9999, 9999, 9999, 9999, 9999, 9999],\n",
       " [9999, 9999, 9999, 9999, 9999, 9999],\n",
       " [9999, 9999, 9999, 9999, 9999, 9999],\n",
       " [9999, 9999, 9999, 9999, 9999, 9999],\n",
       " [9999, 9999, 9999, 9999, 9999, 9999]]"
      ]
     },
     "execution_count": 2,
     "metadata": {},
     "output_type": "execute_result"
    }
   ],
   "source": [
    "data=[ # 0이 괴물 , 1이 통로 , n,m에 출구 , 최소거리 출력\n",
    "    [1,0,1,0,1,0],\n",
    "    [1,1,1,1,1,1],\n",
    "    [0,0,0,0,0,1],\n",
    "    [1,1,1,1,1,1],\n",
    "    [1,1,1,1,1,1]\n",
    "]\n",
    "distance=[[9999]*m for _ in range(n)]\n",
    "distance"
   ]
  },
  {
   "cell_type": "code",
   "execution_count": 3,
   "metadata": {},
   "outputs": [],
   "source": [
    "data=[ # 0이 괴물 , 1이 통로 , n,m에 출구 , 최소거리 출력\n",
    "    [1,1,1,1,1,1],\n",
    "    [0,0,0,0,0,1],\n",
    "    [0,1,1,1,1,1],\n",
    "    [1,1,0,0,0,0],\n",
    "    [1,1,1,1,1,1]\n",
    "]"
   ]
  },
  {
   "cell_type": "code",
   "execution_count": 4,
   "metadata": {},
   "outputs": [],
   "source": [
    "def distance_dfs(a,b, dis):\n",
    "    #base case\n",
    "    if a<0 or a >= len(data) or b < 0 or b >= len(data[0]) or data[a][b]==0 or dis >= distance[a][b] :\n",
    "        return\n",
    "    \n",
    "    #preprocessing\n",
    "    distance[a][b] = dis\n",
    "    \n",
    "    #재귀\n",
    "    distance_dfs(a+1, b, dis+1)\n",
    "    distance_dfs(a-1, b, dis+1)\n",
    "    distance_dfs(a, b+1, dis+1)\n",
    "    distance_dfs(a, b-1, dis+1)"
   ]
  },
  {
   "cell_type": "code",
   "execution_count": 5,
   "metadata": {},
   "outputs": [],
   "source": [
    "distance_dfs(0,0, 1)"
   ]
  },
  {
   "cell_type": "code",
   "execution_count": 6,
   "metadata": {},
   "outputs": [
    {
     "data": {
      "text/plain": [
       "[[1, 2, 3, 4, 5, 6],\n",
       " [9999, 9999, 9999, 9999, 9999, 7],\n",
       " [9999, 12, 11, 10, 9, 8],\n",
       " [14, 13, 9999, 9999, 9999, 9999],\n",
       " [15, 14, 15, 16, 17, 18]]"
      ]
     },
     "execution_count": 6,
     "metadata": {},
     "output_type": "execute_result"
    }
   ],
   "source": [
    "distance"
   ]
  },
  {
   "cell_type": "code",
   "execution_count": null,
   "metadata": {},
   "outputs": [],
   "source": []
  },
  {
   "cell_type": "markdown",
   "metadata": {},
   "source": [
    "# chapter 7\n",
    "\n",
    "## 이진탐색\n",
    "배열내부의 데이터가 정렬되어 있을떄 사용할 수 있음 \n",
    "탐색범위의'시작점', '끝점', '중간점'의 3개 변수가 필요\n",
    "\n",
    "찾으려는 데이터와 중간점에 있는 변수를 반복해서 비교"
   ]
  },
  {
   "cell_type": "code",
   "execution_count": 8,
   "metadata": {},
   "outputs": [],
   "source": [
    "a=[1,6,8,9,4,1,3,1,8]\n",
    "\n",
    "def binary(array, start, end, target):\n",
    "    if start> end:\n",
    "        return \n",
    "    mid=(start+end)//2\n",
    "    if mid < target:\n",
    "        return binary(array, mid, end, target)\n",
    "    elif mid > target:\n",
    "        return binary(array, start, mid, target)\n",
    "    elif mid== target:\n",
    "        return mid\n",
    "    elif start==target:\n",
    "        return start\n",
    "    else:\n",
    "        return end\n",
    "    "
   ]
  },
  {
   "cell_type": "code",
   "execution_count": 9,
   "metadata": {},
   "outputs": [
    {
     "data": {
      "text/plain": [
       "6"
      ]
     },
     "execution_count": 9,
     "metadata": {},
     "output_type": "execute_result"
    }
   ],
   "source": [
    "binary(a,a[0],a[-1], 6)"
   ]
  },
  {
   "cell_type": "code",
   "execution_count": 10,
   "metadata": {},
   "outputs": [
    {
     "name": "stdout",
     "output_type": "stream",
     "text": [
      "10 7\n"
     ]
    }
   ],
   "source": [
    "n,target=list(map(int,input().split()))"
   ]
  },
  {
   "cell_type": "code",
   "execution_count": 11,
   "metadata": {},
   "outputs": [
    {
     "name": "stdout",
     "output_type": "stream",
     "text": [
      "1 2 3 4 5 6 7 8 9 10\n"
     ]
    }
   ],
   "source": [
    "map3=list(map(int,input().split()))"
   ]
  },
  {
   "cell_type": "code",
   "execution_count": 20,
   "metadata": {},
   "outputs": [],
   "source": [
    "def binary_search(array, start, end, target):\n",
    "    if end < start:\n",
    "        return \n",
    "    mid=(start+end)//2\n",
    "    if array[mid] < target:\n",
    "        return binary_search(array, mid, end, target)\n",
    "    elif array[mid] > target:\n",
    "        return binary_search(array,start, mid, target)\n",
    "    elif array[start]==target:\n",
    "        return start\n",
    "    elif array[end] ==target:\n",
    "        return end\n",
    "    else:\n",
    "        return mid"
   ]
  },
  {
   "cell_type": "code",
   "execution_count": 21,
   "metadata": {},
   "outputs": [
    {
     "data": {
      "text/plain": [
       "6"
      ]
     },
     "execution_count": 21,
     "metadata": {},
     "output_type": "execute_result"
    }
   ],
   "source": [
    "binary_search(map3,0,9,7)"
   ]
  },
  {
   "cell_type": "markdown",
   "metadata": {},
   "source": [
    "# 부품찾기"
   ]
  },
  {
   "cell_type": "code",
   "execution_count": 23,
   "metadata": {},
   "outputs": [
    {
     "name": "stdout",
     "output_type": "stream",
     "text": [
      "5\n",
      "8 3 7 9 2\n",
      "3\n",
      "5 7 9\n"
     ]
    }
   ],
   "source": [
    "n=int(input())\n",
    "n_list=list(map(int,input().split()))\n",
    "m=int(input())\n",
    "m_list=list(map(int,input().split()))"
   ]
  },
  {
   "cell_type": "code",
   "execution_count": 30,
   "metadata": {},
   "outputs": [
    {
     "name": "stdout",
     "output_type": "stream",
     "text": [
      "NO\n",
      "YES\n",
      "YES\n"
     ]
    }
   ],
   "source": [
    "start=0\n",
    "end=n-1\n",
    "def find(find_a,a_list,start,end): # 없는 경우 생각 \n",
    "    mid=(start+end)//2\n",
    "    if mid ==start and a_list[mid] != find_a:\n",
    "        return print('NO')\n",
    "    if mid==end and a_list[mid] !=find_a:\n",
    "        return print('NO')\n",
    "    elif a_list[mid] < find_a:\n",
    "        return find(find_a,a_list,mid,end)\n",
    "    elif a_list[mid] > find_a:\n",
    "        return find(find_a,a_list,start,mid)\n",
    "    elif a_list[start]==find_a:\n",
    "        return print('YES')\n",
    "    elif a_list[end]==find_a:\n",
    "        return print('YES')\n",
    "    elif a_list[mid]==find_a:\n",
    "        return print('YES')\n",
    "\n",
    "for i in range(m):\n",
    "    find(m_list[i],n_list,start,end)"
   ]
  },
  {
   "cell_type": "code",
   "execution_count": null,
   "metadata": {},
   "outputs": [],
   "source": [
    "# 떡볶이 떡 만들기"
   ]
  },
  {
   "cell_type": "code",
   "execution_count": 81,
   "metadata": {},
   "outputs": [
    {
     "name": "stdout",
     "output_type": "stream",
     "text": [
      "4 6\n",
      "19 15 10 17\n"
     ]
    }
   ],
   "source": [
    "n,m=list(map(int,input().split()))\n",
    "m_list=list(map(int,input().split()))     "
   ]
  },
  {
   "cell_type": "code",
   "execution_count": 91,
   "metadata": {},
   "outputs": [
    {
     "data": {
      "text/plain": [
       "[19, 17, 15, 10]"
      ]
     },
     "execution_count": 91,
     "metadata": {},
     "output_type": "execute_result"
    }
   ],
   "source": [
    "m_list.sort(reverse=True)\n",
    "m_list"
   ]
  },
  {
   "cell_type": "code",
   "execution_count": 92,
   "metadata": {},
   "outputs": [],
   "source": [
    "count=0\n",
    "def finder(count):\n",
    "    m=6\n",
    "    for i in range(len(m_list)-1):\n",
    "        m-=(m_list[i]-m_list[i+1])*(i+1)\n",
    "        count+=m_list[i]-m_list[i+1]\n",
    "        if m < 0:\n",
    "            m+=(m_list[i]-m_list[i+1])\n",
    "            for i in range(m_list[i]-m_list[i+1]):\n",
    "                m-=1\n",
    "                count+=1\n",
    "                if m<=0:\n",
    "                    break\n",
    "        elif m==0:\n",
    "            return m_list[0]-count        \n",
    "            break\n",
    "    return m_list[0]-count        "
   ]
  },
  {
   "cell_type": "code",
   "execution_count": 93,
   "metadata": {},
   "outputs": [
    {
     "data": {
      "text/plain": [
       "15"
      ]
     },
     "execution_count": 93,
     "metadata": {},
     "output_type": "execute_result"
    }
   ],
   "source": [
    "finder(count)"
   ]
  },
  {
   "cell_type": "code",
   "execution_count": null,
   "metadata": {},
   "outputs": [],
   "source": [
    "19 17 15 10\n",
    "\n",
    "1\n",
    "1\n",
    "\n",
    "1 1 \n",
    "1 1 \n",
    "\n",
    "1 1 1 \n",
    "1 1 1 \n",
    "1 1 1 \n",
    "1 1 1\n",
    "1 1 1 \n",
    "\n",
    "1 1 1 1 \n",
    "1 1 1 1\n",
    ".\n",
    ".\n",
    ".\n"
   ]
  },
  {
   "cell_type": "code",
   "execution_count": 95,
   "metadata": {},
   "outputs": [
    {
     "name": "stdout",
     "output_type": "stream",
     "text": [
      "4 6\n",
      "19 15 10 17\n"
     ]
    }
   ],
   "source": [
    "# answer\n",
    "# 큰 수 -> 당연히 이진탐색!!\n",
    "\n",
    "n,m=list(map(int,input().split()))\n",
    "array=list(map(int,input().split()))"
   ]
  },
  {
   "cell_type": "code",
   "execution_count": 96,
   "metadata": {},
   "outputs": [
    {
     "name": "stdout",
     "output_type": "stream",
     "text": [
      "15\n"
     ]
    }
   ],
   "source": [
    "# 이진탐색을 위한 시작점과 끝점 설정\n",
    "start=0\n",
    "end=max(array)\n",
    "\n",
    "# 이진탐색 수행\n",
    "result=0\n",
    "while(start<= end):\n",
    "    total=0\n",
    "    mid=(start+end)//2\n",
    "    for x in array:\n",
    "        # 자를 때 떡 양 계산\n",
    "        if x > mid:\n",
    "            total+=x-mid\n",
    "    # 떡의 양이 부족한 경우 더 많이 자르기\n",
    "    if total < m:\n",
    "        end= mid-1\n",
    "    else:\n",
    "        result=mid\n",
    "        start=mid+1\n",
    "print(result)            "
   ]
  },
  {
   "cell_type": "code",
   "execution_count": null,
   "metadata": {},
   "outputs": [],
   "source": []
  },
  {
   "cell_type": "code",
   "execution_count": null,
   "metadata": {},
   "outputs": [],
   "source": []
  },
  {
   "cell_type": "code",
   "execution_count": null,
   "metadata": {},
   "outputs": [],
   "source": []
  },
  {
   "cell_type": "code",
   "execution_count": null,
   "metadata": {},
   "outputs": [],
   "source": []
  },
  {
   "cell_type": "code",
   "execution_count": null,
   "metadata": {},
   "outputs": [],
   "source": []
  }
 ],
 "metadata": {
  "kernelspec": {
   "display_name": "Python 3",
   "language": "python",
   "name": "python3"
  },
  "language_info": {
   "codemirror_mode": {
    "name": "ipython",
    "version": 3
   },
   "file_extension": ".py",
   "mimetype": "text/x-python",
   "name": "python",
   "nbconvert_exporter": "python",
   "pygments_lexer": "ipython3",
   "version": "3.7.7"
  },
  "widgets": {
   "application/vnd.jupyter.widget-state+json": {
    "state": {},
    "version_major": 2,
    "version_minor": 0
   }
  }
 },
 "nbformat": 4,
 "nbformat_minor": 2
}
