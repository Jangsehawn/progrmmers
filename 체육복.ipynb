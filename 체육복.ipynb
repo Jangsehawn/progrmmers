{
 "cells": [
  {
   "cell_type": "code",
   "execution_count": 1,
   "metadata": {},
   "outputs": [],
   "source": [
    "# 원래 풀이\n",
    "def solution(n, lost, reserve):\n",
    "    answer=n-len(lost)\n",
    "    \n",
    "    for i in range(len(lost)):\n",
    "        for j in range(len(reserve)):\n",
    "            if lost[i]==reserve[j]+1 or lost[i]==reserve[j]-1:\n",
    "                answer+=1\n",
    "    if answer > n:\n",
    "        answer=n\n",
    "    elif answer >=  n-len(lost)+len(reserve):\n",
    "        answer=n-len(lost)+len(reserve)   \n",
    "    return answer"
   ]
  },
  {
   "cell_type": "code",
   "execution_count": 2,
   "metadata": {},
   "outputs": [],
   "source": [
    "# 최종 나의 풀이\n",
    "def solution(n, lost, reserve):\n",
    "    answer=n-len(lost)\n",
    "    # n=5 losr->1,2,3 reserve-> 2,3,4 -> 2는 자기꺼니깐 못 빌려줌 ->4\n",
    "    # 같은거 먼저 처리함\n",
    "    for i in range(len(lost)):\n",
    "        for j in range(len(reserve)):\n",
    "            if lost[i]==reserve[j]:\n",
    "                answer+=1\n",
    "                # 처리표시\n",
    "                reserve[j]=1234\n",
    "                lost[i]=1111\n",
    "                \n",
    "    for i in range(len(lost)):\n",
    "        for j in range(len(reserve)):\n",
    "            if lost[i]==reserve[j]+1 or lost[i]==reserve[j]-1:\n",
    "                answer+=1\n",
    "                # 처리표시\n",
    "                reserve[j]=1234\n",
    "                lost[i]=1111\n",
    "                \n",
    "    return answer"
   ]
  },
  {
   "cell_type": "code",
   "execution_count": null,
   "metadata": {},
   "outputs": [],
   "source": []
  },
  {
   "cell_type": "code",
   "execution_count": null,
   "metadata": {},
   "outputs": [],
   "source": []
  }
 ],
 "metadata": {
  "kernelspec": {
   "display_name": "Python 3",
   "language": "python",
   "name": "python3"
  },
  "language_info": {
   "codemirror_mode": {
    "name": "ipython",
    "version": 3
   },
   "file_extension": ".py",
   "mimetype": "text/x-python",
   "name": "python",
   "nbconvert_exporter": "python",
   "pygments_lexer": "ipython3",
   "version": "3.7.9"
  }
 },
 "nbformat": 4,
 "nbformat_minor": 4
}
