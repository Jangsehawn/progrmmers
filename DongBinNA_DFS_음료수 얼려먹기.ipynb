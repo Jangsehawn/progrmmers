{
 "cells": [
  {
   "cell_type": "code",
   "execution_count": 1,
   "metadata": {},
   "outputs": [
    {
     "data": {
      "text/plain": [
       "6"
      ]
     },
     "execution_count": 1,
     "metadata": {},
     "output_type": "execute_result"
    }
   ],
   "source": [
    "1+2+3"
   ]
  },
  {
   "cell_type": "code",
   "execution_count": null,
   "metadata": {},
   "outputs": [],
   "source": [
    "\n",
    "def permu(n,r):\n",
    "    # base case\n",
    "    if r==1:\n",
    "        return n\n",
    "    # recursion\n",
    "    return n * permu(n-1,r-1)"
   ]
  },
  {
   "cell_type": "code",
   "execution_count": null,
   "metadata": {},
   "outputs": [],
   "source": [
    "import numpy as np\n",
    "import matplotlib.pyplot as plt\n",
    "\n",
    "x = np.arange 0.6"
   ]
  },
  {
   "cell_type": "code",
   "execution_count": null,
   "metadata": {},
   "outputs": [],
   "source": [
    "permu(6,3)"
   ]
  },
  {
   "cell_type": "code",
   "execution_count": null,
   "metadata": {},
   "outputs": [],
   "source": [
    "#  n개중에 r개를 뽑아 배열하는 리스트를 모두 구하여라\n",
    "arr = [1,2,3,4,5]\n",
    "n = 5\n",
    "r = 3\n"
   ]
  },
  {
   "cell_type": "code",
   "execution_count": null,
   "metadata": {},
   "outputs": [],
   "source": [
    "selected = [False]*5\n",
    "\n",
    "for i in range(n):\n",
    "    selected[i] = True\n",
    "    for j in range(n):\n",
    "        if(selected[j] == True) :\n",
    "            continue\n",
    "        selected[j] = True\n",
    "        for k in range(n):\n",
    "            if(selected[k] == True):\n",
    "                continue\n",
    "            print([i+1,j+1,k+1])\n",
    "        selected[j] = False\n",
    "    selected[i] = False\n",
    "\n"
   ]
  },
  {
   "cell_type": "code",
   "execution_count": null,
   "metadata": {},
   "outputs": [],
   "source": [
    "for i in range(n):\n",
    "    for j in range(n):\n",
    "        for k in range(n):\n",
    "            if i != j and j != k and i != k :\n",
    "                print([i+1,j+1,k+1])\n",
    "\n"
   ]
  },
  {
   "cell_type": "code",
   "execution_count": null,
   "metadata": {},
   "outputs": [],
   "source": [
    "arr = [1,5,165,452,3]\n",
    "selected = [False]*5\n",
    "b=[]\n",
    "def permutation(arr, n, r, selected, count) :\n",
    "    #base case\n",
    "    if(count >= r) :\n",
    "        a= []\n",
    "        for i in range(len(selected)):\n",
    "            if(selected[i] == True) :\n",
    "                a.append(arr[i])\n",
    "        print(a)\n",
    "        b.append(a)\n",
    "        return\n",
    "        \n",
    "    for i in range(n):\n",
    "        if(selected[i] == False) :\n",
    "            selected[i] = True\n",
    "            permutation(arr, n, r, selected, count+1)\n",
    "            selected[i] = False\n",
    "            \n",
    "            \n",
    "permutation(arr, 5, 3, selected, 0)"
   ]
  },
  {
   "cell_type": "code",
   "execution_count": null,
   "metadata": {},
   "outputs": [],
   "source": [
    "b"
   ]
  },
  {
   "cell_type": "markdown",
   "metadata": {},
   "source": [
    "# Stack"
   ]
  },
  {
   "cell_type": "code",
   "execution_count": null,
   "metadata": {},
   "outputs": [],
   "source": [
    "stack=[]\n",
    "\n",
    "stack.append(1)\n",
    "print(stack)\n",
    "stack.append(2)\n",
    "print(stack)\n",
    "stack.append(3)\n",
    "print(stack)\n",
    "stack.append(4)\n",
    "print(stack)\n",
    "stack.pop()\n",
    "print(stack)\n",
    "stack.append(5)\n",
    "print(stack)\n",
    "stack.append(6)\n",
    "print(stack)\n",
    "stack.pop()\n",
    "print(stack)\n",
    "a=stack.pop(2) # 인덱싱으로 제거, 변수로 저장 가능 \n",
    "print(stack)\n",
    "print(a)\n",
    "print(stack[::-1])# 뒤 원소부터 정렬\n",
    "stack.sort() #원소 작은 순으로 정렬\n",
    "print(stack)"
   ]
  },
  {
   "cell_type": "markdown",
   "metadata": {},
   "source": [
    "# Queue"
   ]
  },
  {
   "cell_type": "code",
   "execution_count": null,
   "metadata": {},
   "outputs": [],
   "source": [
    "from collections import deque"
   ]
  },
  {
   "cell_type": "code",
   "execution_count": null,
   "metadata": {},
   "outputs": [],
   "source": [
    "#  큐 사용에 deque() 사용\n",
    "queue=deque()\n",
    "\n",
    "print(queue)\n",
    "queue.append(1)\n",
    "print(queue)\n",
    "queue.append(2)\n",
    "print(queue)\n",
    "queue.append(3)\n",
    "print(queue)\n",
    "queue.append(4)\n",
    "print(queue)\n",
    "queue.append(5)\n",
    "print(queue)\n",
    "queue.append(6)\n",
    "print(queue)\n",
    "queue.popleft() # 가장 첫번째 원소 삭제\n",
    "print(queue)\n",
    "\n",
    "queue.reverse() # 순서 역순으로 출력\n",
    "print(queue)\n",
    "\n",
    "# deque -> 리스트 보다 데이터 입출력이 효율적\n"
   ]
  },
  {
   "cell_type": "code",
   "execution_count": 51,
   "metadata": {},
   "outputs": [],
   "source": [
    "from collections import deque"
   ]
  },
  {
   "cell_type": "code",
   "execution_count": null,
   "metadata": {
    "scrolled": false
   },
   "outputs": [],
   "source": [
    "# recursive function\n",
    "\n",
    "def recursive_function():\n",
    "    print('재귀함수 호출')\n",
    "    recursive_function()\n",
    "    \n",
    "recursive_function() \n",
    "# 재귀함수의 최대깊이를 초과했다\n",
    "\n",
    "# RecursionError: maximum recursion depth exceeded while calling a Python object\n",
    "\n",
    "# 파이썬 인터프리터가 호출횟수 제한 존재"
   ]
  },
  {
   "cell_type": "code",
   "execution_count": null,
   "metadata": {},
   "outputs": [],
   "source": [
    "def recursive_function(i):\n",
    "    if i==100:\n",
    "        return\n",
    "    \n",
    "    # base case\n",
    "    print(i,\"번째 재귀함수에서\",i+1,\"번째 재귀함수를 호출합니다.\")\n",
    "    recursive_function(i+1)\n",
    "    print(i, '번째 재귀함수를 종료합니다')\n",
    "recursive_function(1)    "
   ]
  },
  {
   "cell_type": "code",
   "execution_count": null,
   "metadata": {},
   "outputs": [],
   "source": [
    "# 팩토리얼\n",
    "\n",
    "def factorial_iterative(n):\n",
    "    result=1\n",
    "    for i in range(1,n+1):\n",
    "        result*=i\n",
    "    return result "
   ]
  },
  {
   "cell_type": "code",
   "execution_count": null,
   "metadata": {},
   "outputs": [],
   "source": [
    "factorial_iterative(4)"
   ]
  },
  {
   "cell_type": "code",
   "execution_count": null,
   "metadata": {},
   "outputs": [],
   "source": [
    "def factorial_recursive(n):\n",
    "    # base case\n",
    "    if n<=1:\n",
    "        return 1\n",
    "    # recursion\n",
    "    return n*factorial_recursive(n-1)"
   ]
  },
  {
   "cell_type": "code",
   "execution_count": null,
   "metadata": {},
   "outputs": [],
   "source": [
    "factorial_recursive(4)"
   ]
  },
  {
   "cell_type": "code",
   "execution_count": 63,
   "metadata": {},
   "outputs": [
    {
     "ename": "NameError",
     "evalue": "name 'factorial' is not defined",
     "output_type": "error",
     "traceback": [
      "\u001b[1;31m---------------------------------------------------------------------------\u001b[0m",
      "\u001b[1;31mNameError\u001b[0m                                 Traceback (most recent call last)",
      "\u001b[1;32m<ipython-input-63-637175d621a4>\u001b[0m in \u001b[0;36m<module>\u001b[1;34m\u001b[0m\n\u001b[1;32m----> 1\u001b[1;33m \u001b[0mfactorial\u001b[0m\u001b[1;33m(\u001b[0m\u001b[1;36m5\u001b[0m\u001b[1;33m)\u001b[0m\u001b[1;33m\u001b[0m\u001b[1;33m\u001b[0m\u001b[0m\n\u001b[0m",
      "\u001b[1;31mNameError\u001b[0m: name 'factorial' is not defined"
     ]
    }
   ],
   "source": [
    "factorial(5)"
   ]
  },
  {
   "cell_type": "markdown",
   "metadata": {},
   "source": [
    "# DFS"
   ]
  },
  {
   "cell_type": "code",
   "execution_count": null,
   "metadata": {},
   "outputs": [],
   "source": [
    "# adjacenecy matrix (인접행렬)\n",
    "\n",
    "inf=10000000000 # 무한의 비용 ( 연결안됨 )\n",
    "\n",
    "graph=[\n",
    "    [0,7,5],\n",
    "    [7,0,inf],\n",
    "    [5,inf,0]\n",
    "]\n",
    "graph # 1 번쨰 노드와 2번째 노드가 연결(간선의 길이 7), 1번째 노드와 3번째 노드가 연결(간선의 길이 5), 2번째 너드와 3번째 노드는 연결x"
   ]
  },
  {
   "cell_type": "code",
   "execution_count": null,
   "metadata": {},
   "outputs": [],
   "source": [
    "# adjacency list 인접 리스트\n",
    "\n",
    "graph=[[] for i in range(3)]\n",
    "\n",
    "# 노드 1 에 연결된 노드 정보 (노드번호, 거리)\n",
    "graph[0].append((1,7))\n",
    "graph[0].append((2,5))\n",
    "\n",
    "# 노드 2 에 연결된 노드 정보 (노드번호, 거리)\n",
    "graph[1].append((0,7))\n",
    "\n",
    "# 노드 3 에 연결된 노드 정보 (노드번호, 거리)\n",
    "graph[2].append((0,5))\n",
    "\n",
    "graph"
   ]
  },
  {
   "cell_type": "markdown",
   "metadata": {},
   "source": [
    "# 인접행렬 vs 인접매트릭스\n",
    "\n",
    "## 메모리\n",
    "인접행렬 : 모든 관계 저장하므로 노드 개수 많으면 메모리 낭비\n",
    "인접 리스트 : 연결된 정보만 저장하므로 효율적\n",
    "    \n",
    "## 속도\n",
    "인접리스트 : 연결된 데이터를 하나하나 확인해야해서 특정 노드 연결 확인에 걸리는 속도가 인접행렬에 비해 늦음 \n"
   ]
  },
  {
   "cell_type": "markdown",
   "metadata": {},
   "source": [
    "# DFS"
   ]
  },
  {
   "cell_type": "code",
   "execution_count": null,
   "metadata": {},
   "outputs": [],
   "source": [
    "# DFS\n",
    "\n",
    "def dfs(graph,v, visited):\n",
    "    # 현재 노드를 방문처리\n",
    "    visited[v]=True\n",
    "    print(v,end=' ')\n",
    "    # 현재 노드와 연결된 다른 노드를 재귀적으로 방문 \n",
    "    for i in graph[v]:\n",
    "        if not visited[i]:\n",
    "            dfs(graph,i, visited)\n",
    "# 각 노드가 연결된 정보를 리스트로 표현  (2 차원 리스트)\n",
    "\n",
    "graph=[[],[2,3,8],[1,7],[1,4,5],[3,5],[3,4],[7],[2,6,8],[1,7]]\n",
    "\n",
    "# 각 노드가 방문한 정보를 리스트로 표현 (1차원 리스트)\n",
    "\n",
    "visited=[False]*9\n",
    "\n",
    "# 정의된 DFS 함수 호출\n",
    "\n",
    "dfs(graph,1, visited)\n"
   ]
  },
  {
   "cell_type": "code",
   "execution_count": null,
   "metadata": {},
   "outputs": [],
   "source": [
    "visited"
   ]
  },
  {
   "cell_type": "markdown",
   "metadata": {},
   "source": [
    "# BFS\n"
   ]
  },
  {
   "cell_type": "code",
   "execution_count": 76,
   "metadata": {},
   "outputs": [
    {
     "name": "stdout",
     "output_type": "stream",
     "text": [
      "0.0\n"
     ]
    }
   ],
   "source": [
    "import time\n",
    "a=time.time()\n",
    "lis=[]\n",
    "lis.append(1)\n",
    "b=time.time()\n",
    "print(a-b)\n"
   ]
  },
  {
   "cell_type": "code",
   "execution_count": null,
   "metadata": {},
   "outputs": [],
   "source": [
    "from collections import deque\n",
    "\n",
    "# BFS 메서드 정의\n",
    "def bfs(graph,start,visited):\n",
    "    # 큐 구현을 위해 deque 사용\n",
    "    queue = deque([start])\n",
    "    # 현 노드 방문\n",
    "    visited[start]= True\n",
    "    # 큐가 빌때까지 반복\n",
    "    while queue :\n",
    "        # 큐에서 하나씩 원소를 뽑아 출력\n",
    "        v= queue.popleft()\n",
    "        print(v, end=' ')\n",
    "        # 해당 원소와 연결된, 아직 방문하지 않은 원소들을 큐에 삽입\n",
    "        for i in graph[v]:\n",
    "            if not visited[i]:\n",
    "                queue.append(i)\n",
    "                visited[i]=True\n",
    "                \n",
    "# 각 노드가 연결된 정보를 리스트로 표현  (2 차원 리스트)\n",
    "\n",
    "graph=[[],[2,3,8],[1,7],[1,4,5],[3,5],[3,4],[7],[2,6,8],[1,7]]\n",
    "\n",
    "# 각 노드가 방문한 정보를 리스트로 표현 (1차원 리스트)\n",
    "\n",
    "visited=[False]*9\n",
    "\n",
    "\n",
    "bfs(graph,1,visited)\n",
    "\n"
   ]
  },
  {
   "cell_type": "code",
   "execution_count": null,
   "metadata": {},
   "outputs": [],
   "source": [
    "abc=[1,2,3,4,5,6]\n",
    "while abc:\n",
    "    print(abc.pop())"
   ]
  },
  {
   "cell_type": "markdown",
   "metadata": {},
   "source": [
    "# 5-3 음료수 얼려먹기 "
   ]
  },
  {
   "cell_type": "markdown",
   "metadata": {},
   "source": [
    "###  삭제된 셀 전체 복구 -> esc+z"
   ]
  },
  {
   "cell_type": "code",
   "execution_count": 452,
   "metadata": {},
   "outputs": [
    {
     "name": "stdout",
     "output_type": "stream",
     "text": [
      "4 5\n"
     ]
    }
   ],
   "source": [
    "n,m= map(int,input().split())"
   ]
  },
  {
   "cell_type": "code",
   "execution_count": 627,
   "metadata": {},
   "outputs": [
    {
     "data": {
      "text/plain": [
       "[[False, False, False, False, False],\n",
       " [False, False, False, False, False],\n",
       " [False, False, False, False, False],\n",
       " [False, False, False, False, False]]"
      ]
     },
     "execution_count": 627,
     "metadata": {},
     "output_type": "execute_result"
    }
   ],
   "source": [
    "mat=[[0,0,1,1,0],\n",
    "     [0,0,0,1,1],\n",
    "     [1,1,1,1,1],\n",
    "     [0,0,0,0,0]]\n",
    "visited=[[False]*m for _ in range(n)]\n",
    "visited"
   ]
  },
  {
   "cell_type": "code",
   "execution_count": 581,
   "metadata": {},
   "outputs": [],
   "source": [
    "def visit(mat,visited,a,b): # a,b= x,y 좌표\n",
    "    if 0 > a or a >= m or 0 > b or b >= n or visited[b][a]==True: \n",
    "        return\n",
    "    else:\n",
    "        if mat[b][a]==0:\n",
    "            visited[b][a]=True\n",
    "            visit(mat,visited,a+1,b)\n",
    "            visit(mat,visited,a-1,b)\n",
    "            visit(mat,visited,a,b+1)\n",
    "            visit(mat,visited,a,b-1)\n",
    "  \n",
    "visit(mat,visited,0,0)"
   ]
  },
  {
   "cell_type": "code",
   "execution_count": 582,
   "metadata": {},
   "outputs": [
    {
     "data": {
      "text/plain": [
       "[[True, True, False, False, False],\n",
       " [True, True, True, False, False],\n",
       " [False, False, False, False, False],\n",
       " [False, False, False, False, False]]"
      ]
     },
     "execution_count": 582,
     "metadata": {},
     "output_type": "execute_result"
    }
   ],
   "source": [
    "visited"
   ]
  },
  {
   "cell_type": "code",
   "execution_count": 628,
   "metadata": {},
   "outputs": [],
   "source": [
    "def visit(mat,visited,a,b): # a,b= x,y 좌표\n",
    "    if 0 > a or a >= n or 0 > b or b >= m or visited[a][b]==True: \n",
    "        return\n",
    "    else:\n",
    "        if mat[a][b]==0:\n",
    "            visited[a][b]=True\n",
    "            visit(mat,visited,a+1,b)\n",
    "            visit(mat,visited,a-1,b)\n",
    "            visit(mat,visited,a,b+1)\n",
    "            visit(mat,visited,a,b-1)\n",
    "    \n",
    "def dfs(mat,visited):\n",
    "    count=0\n",
    "    for i in range(len(mat)): \n",
    "        for j in range(len(mat[0])): \n",
    "            if visited[i][j]==True:\n",
    "                continue\n",
    "            else:    \n",
    "                visit(mat,visited,i,j)\n",
    "                if mat[i][j]==0:\n",
    "                    count+=1\n",
    "    return count\n",
    "    \n",
    "    \n",
    "    "
   ]
  },
  {
   "cell_type": "code",
   "execution_count": 630,
   "metadata": {},
   "outputs": [
    {
     "data": {
      "text/plain": [
       "[[True, True, False, False, True],\n",
       " [True, True, True, False, False],\n",
       " [False, False, False, False, False],\n",
       " [True, True, True, True, True]]"
      ]
     },
     "execution_count": 630,
     "metadata": {},
     "output_type": "execute_result"
    }
   ],
   "source": [
    "visited"
   ]
  },
  {
   "cell_type": "code",
   "execution_count": 629,
   "metadata": {},
   "outputs": [
    {
     "data": {
      "text/plain": [
       "3"
      ]
     },
     "execution_count": 629,
     "metadata": {},
     "output_type": "execute_result"
    }
   ],
   "source": [
    "dfs(mat,visited)"
   ]
  },
  {
   "cell_type": "code",
   "execution_count": 620,
   "metadata": {},
   "outputs": [],
   "source": [
    "# ver.youngsil\n",
    "def visit(mat,visited,a,b): # a,b= x,y 좌표\n",
    "    if 0 > a or a >= m or 0 > b or b >= n or visited[b][a]==True or mat[b][a]==1: \n",
    "        return\n",
    "    visited[b][a]=True\n",
    "    visit(mat,visited,a+1,b)\n",
    "    visit(mat,visited,a-1,b)\n",
    "    visit(mat,visited,a,b+1)\n",
    "    visit(mat,visited,a,b-1)\n",
    "    \n",
    "def dfs(mat,visited):\n",
    "    count=0\n",
    "    for i in range(len(mat)): \n",
    "        for j in range(len(mat[0])): \n",
    "            if visited[i][j]==True or mat[i][j] == 1:\n",
    "                continue\n",
    "            visit(mat,visited,j,i)\n",
    "            count+=1\n",
    "    return count"
   ]
  },
  {
   "cell_type": "code",
   "execution_count": 621,
   "metadata": {},
   "outputs": [
    {
     "data": {
      "text/plain": [
       "3"
      ]
     },
     "execution_count": 621,
     "metadata": {},
     "output_type": "execute_result"
    }
   ],
   "source": [
    "dfs(mat,visited)"
   ]
  },
  {
   "cell_type": "code",
   "execution_count": 622,
   "metadata": {},
   "outputs": [
    {
     "data": {
      "text/plain": [
       "[[True, True, False, False, True],\n",
       " [True, True, True, False, False],\n",
       " [False, False, False, False, False],\n",
       " [True, True, True, True, True]]"
      ]
     },
     "execution_count": 622,
     "metadata": {},
     "output_type": "execute_result"
    }
   ],
   "source": [
    "visited"
   ]
  },
  {
   "cell_type": "code",
   "execution_count": 351,
   "metadata": {},
   "outputs": [
    {
     "data": {
      "text/plain": [
       "0"
      ]
     },
     "execution_count": 351,
     "metadata": {},
     "output_type": "execute_result"
    }
   ],
   "source": [
    "dfs(visited,mat,0,0)\n"
   ]
  },
  {
   "cell_type": "code",
   "execution_count": 350,
   "metadata": {},
   "outputs": [
    {
     "data": {
      "text/plain": [
       "[[True, False, False, False, False],\n",
       " [False, False, False, False, False],\n",
       " [False, False, False, False, False],\n",
       " [False, False, False, False, False]]"
      ]
     },
     "execution_count": 350,
     "metadata": {},
     "output_type": "execute_result"
    }
   ],
   "source": [
    "visited"
   ]
  },
  {
   "cell_type": "code",
   "execution_count": 139,
   "metadata": {},
   "outputs": [
    {
     "name": "stdout",
     "output_type": "stream",
     "text": [
      "5 3\n"
     ]
    }
   ],
   "source": [
    "n,r=map(int,input().split())"
   ]
  },
  {
   "cell_type": "code",
   "execution_count": 256,
   "metadata": {},
   "outputs": [],
   "source": [
    "abc=[i+1 for i in range(n)]"
   ]
  },
  {
   "cell_type": "code",
   "execution_count": null,
   "metadata": {},
   "outputs": [],
   "source": [
    "permu(3,1)"
   ]
  },
  {
   "cell_type": "code",
   "execution_count": 279,
   "metadata": {},
   "outputs": [],
   "source": []
  },
  {
   "cell_type": "code",
   "execution_count": 253,
   "metadata": {},
   "outputs": [
    {
     "data": {
      "text/plain": [
       "[5]"
      ]
     },
     "execution_count": 253,
     "metadata": {},
     "output_type": "execute_result"
    }
   ],
   "source": []
  },
  {
   "cell_type": "code",
   "execution_count": 289,
   "metadata": {},
   "outputs": [
    {
     "name": "stdout",
     "output_type": "stream",
     "text": [
      "[1, 2, 3]\n",
      "[1, 2, 4]\n",
      "[1, 2, 5]\n",
      "[1, 3, 2]\n",
      "[1, 3, 4]\n",
      "[1, 3, 5]\n",
      "[1, 4, 2]\n",
      "[1, 4, 3]\n",
      "[1, 4, 5]\n",
      "[1, 5, 2]\n",
      "[1, 5, 3]\n",
      "[1, 5, 4]\n",
      "[2, 1, 3]\n",
      "[2, 1, 4]\n",
      "[2, 1, 5]\n",
      "[2, 3, 1]\n",
      "[2, 3, 4]\n",
      "[2, 3, 5]\n",
      "[2, 4, 1]\n",
      "[2, 4, 3]\n",
      "[2, 4, 5]\n",
      "[2, 5, 1]\n",
      "[2, 5, 3]\n",
      "[2, 5, 4]\n",
      "[3, 1, 2]\n",
      "[3, 1, 4]\n",
      "[3, 1, 5]\n",
      "[3, 2, 1]\n",
      "[3, 2, 4]\n",
      "[3, 2, 5]\n",
      "[3, 4, 1]\n",
      "[3, 4, 2]\n",
      "[3, 4, 5]\n",
      "[3, 5, 1]\n",
      "[3, 5, 2]\n",
      "[3, 5, 4]\n",
      "[4, 1, 2]\n",
      "[4, 1, 3]\n",
      "[4, 1, 5]\n",
      "[4, 2, 1]\n",
      "[4, 2, 3]\n",
      "[4, 2, 5]\n",
      "[4, 3, 1]\n",
      "[4, 3, 2]\n",
      "[4, 3, 5]\n",
      "[4, 5, 1]\n",
      "[4, 5, 2]\n",
      "[4, 5, 3]\n",
      "[5, 1, 2]\n",
      "[5, 1, 3]\n",
      "[5, 1, 4]\n",
      "[5, 2, 1]\n",
      "[5, 2, 3]\n",
      "[5, 2, 4]\n",
      "[5, 3, 1]\n",
      "[5, 3, 2]\n",
      "[5, 3, 4]\n",
      "[5, 4, 1]\n",
      "[5, 4, 2]\n",
      "[5, 4, 3]\n"
     ]
    }
   ],
   "source": [
    "def solution(arr, n, r) :\n",
    "    answer = [0] * r\n",
    "    selected = [False] * n\n",
    "    dfs(arr, answer, selected, n, 0, r)\n",
    "\n",
    "def dfs(arr, answer, selected, n, depth, r) :\n",
    "    if(count == r) :\n",
    "        print(answer)\n",
    "        return\n",
    "    for i in range(n) :\n",
    "        if(selected[i]==True) :\n",
    "            continue\n",
    "        selected[i]=True\n",
    "        answer[depth] = arr[i]\n",
    "        dfs(arr, answer, selected, n, depth+1, r)\n",
    "        selected[i]=False\n",
    "        \n",
    "solution([1,2,3,4,5],5,3)"
   ]
  },
  {
   "cell_type": "code",
   "execution_count": null,
   "metadata": {},
   "outputs": [],
   "source": [
    "def solution(arr, n, r) :\n",
    "    result=[0]*n\n",
    "    selected = [False] * n\n",
    "    permutation(arr, selected, result, n, count, r)\n",
    "\n",
    "    def permutation(arr, selected, result, n, count, r) :\n",
    "        \n"
   ]
  },
  {
   "cell_type": "code",
   "execution_count": 290,
   "metadata": {},
   "outputs": [
    {
     "name": "stdout",
     "output_type": "stream",
     "text": [
      "[(1, 2), (1, 3), (1, 4), (2, 3), (2, 4), (3, 4)]\n"
     ]
    }
   ],
   "source": [
    "from itertools import permutations\n",
    "from itertools import combinations\n",
    "\n",
    "a = []\n",
    "b = []\n",
    "items= [1,2,3,4]\n",
    "for i in list(combinations(items,2)):\n",
    "    a.append(i)\n",
    "print(a)"
   ]
  },
  {
   "cell_type": "code",
   "execution_count": 291,
   "metadata": {},
   "outputs": [
    {
     "name": "stdout",
     "output_type": "stream",
     "text": [
      "[(1, 2), (1, 3), (1, 4), (2, 1), (2, 3), (2, 4), (3, 1), (3, 2), (3, 4), (4, 1), (4, 2), (4, 3)]\n"
     ]
    }
   ],
   "source": [
    "for i in list(permutations(items,2)):\n",
    "    b.append(i)\n",
    "print(b)"
   ]
  }
 ],
 "metadata": {
  "kernelspec": {
   "display_name": "Python 3",
   "language": "python",
   "name": "python3"
  },
  "language_info": {
   "codemirror_mode": {
    "name": "ipython",
    "version": 3
   },
   "file_extension": ".py",
   "mimetype": "text/x-python",
   "name": "python",
   "nbconvert_exporter": "python",
   "pygments_lexer": "ipython3",
   "version": "3.7.7"
  }
 },
 "nbformat": 4,
 "nbformat_minor": 2
}
