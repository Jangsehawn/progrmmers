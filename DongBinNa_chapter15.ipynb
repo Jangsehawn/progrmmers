{
 "cells": [
  {
   "cell_type": "markdown",
   "metadata": {},
   "source": [
    "# 27 정렬된 배열에서 특정 수의 개수 구하기"
   ]
  },
  {
   "cell_type": "code",
   "execution_count": 2,
   "metadata": {},
   "outputs": [
    {
     "name": "stdout",
     "output_type": "stream",
     "text": [
      "7 2\n"
     ]
    }
   ],
   "source": [
    "n,x = map(int,input().split()) # 길이 n인 리스트에서 x의 개수 구하기 (O(logn)으로)"
   ]
  },
  {
   "cell_type": "code",
   "execution_count": 26,
   "metadata": {},
   "outputs": [
    {
     "data": {
      "text/plain": [
       "True"
      ]
     },
     "execution_count": 26,
     "metadata": {},
     "output_type": "execute_result"
    }
   ],
   "source": [
    "lis=[1,1,2,2,2,2,3]\n",
    "\n",
    "# target을 찾고 앞뒤로 count하는 전략\n",
    "\n",
    "x in list(set(lis)) \n"
   ]
  },
  {
   "cell_type": "code",
   "execution_count": 55,
   "metadata": {},
   "outputs": [],
   "source": [
    "start=0\n",
    "end=-1\n",
    "mid=n//2\n",
    "x=2\n",
    "def binary_search(lis,x,start,end):\n",
    "    while start < end:\n",
    "        mid= (start+end)//2\n",
    "        if lis[mid]==x:\n",
    "            i=0\n",
    "            j=0\n",
    "            count=0\n",
    "            while lis[mid+i]==x:\n",
    "                i+=1\n",
    "                count+=1 \n",
    "            while lis[mid-j]==x:\n",
    "                j+=1\n",
    "                count+=1\n",
    "            \n",
    "        elif lis[mid]> x:\n",
    "            end = mid -1\n",
    "        else:\n",
    "            start=mid+1\n",
    "    return count-1         "
   ]
  },
  {
   "cell_type": "code",
   "execution_count": 78,
   "metadata": {},
   "outputs": [],
   "source": [
    "def binary_search(lis,x,start,end): # target이 포함되어 있는 인덱스 찾기\n",
    "    while lis[start] <= lis[end]:\n",
    "        mid= (start+end)//2\n",
    "        if lis[mid]==x:\n",
    "            return mid\n",
    "        elif lis[mid]> x:\n",
    "            end = mid -1\n",
    "        else:\n",
    "            start=mid+1      "
   ]
  },
  {
   "cell_type": "code",
   "execution_count": 80,
   "metadata": {},
   "outputs": [
    {
     "data": {
      "text/plain": [
       "4"
      ]
     },
     "execution_count": 80,
     "metadata": {},
     "output_type": "execute_result"
    }
   ],
   "source": [
    "x=2\n",
    "lis=[1,1,2,2,2,2,3]\n",
    "j=0\n",
    "i=0\n",
    "count=0\n",
    "while lis[mid-j]==x: # 인덱스 앞뒤로 같은것 개수 세기\n",
    "    j+=1\n",
    "    count+=1\n",
    "while lis[mid+i]==x:\n",
    "    i+=1\n",
    "    count+=1     \n",
    "count-1    "
   ]
  },
  {
   "cell_type": "code",
   "execution_count": 54,
   "metadata": {},
   "outputs": [
    {
     "name": "stdout",
     "output_type": "stream",
     "text": [
      "-1\n"
     ]
    }
   ],
   "source": [
    "import bisect # 라이브로리 활용\n",
    "lis=[1,1,2,2,2,2,3]\n",
    "x=4\n",
    "print(bisect.bisect(lis,x+1)-bisect.bisect(lis,x-1)-1) # -> 해당 값이 들어갈 인덱스를 찾아줌"
   ]
  },
  {
   "cell_type": "markdown",
   "metadata": {},
   "source": [
    "# 28 고정점 찾기"
   ]
  },
  {
   "cell_type": "code",
   "execution_count": 86,
   "metadata": {},
   "outputs": [],
   "source": [
    "n= 7\n",
    "lis=[-15,-4,2,8,9,13,15]"
   ]
  },
  {
   "cell_type": "code",
   "execution_count": 87,
   "metadata": {},
   "outputs": [],
   "source": [
    "start=0\n",
    "end=n-1\n",
    "def binary_search_fix(lis,start,end):\n",
    "    while lis[start] <= lis[end]:\n",
    "        mid= (start+end)//2\n",
    "        if lis[mid]==mid:\n",
    "            return mid\n",
    "        elif lis[mid]> x:\n",
    "            end = mid -1\n",
    "        else:\n",
    "            start=mid+1 \n",
    "    return mid        "
   ]
  },
  {
   "cell_type": "code",
   "execution_count": 88,
   "metadata": {},
   "outputs": [
    {
     "data": {
      "text/plain": [
       "2"
      ]
     },
     "execution_count": 88,
     "metadata": {},
     "output_type": "execute_result"
    }
   ],
   "source": [
    "binary_search_fix(lis,start,end)"
   ]
  },
  {
   "cell_type": "code",
   "execution_count": 90,
   "metadata": {},
   "outputs": [
    {
     "data": {
      "text/plain": [
       "[1, 6, 15, 446, 4363]"
      ]
     },
     "execution_count": 90,
     "metadata": {},
     "output_type": "execute_result"
    }
   ],
   "source": [
    "abc=[1,4363,15,6,446]\n",
    "abc.sort()\n",
    "abc"
   ]
  },
  {
   "cell_type": "markdown",
   "metadata": {},
   "source": [
    "# 29 공유기설치 ->문제 이해X"
   ]
  },
  {
   "cell_type": "code",
   "execution_count": 92,
   "metadata": {},
   "outputs": [],
   "source": [
    "n,c=5,3\n",
    "lis=[1,2,8,4,9]"
   ]
  },
  {
   "cell_type": "code",
   "execution_count": 93,
   "metadata": {},
   "outputs": [
    {
     "data": {
      "text/plain": [
       "[1, 2, 4, 8, 9]"
      ]
     },
     "execution_count": 93,
     "metadata": {},
     "output_type": "execute_result"
    }
   ],
   "source": [
    "lis.sort()\n",
    "lis"
   ]
  }
 ],
 "metadata": {
  "kernelspec": {
   "display_name": "Python 3",
   "language": "python",
   "name": "python3"
  },
  "language_info": {
   "codemirror_mode": {
    "name": "ipython",
    "version": 3
   },
   "file_extension": ".py",
   "mimetype": "text/x-python",
   "name": "python",
   "nbconvert_exporter": "python",
   "pygments_lexer": "ipython3",
   "version": "3.7.9"
  }
 },
 "nbformat": 4,
 "nbformat_minor": 4
}
