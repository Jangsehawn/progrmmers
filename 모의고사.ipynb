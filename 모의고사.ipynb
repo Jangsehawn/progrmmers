{
 "cells": [
  {
   "cell_type": "code",
   "execution_count": 7,
   "metadata": {},
   "outputs": [
    {
     "data": {
      "text/plain": [
       "[1, 2, 3, 4, 5, 1, 2, 3, 4, 5, 1, 2, 3, 4, 5, 1, 2, 3, 4, 5]"
      ]
     },
     "execution_count": 7,
     "metadata": {},
     "output_type": "execute_result"
    }
   ],
   "source": [
    "a=[1,2,3,4,5]*4\n",
    "a"
   ]
  },
  {
   "cell_type": "code",
   "execution_count": 9,
   "metadata": {},
   "outputs": [
    {
     "data": {
      "text/plain": [
       "2"
      ]
     },
     "execution_count": 9,
     "metadata": {},
     "output_type": "execute_result"
    }
   ],
   "source": [
    "import numpy as np\n",
    "\n",
    "sum(np.equal([0,1,3],[0,1,2]))\n"
   ]
  },
  {
   "cell_type": "code",
   "execution_count": 10,
   "metadata": {},
   "outputs": [
    {
     "data": {
      "text/plain": [
       "[1, 2, 3, 4, 1, 2, 3, 4, 1, 2, 3, 4, 1, 2, 3, 4]"
      ]
     },
     "execution_count": 10,
     "metadata": {},
     "output_type": "execute_result"
    }
   ],
   "source": [
    "answer=[1,2,3,4]\n",
    "answer*4\n"
   ]
  },
  {
   "cell_type": "code",
   "execution_count": 11,
   "metadata": {},
   "outputs": [
    {
     "data": {
      "text/plain": [
       "[1, 2, 3, 4]"
      ]
     },
     "execution_count": 11,
     "metadata": {},
     "output_type": "execute_result"
    }
   ],
   "source": [
    "a=[4,3,2,1]\n",
    "a.sort()\n",
    "a"
   ]
  },
  {
   "cell_type": "code",
   "execution_count": 14,
   "metadata": {},
   "outputs": [
    {
     "name": "stdout",
     "output_type": "stream",
     "text": [
      "16\n",
      "11\n",
      "8\n"
     ]
    }
   ],
   "source": [
    "answers=[1,3,2,4,2]\n",
    "answer = []\n",
    "    \n",
    "a1=[1,2,3,4,5]*8 # 1,2,3,4,5 -> 5\n",
    "a2=[2, 1, 2, 3, 2, 4, 2, 5]*5 # 2, 1, 2, 3, 2, 4, 2, 5 -> 8\n",
    "a3=[3, 3, 1, 1, 2, 2, 4, 4, 5, 5 ]*4 # 3, 3, 1, 1, 2, 2, 4, 4, 5, 5 -> 10\n",
    "# -> 40개 까지 확인하고 출력하면 됨\n",
    "    \n",
    "    \n",
    "if max(sum(np.equal(a1,answers*8)),sum(np.equal(a2,answers*8)),sum(np.equal(a3,answers*8))) == sum(np.equal(a1,answers*8)):\n",
    "    answer.append(1)\n",
    "if max(sum(np.equal(a1,answers*8)),sum(np.equal(a2,answers*8)),sum(np.equal(a3,answers*8))) == sum(np.equal(a2,answers*8)):\n",
    "    answer.append(2)\n",
    "if max(sum(np.equal(a1,answers*8)),sum(np.equal(a2,answers*8)),sum(np.equal(a3,answers*8))) == sum(np.equal(a3,answers*8)):\n",
    "    answer.append(3)\n",
    "        \n",
    "answer.sort()\n",
    "answer   \n",
    "print(sum(np.equal(a1,answers*8)))\n",
    "print(sum(np.equal(a2,answers*8)))\n",
    "print(sum(np.equal(a3,answers*8)))"
   ]
  },
  {
   "cell_type": "code",
   "execution_count": 15,
   "metadata": {},
   "outputs": [],
   "source": [
    "# 최종 나의 풀이\n",
    "import numpy as np\n",
    "\n",
    "def solution(answers):\n",
    "    answer = []\n",
    "    \n",
    "    a1=[1,2,3,4,5]*8*250 # 1,2,3,4,5 -> 5\n",
    "    a2=[2, 1, 2, 3, 2, 4, 2, 5]*5*250 # 2, 1, 2, 3, 2, 4, 2, 5 -> 8\n",
    "    a3=[3, 3, 1, 1, 2, 2, 4, 4, 5, 5 ]*4*250 # 3, 3, 1, 1, 2, 2, 4, 4, 5, 5 -> 10\n",
    "    # -> 40개 까지 확인하고 출력하면 됨 -> 최대 10000문제이므로 들어오는것만 비교하면 됨\n",
    "    \n",
    "\n",
    "    if max(sum(np.equal(a1[:len(answers)],answers)),sum(np.equal(a2[:len(answers)],answers)),sum(np.equal(a3[:len(answers)],answers))) == sum(np.equal(a1[:len(answers)],answers)):\n",
    "        answer.append(1)\n",
    "    if max(sum(np.equal(a1[:len(answers)],answers)),sum(np.equal(a2[:len(answers)],answers)),sum(np.equal(a3[:len(answers)],answers))) == sum(np.equal(a2[:len(answers)],answers)):\n",
    "        answer.append(2)\n",
    "    if max(sum(np.equal(a1[:len(answers)],answers)),sum(np.equal(a2[:len(answers)],answers)),sum(np.equal(a3[:len(answers)],answers))) == sum(np.equal(a3[:len(answers)],answers)):\n",
    "        answer.append(3)    \n",
    "        \n",
    "    answer.sort()\n",
    "    return answer"
   ]
  }
 ],
 "metadata": {
  "kernelspec": {
   "display_name": "Python 3",
   "language": "python",
   "name": "python3"
  },
  "language_info": {
   "codemirror_mode": {
    "name": "ipython",
    "version": 3
   },
   "file_extension": ".py",
   "mimetype": "text/x-python",
   "name": "python",
   "nbconvert_exporter": "python",
   "pygments_lexer": "ipython3",
   "version": "3.7.9"
  }
 },
 "nbformat": 4,
 "nbformat_minor": 4
}
