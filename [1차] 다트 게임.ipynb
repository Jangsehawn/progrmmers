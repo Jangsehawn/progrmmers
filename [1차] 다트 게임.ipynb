{
 "cells": [
  {
   "cell_type": "code",
   "execution_count": 6,
   "metadata": {},
   "outputs": [
    {
     "data": {
      "text/plain": [
       "2"
      ]
     },
     "execution_count": 6,
     "metadata": {},
     "output_type": "execute_result"
    }
   ],
   "source": [
    "1**1 * 2"
   ]
  },
  {
   "cell_type": "code",
   "execution_count": 8,
   "metadata": {},
   "outputs": [
    {
     "data": {
      "text/plain": [
       "'S#'"
      ]
     },
     "execution_count": 8,
     "metadata": {},
     "output_type": "execute_result"
    }
   ],
   "source": [
    "a='1D2S#10S'\n",
    "a[3:5]"
   ]
  },
  {
   "cell_type": "code",
   "execution_count": 1,
   "metadata": {},
   "outputs": [],
   "source": [
    "import re\n",
    "\n",
    "def solution(dartResult): \n",
    "    answer = 0\n",
    "    # (숫자,문자)+(숫자,문자)+...\n",
    "    plus=[]\n",
    "    # 10이 될 수 도 있음, 맨마지막 단위 처리, *에 당첨시 '해당 점수'와 '바로 전에 얻은 점수'를 각 2배\n",
    "    # 맨 마지막 처리->temp를 리스트에 저장하여 한꺼번에 더하자\n",
    "    # *에 당첨시 '해당 점수'와 '바로 전에 얻은 점수'를 각 2배->temp를 리스트에 저장하여 한꺼번에 더하자\n",
    "    \n",
    "    #10이 될 수도 있음\n",
    "    \n",
    "    for i in range(len(dartResult)):\n",
    "        # 숫자인 경우\n",
    "        if len(re.findall(r\"[0-9]\",dartResult[i]))==1:\n",
    "            #10\n",
    "            if i<len(dartResult)-1 and len(re.findall(r\"[0-9]\",dartResult[i+1]))==1:\n",
    "                plus.append(10)\n",
    "            # 1    \n",
    "            elif int(re.findall(r\"[0-9]\",dartResult[i])[0]) ==1:\n",
    "                plus.append(1)\n",
    "            # 10에서 0    \n",
    "            elif int(re.findall(r\"[0-9]\",dartResult[i])[0]) ==0 and len(re.findall(r\"[0-9]\",dartResult[i-1]))==1:\n",
    "                continue\n",
    "            # other    \n",
    "            else:\n",
    "                plus.append(int(re.findall(r\"[0-9]\",dartResult[i])[0]))\n",
    "                 \n",
    "        print(plus)        \n",
    "        # 문자인 경우 \n",
    "        if dartResult[i]=='S':\n",
    "            plus[-1]=plus[-1]\n",
    "        elif dartResult[i]=='D':\n",
    "            plus[-1]=plus[-1]**2\n",
    "        elif dartResult[i]=='T':\n",
    "            plus[-1]=plus[-1]**3\n",
    "        elif len(plus)>1 and dartResult[i]=='*':\n",
    "            plus[-1]=2*plus[-1]\n",
    "            plus[-2]=2*plus[-2]\n",
    "        elif len(plus)==1 and dartResult[i]=='*':\n",
    "            plus[-1]=2*plus[-1]\n",
    "        elif dartResult[i]=='#':    \n",
    "            plus[-1]= (-1)*plus[-1]\n",
    "        \n",
    "    for i in plus:\n",
    "        answer+=i\n",
    "    \n",
    "            \n",
    "    return answer"
   ]
  },
  {
   "cell_type": "code",
   "execution_count": null,
   "metadata": {},
   "outputs": [],
   "source": []
  },
  {
   "cell_type": "code",
   "execution_count": null,
   "metadata": {},
   "outputs": [],
   "source": []
  }
 ],
 "metadata": {
  "kernelspec": {
   "display_name": "Python 3",
   "language": "python",
   "name": "python3"
  },
  "language_info": {
   "codemirror_mode": {
    "name": "ipython",
    "version": 3
   },
   "file_extension": ".py",
   "mimetype": "text/x-python",
   "name": "python",
   "nbconvert_exporter": "python",
   "pygments_lexer": "ipython3",
   "version": "3.7.9"
  }
 },
 "nbformat": 4,
 "nbformat_minor": 4
}
