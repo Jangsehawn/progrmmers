{
 "cells": [
  {
   "cell_type": "code",
   "execution_count": 17,
   "metadata": {},
   "outputs": [
    {
     "data": {
      "text/plain": [
       "55"
      ]
     },
     "execution_count": 17,
     "metadata": {},
     "output_type": "execute_result"
    }
   ],
   "source": [
    "#1 1 2 3 5 8 13 21 34...\n",
    "def fibo(n, dp):\n",
    "    #base case\n",
    "    if n<3:\n",
    "        return 1\n",
    "    \n",
    "    #전처리 \n",
    "    \n",
    "    #memoization\n",
    "    if n <len(dp):\n",
    "        return dp[n]\n",
    "    \n",
    "    dp.append(fibo(n-1, dp) + fibo(n-2, dp))\n",
    "    #재귀\n",
    "    return dp[n] \n",
    "\n",
    "\n",
    "dp = [0, 1, 1]\n",
    "fibo(10, dp) # 19\n"
   ]
  },
  {
   "cell_type": "code",
   "execution_count": 22,
   "metadata": {},
   "outputs": [
    {
     "data": {
      "text/plain": [
       "0"
      ]
     },
     "execution_count": 22,
     "metadata": {},
     "output_type": "execute_result"
    }
   ],
   "source": [
    "mat=[\n",
    "    [0,1,0,0],\n",
    "    [0,0,1,0],\n",
    "    [0,1,0,0],\n",
    "    [0,0,0,0]\n",
    "]\n",
    "visited = [\n",
    "    [False, False,False, False],\n",
    "    [False, False,False, False],\n",
    "    [False, False,False, False],\n",
    "    [False, False,False, False]\n",
    "]\n",
    "\n",
    "def dfs(a, b):\n",
    "    #base case\n",
    "    if a < 0 or a >=len(mat) or b < 0 or b >= len(mat) or mat[a][b] == 1 or visited[a][b]==True : \n",
    "        # a,b 범위에 따라 visited[a][b] 가 범위 밖으로 나갈 수 있으므로 나중에 씀\n",
    "        return 0;\n",
    "    \n",
    "    #전처리\n",
    "    visited[a][b] = True\n",
    "    \n",
    "    #재귀\n",
    "    return dfs(a-1, b) + dfs(a+1, b) + dfs(a, b-1) + dfs(a, b+1) + 1\n",
    "\n",
    "dfs(0,1)    "
   ]
  },
  {
   "cell_type": "code",
   "execution_count": 35,
   "metadata": {},
   "outputs": [],
   "source": [
    "# 0,0에서 방문할 수 있는 모든 점의 개수 (0만 지나갈 수 있음)\n",
    "\n",
    "mat2=[\n",
    "    [0,0,0,0,0],\n",
    "    [1,1,0,1,0],\n",
    "    [0,0,0,0,0],\n",
    "    [0,1,1,1,1],\n",
    "    [0,0,0,0,0]\n",
    "]\n",
    "visited = [\n",
    "    [False]*len(mat2[0]) for i in range(len(mat2))\n",
    "]"
   ]
  },
  {
   "cell_type": "code",
   "execution_count": 36,
   "metadata": {},
   "outputs": [
    {
     "data": {
      "text/plain": [
       "18"
      ]
     },
     "execution_count": 36,
     "metadata": {},
     "output_type": "execute_result"
    }
   ],
   "source": [
    "def recur(a,b):\n",
    "    # base case\n",
    "    \n",
    "    if 0 > a or a >= len(mat2[0]) or 0 > b or b >= len(mat2) or mat2[a][b]==1 or visited[a][b]== True:\n",
    "        return 0\n",
    "    \n",
    "    visited[a][b]=True\n",
    "    \n",
    "    # recursion\n",
    "    \n",
    "    return recur(a+1,b)+recur(a-1,b)+recur(a,b-1)+recur(a,b+1)+1\n",
    "\n",
    "recur(0,0)"
   ]
  },
  {
   "cell_type": "code",
   "execution_count": 46,
   "metadata": {},
   "outputs": [],
   "source": [
    "# 0,0에서 방문할 수 있는 모든 점의 개수 (0만 지나갈 수 있음)\n",
    "\n",
    "mat3=[\n",
    "    [0,0,0,0,0],\n",
    "    [1,1,0,1,0],\n",
    "    [0,0,0,0,0],\n",
    "    [0,1,1,1,1],\n",
    "    [0,0,0,0,0]\n",
    "]\n",
    "minDistance = [\n",
    "    [1000]*len(mat3[0]) for i in range(len(mat3))\n",
    "]"
   ]
  },
  {
   "cell_type": "code",
   "execution_count": 49,
   "metadata": {},
   "outputs": [
    {
     "data": {
      "text/plain": [
       "[[0, 1, 2, 3, 4],\n",
       " [1000, 1000, 3, 1000, 5],\n",
       " [6, 5, 4, 5, 6],\n",
       " [7, 1000, 1000, 1000, 1000],\n",
       " [8, 9, 10, 11, 12]]"
      ]
     },
     "execution_count": 49,
     "metadata": {},
     "output_type": "execute_result"
    }
   ],
   "source": [
    "def recur(a, b, count) :\n",
    "    #base case\n",
    "    if 0 > a or a >= len(mat3[0]) or 0 > b or b >= len(mat3) or mat3[a][b]==1 or minDistance[a][b] <= count:\n",
    "        return\n",
    "    \n",
    "    #전처리\n",
    "    minDistance[a][b] = count\n",
    "    \n",
    "    #재귀\n",
    "    recur(a+1,b, count+1)\n",
    "    recur(a-1,b, count+1)\n",
    "    recur(a,b-1, count+1)\n",
    "    recur(a,b+1, count+1)\n",
    "\n",
    "recur(0,0,0)\n",
    "minDistance"
   ]
  },
  {
   "cell_type": "code",
   "execution_count": 41,
   "metadata": {},
   "outputs": [
    {
     "data": {
      "text/plain": [
       "[[1000, 1000, 1000, 1000, 1000],\n",
       " [1000, 1000, 1000, 1000, 1000],\n",
       " [1000, 1000, 1000, 1000, 1000],\n",
       " [1000, 1000, 1000, 1000, 1000],\n",
       " [1000, 1000, 1000, 1000, 1000]]"
      ]
     },
     "execution_count": 41,
     "metadata": {},
     "output_type": "execute_result"
    }
   ],
   "source": [
    "visited"
   ]
  },
  {
   "cell_type": "code",
   "execution_count": null,
   "metadata": {},
   "outputs": [],
   "source": []
  },
  {
   "cell_type": "code",
   "execution_count": null,
   "metadata": {},
   "outputs": [],
   "source": []
  },
  {
   "cell_type": "code",
   "execution_count": null,
   "metadata": {},
   "outputs": [],
   "source": []
  },
  {
   "cell_type": "code",
   "execution_count": null,
   "metadata": {},
   "outputs": [],
   "source": []
  }
 ],
 "metadata": {
  "kernelspec": {
   "display_name": "Python 3",
   "language": "python",
   "name": "python3"
  },
  "language_info": {
   "codemirror_mode": {
    "name": "ipython",
    "version": 3
   },
   "file_extension": ".py",
   "mimetype": "text/x-python",
   "name": "python",
   "nbconvert_exporter": "python",
   "pygments_lexer": "ipython3",
   "version": "3.7.7"
  }
 },
 "nbformat": 4,
 "nbformat_minor": 2
}
