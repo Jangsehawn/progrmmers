{
 "cells": [
  {
   "cell_type": "code",
   "execution_count": 1,
   "metadata": {},
   "outputs": [],
   "source": [
    "\n",
    "def solution(nums):\n",
    "    answer = 0\n",
    "    \n",
    "    # 1. 3가지 숫자를 고르기\n",
    "    pool=[]\n",
    "    for i in range(len(nums)):\n",
    "        for j in range(len(nums)-i-1):\n",
    "            for k in range(len(nums)-i-j-2):\n",
    "                pool.append(nums[i]+nums[i+j+1]+nums[i+j+k+2])\n",
    "    #pool=list(set(pool)) # 소수를 만드는 경우가 여러개일 수 있으므로  집합으로 중복을 제거하면 안됨\n",
    "    \n",
    "    # 2. 소수판단\n",
    "    for i in range(len(pool)):\n",
    "        b=0\n",
    "        for j in range(2,pool[i]):\n",
    "            if pool[i]%j==0:\n",
    "                b=1\n",
    "        if b==0:\n",
    "            answer+=1\n",
    "    \n",
    "    return answer\n",
    "\n",
    "\n",
    "\n",
    "\n"
   ]
  },
  {
   "cell_type": "code",
   "execution_count": null,
   "metadata": {},
   "outputs": [],
   "source": []
  },
  {
   "cell_type": "code",
   "execution_count": null,
   "metadata": {},
   "outputs": [],
   "source": []
  }
 ],
 "metadata": {
  "kernelspec": {
   "display_name": "Python 3",
   "language": "python",
   "name": "python3"
  },
  "language_info": {
   "codemirror_mode": {
    "name": "ipython",
    "version": 3
   },
   "file_extension": ".py",
   "mimetype": "text/x-python",
   "name": "python",
   "nbconvert_exporter": "python",
   "pygments_lexer": "ipython3",
   "version": "3.7.9"
  }
 },
 "nbformat": 4,
 "nbformat_minor": 4
}
