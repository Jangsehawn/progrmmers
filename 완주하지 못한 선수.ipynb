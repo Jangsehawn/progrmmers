{
 "cells": [
  {
   "cell_type": "code",
   "execution_count": 2,
   "metadata": {},
   "outputs": [
    {
     "data": {
      "text/plain": [
       "'eden'"
      ]
     },
     "execution_count": 2,
     "metadata": {},
     "output_type": "execute_result"
    }
   ],
   "source": [
    "a=[\"leo\", \"kiki\", \"eden\"]\n",
    "a=list(set(a))\n",
    "a[1]"
   ]
  },
  {
   "cell_type": "code",
   "execution_count": 3,
   "metadata": {},
   "outputs": [
    {
     "data": {
      "text/plain": [
       "['leo', 'kiki']"
      ]
     },
     "execution_count": 3,
     "metadata": {},
     "output_type": "execute_result"
    }
   ],
   "source": [
    "b=[\"leo\", \"kiki\", \"eden\"]\n",
    "b.remove(a[1])\n",
    "b"
   ]
  },
  {
   "cell_type": "code",
   "execution_count": 14,
   "metadata": {},
   "outputs": [],
   "source": [
    "# -> 해시를 사용하지 않음, 효율성 테스트 마지막 문제 통과못함 \n",
    "\n",
    "\n",
    "def solution(participant, completion):\n",
    "    a=set(participant)\n",
    "    b=set(completion)\n",
    "    if len(a) != len(b):\n",
    "        return list(a-b)[0]\n",
    "    else:\n",
    "        for i in participant:\n",
    "            if participant.count(i) != completion.count(i):\n",
    "                return i\n",
    "            else:\n",
    "                completion.remove(i)\n",
    "                del i"
   ]
  },
  {
   "cell_type": "code",
   "execution_count": 12,
   "metadata": {},
   "outputs": [],
   "source": [
    "# 최종으로 맞은 풀이 \n",
    "# del은 제일 최근 하나만 삭제하지만 remove는 해당 값 다 삭제\n",
    "def solution(participant, completion):\n",
    "    a=set(participant)\n",
    "    b=set(completion)\n",
    "    if len(a) != len(b):\n",
    "        return list(a-b)[0]\n",
    "    else: # 동명이인으로 참여자에 해당사람이 한명 더 많음\n",
    "        for i in participant:\n",
    "            if participant.count(i) != completion.count(i):\n",
    "                return i\n",
    "            else:\n",
    "                completion.remove(i)\n",
    "                participant.remove(i)"
   ]
  },
  {
   "cell_type": "code",
   "execution_count": 13,
   "metadata": {},
   "outputs": [],
   "source": [
    "# 다른 사람 풀이\n",
    "\n",
    "import collections\n",
    "\n",
    "\n",
    "def solution(participant, completion):\n",
    "    answer = collections.Counter(participant) - collections.Counter(completion)\n",
    "    return list(answer.keys())[0]"
   ]
  },
  {
   "cell_type": "code",
   "execution_count": 11,
   "metadata": {},
   "outputs": [
    {
     "data": {
      "text/plain": [
       "'leo'"
      ]
     },
     "execution_count": 11,
     "metadata": {},
     "output_type": "execute_result"
    }
   ],
   "source": [
    "import collections\n",
    "\n",
    "a=[\"leo\", \"kiki\", \"eden\"]\n",
    "a1=collections.Counter(a)\n",
    "b=[\"eden\", \"kiki\"]\n",
    "b1=collections.Counter(b)\n",
    "answer=a1-b1\n",
    "list(answer.keys())[0]"
   ]
  }
 ],
 "metadata": {
  "kernelspec": {
   "display_name": "Python 3",
   "language": "python",
   "name": "python3"
  },
  "language_info": {
   "codemirror_mode": {
    "name": "ipython",
    "version": 3
   },
   "file_extension": ".py",
   "mimetype": "text/x-python",
   "name": "python",
   "nbconvert_exporter": "python",
   "pygments_lexer": "ipython3",
   "version": "3.7.9"
  }
 },
 "nbformat": 4,
 "nbformat_minor": 4
}
