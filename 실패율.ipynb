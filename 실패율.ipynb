{
 "cells": [
  {
   "cell_type": "code",
   "execution_count": 5,
   "metadata": {},
   "outputs": [
    {
     "data": {
      "text/plain": [
       "[[1, 2], [2, 2], [2, 3], [3, 4], [6, 5]]"
      ]
     },
     "execution_count": 5,
     "metadata": {},
     "output_type": "execute_result"
    }
   ],
   "source": [
    "a=[[1,2],[2,3],[6,5],[3,4],[2,2]]\n",
    "a.sort()\n",
    "a# -> 앞에꺼 기준으로 정렬"
   ]
  },
  {
   "cell_type": "code",
   "execution_count": 6,
   "metadata": {},
   "outputs": [
    {
     "data": {
      "text/plain": [
       "[[1, 0.125], [2, 0.42857142857142855], [3, 0.5], [4, 0.5], [5, 0]]"
      ]
     },
     "execution_count": 6,
     "metadata": {},
     "output_type": "execute_result"
    }
   ],
   "source": [
    "a=[[1,0.125],[2,0.42857142857142855],[3,0.5],[4,0.5],[5,0]]\n",
    "a.sort()\n",
    "a"
   ]
  },
  {
   "cell_type": "code",
   "execution_count": 11,
   "metadata": {},
   "outputs": [],
   "source": [
    "# 63점, 일부 케이스에서 오류가 있는 것 같음\n",
    "import collections\n",
    "\n",
    "def solution(N, stages):\n",
    "    answer = []\n",
    "    result=[] # 답 넣기\n",
    "    # 실패율 : 스테이지에 도달했으나 아직 클리어하지 못한 플레이어의 수 / 스테이지에 도달한 플레이어 수\n",
    "    # 실패율이 같을때는 작은 번호가 먼저\n",
    "    \n",
    "    # 실패율 계산\n",
    "    a=collections.Counter(stages)\n",
    "    b=len(stages)\n",
    "    for i in range(N):\n",
    "        answer.append([a[i+1]/b,i+1])\n",
    "        b-=a[i+1]\n",
    "    answer.sort(reverse=True)\n",
    "    print('answer',answer)\n",
    "    # 정렬하여 넣기 \n",
    "    same=[]\n",
    "    for i in range(len(answer)-1):\n",
    "        if answer[i][0]!=answer[i+1][0]: # 실패율 겹치는게 많을경우-> 겹치는거만 따로 빼서 정렬후 넣기\n",
    "            if i>0 and answer[i-1][0]==answer[i][0]:# 실패율 겹치는거 끝남\n",
    "                same.append(answer[i][1])# -> 같은 것 중 마지막 하나 넣음\n",
    "                same.sort()\n",
    "                print('same',same)\n",
    "                for j in range(len(same)):\n",
    "                    result.append(same[j])  \n",
    "                same=[] # 초기화\n",
    "            else:\n",
    "                result.append(answer[i][1])          \n",
    "        elif answer[i][0]==answer[i+1][0]:\n",
    "            same.append(answer[i][1])\n",
    "            \n",
    "        if i==len(answer)-2: # asnwer의 맨 마지막 원소\n",
    "            if answer[i][0]==answer[i+1][0]:#겹치는게 맨 마지막일 경우 \n",
    "                same.append(answer[i+1][1])# -> 같은 것 중 마지막 하나 넣음\n",
    "                same.sort()\n",
    "                print('same',same)\n",
    "                for k in range(len(same)):\n",
    "                    result.append(same[k])  \n",
    "                same=[]    \n",
    "            else:#맨마지막이 안겹칠경우  \n",
    "                result.append(answer[i+1][1])  \n",
    "    \n",
    "    return result"
   ]
  },
  {
   "cell_type": "code",
   "execution_count": 14,
   "metadata": {},
   "outputs": [
    {
     "data": {
      "text/plain": [
       "[[0.5, 5], [0.3, 3], [0.2, 2]]"
      ]
     },
     "execution_count": 14,
     "metadata": {},
     "output_type": "execute_result"
    }
   ],
   "source": [
    "#a=[[0.5, 4], [0.5, 3], [0.42857142857142855, 2], [0.125, 1], [0.0, 5]]\n",
    "a=[[0.3,3],[0.2,2],[0.5,5]]\n",
    "\n",
    "a.sort(reverse=True)\n",
    "a"
   ]
  },
  {
   "cell_type": "code",
   "execution_count": null,
   "metadata": {},
   "outputs": [],
   "source": [
    "N-> N단계에 도전중\n",
    "N+1-> N단계를 통과"
   ]
  },
  {
   "cell_type": "code",
   "execution_count": 15,
   "metadata": {},
   "outputs": [
    {
     "name": "stdout",
     "output_type": "stream",
     "text": [
      "Counter({2: 3, 3: 2, 1: 1, 6: 1, 4: 1})\n",
      "1\n"
     ]
    }
   ],
   "source": [
    "import collections\n",
    "\n",
    "stages=[2, 1, 2, 6, 2, 4, 3, 3]\n",
    "\n",
    "count=collections.Counter(stages)\n",
    "\n",
    "print(count)\n",
    "print(count[1])"
   ]
  },
  {
   "cell_type": "code",
   "execution_count": 17,
   "metadata": {},
   "outputs": [],
   "source": [
    "# 이것도 63점 -> 효율성만 잡으면 될 것 같기도 함\n",
    "def solution(N, stages):\n",
    "    answer=[]\n",
    "    # 실패율 =도달했으나 실패/ 도달 수\n",
    "    # 실패율 높은 것 부터 내림차순\n",
    "    # 실패율 같으면 작은번호가 먼저 오도록함 ****\n",
    "    a=[]\n",
    "    for i in range(N):\n",
    "        sum=0 # 도달 수\n",
    "        count=0 # 도달했으나 실패 수\n",
    "        for j in range(len(stages)):\n",
    "            if (i+1) <= stages[j]:\n",
    "                sum+=1\n",
    "            if (i+1)==stages[j]:\n",
    "                count+=1\n",
    "        a.append(count/sum) # a[i] -> i의 실패율\n",
    "        #print(a)\n",
    "    compare=sorted(a,reverse=True)\n",
    "    #print(compare)\n",
    "    for i in compare:\n",
    "        for j in range(len(a)):\n",
    "            if i==a[j]:\n",
    "                answer.append(j+1)\n",
    "                a[j]=10000\n",
    "\n",
    "    return answer"
   ]
  },
  {
   "cell_type": "code",
   "execution_count": 20,
   "metadata": {},
   "outputs": [],
   "source": [
    "# 88.9! -> 도전안한사람을 예외처리 해야함 but 시간초과 3문제\n",
    "\n",
    "def solution(N, stages):\n",
    "    answer=[]\n",
    "    # 실패율 =도달했으나 실패/ 도달 수\n",
    "    # 실패율 높은 것 부터 내림차순\n",
    "    # 실패율 같으면 작은번호가 먼저 오도록함 ****\n",
    "    a=[]\n",
    "    for i in range(N):\n",
    "        sum=0 # 도달 수\n",
    "        count=0 # 도달했으나 실패 수\n",
    "        for j in range(len(stages)):\n",
    "            if (i+1) <= stages[j]:\n",
    "                sum+=1\n",
    "            if (i+1)==stages[j]:\n",
    "                count+=1\n",
    "        if count==0 or sum==0: # 예외처리 해야함!!!!\n",
    "            a.append(0)\n",
    "        else:    \n",
    "            a.append(count/sum) # a[i] -> i의 실패율\n",
    "        #print(a)\n",
    "    compare=sorted(a,reverse=True)\n",
    "    #print(compare)\n",
    "    for i in compare:\n",
    "        for j in range(len(a)):\n",
    "            if i==a[j]:\n",
    "                answer.append(j+1)\n",
    "                a[j]=10000\n",
    "\n",
    "    return answer"
   ]
  },
  {
   "cell_type": "code",
   "execution_count": 19,
   "metadata": {},
   "outputs": [],
   "source": [
    "# 92.6 0일때 예외처리를 하니 92.6이 나왔지만 케이스 2갸를 틀림\n",
    "import collections\n",
    "\n",
    "def solution(N, stages):\n",
    "    answer = []\n",
    "    result=[] # 답 넣기\n",
    "    # 실패율 : 스테이지에 도달했으나 아직 클리어하지 못한 플레이어의 수 / 스테이지에 도달한 플레이어 수\n",
    "    # 실패율이 같을때는 작은 번호가 먼저\n",
    "    \n",
    "    # 실패율 계산\n",
    "    a=collections.Counter(stages)\n",
    "    b=len(stages)\n",
    "    for i in range(N):\n",
    "        if a[i+1]==0 or b==0:\n",
    "            answer.append([0,i+1])\n",
    "            b-=a[i+1]\n",
    "        else:    \n",
    "            answer.append([a[i+1]/b,i+1])\n",
    "            b-=a[i+1]\n",
    "    answer.sort(reverse=True)\n",
    "    print('answer',answer)\n",
    "    # 정렬하여 넣기 \n",
    "    same=[]\n",
    "    for i in range(len(answer)-1):\n",
    "        if answer[i][0]!=answer[i+1][0]: # 실패율 겹치는게 많을경우-> 겹치는거만 따로 빼서 정렬후 넣기\n",
    "            if i>0 and answer[i-1][0]==answer[i][0]:# 실패율 겹치는거 끝남\n",
    "                same.append(answer[i][1])# -> 같은 것 중 마지막 하나 넣음\n",
    "                same.sort()\n",
    "                print('same',same)\n",
    "                for j in range(len(same)):\n",
    "                    result.append(same[j])  \n",
    "                same=[] # 초기화\n",
    "            else:\n",
    "                result.append(answer[i][1])          \n",
    "        elif answer[i][0]==answer[i+1][0]:\n",
    "            same.append(answer[i][1])\n",
    "            \n",
    "        if i==len(answer)-2: # asnwer의 맨 마지막 원소\n",
    "            if answer[i][0]==answer[i+1][0]:#겹치는게 맨 마지막일 경우 \n",
    "                same.append(answer[i+1][1])# -> 같은 것 중 마지막 하나 넣음\n",
    "                same.sort()\n",
    "                print('same',same)\n",
    "                for k in range(len(same)):\n",
    "                    result.append(same[k])  \n",
    "                same=[]    \n",
    "            else:#맨마지막이 안겹칠경우  \n",
    "                result.append(answer[i+1][1])  \n",
    "    \n",
    "    return result"
   ]
  },
  {
   "cell_type": "code",
   "execution_count": 21,
   "metadata": {},
   "outputs": [],
   "source": [
    "# 최종풀이 !\n",
    "import collections\n",
    "\n",
    "def solution(N, stages):\n",
    "    answer=[]\n",
    "    a_1=collections.Counter(stages)\n",
    "    b=len(stages)\n",
    "    c=[0]*N\n",
    "    for i in range(N):\n",
    "        if a_1[i+1]==0 or b==0:\n",
    "            c[i]=0\n",
    "            b-=a_1[i+1]\n",
    "        else:\n",
    "            c[i]=a_1[i+1]/b\n",
    "            b-=a_1[i+1]\n",
    "    compare=sorted(c,reverse=True)\n",
    "    for i in compare:\n",
    "        answer.append(c.index(i)+1)\n",
    "        c[c.index(i)]=10000\n",
    "\n",
    "    return answer"
   ]
  },
  {
   "cell_type": "code",
   "execution_count": null,
   "metadata": {},
   "outputs": [],
   "source": []
  },
  {
   "cell_type": "code",
   "execution_count": null,
   "metadata": {},
   "outputs": [],
   "source": []
  },
  {
   "cell_type": "code",
   "execution_count": null,
   "metadata": {},
   "outputs": [],
   "source": []
  },
  {
   "cell_type": "code",
   "execution_count": null,
   "metadata": {},
   "outputs": [],
   "source": []
  }
 ],
 "metadata": {
  "kernelspec": {
   "display_name": "Python 3",
   "language": "python",
   "name": "python3"
  },
  "language_info": {
   "codemirror_mode": {
    "name": "ipython",
    "version": 3
   },
   "file_extension": ".py",
   "mimetype": "text/x-python",
   "name": "python",
   "nbconvert_exporter": "python",
   "pygments_lexer": "ipython3",
   "version": "3.7.9"
  }
 },
 "nbformat": 4,
 "nbformat_minor": 4
}
