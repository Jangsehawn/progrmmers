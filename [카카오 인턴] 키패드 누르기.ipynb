{
 "cells": [
  {
   "cell_type": "code",
   "execution_count": 6,
   "metadata": {},
   "outputs": [
    {
     "name": "stdout",
     "output_type": "stream",
     "text": [
      "0 2\n"
     ]
    }
   ],
   "source": [
    "number=3\n",
    "loc=[[1,2,3],[4,5,6],[7,8,9],['*',0,'#']]\n",
    "for i in range(len(loc)):\n",
    "    if number in loc[i]:\n",
    "        print(i,loc[i].index(number))\n",
    "#loc.index(number)\n",
    "    "
   ]
  },
  {
   "cell_type": "code",
   "execution_count": 4,
   "metadata": {},
   "outputs": [
    {
     "ename": "TypeError",
     "evalue": "argument of type 'int' is not iterable",
     "output_type": "error",
     "traceback": [
      "\u001b[1;31m---------------------------------------------------------------------------\u001b[0m",
      "\u001b[1;31mTypeError\u001b[0m                                 Traceback (most recent call last)",
      "\u001b[1;32m<ipython-input-4-b3b60604b4b0>\u001b[0m in \u001b[0;36m<module>\u001b[1;34m\u001b[0m\n\u001b[1;32m----> 1\u001b[1;33m \u001b[1;32mif\u001b[0m \u001b[1;33m[\u001b[0m\u001b[1;36m1\u001b[0m\u001b[1;33m,\u001b[0m\u001b[1;36m2\u001b[0m\u001b[1;33m,\u001b[0m\u001b[1;36m3\u001b[0m\u001b[1;33m]\u001b[0m \u001b[1;32min\u001b[0m \u001b[1;36m1\u001b[0m\u001b[1;33m:\u001b[0m\u001b[1;33m\u001b[0m\u001b[1;33m\u001b[0m\u001b[0m\n\u001b[0m\u001b[0;32m      2\u001b[0m     \u001b[0mprint\u001b[0m\u001b[1;33m(\u001b[0m\u001b[1;34m'yes'\u001b[0m\u001b[1;33m)\u001b[0m\u001b[1;33m\u001b[0m\u001b[1;33m\u001b[0m\u001b[0m\n",
      "\u001b[1;31mTypeError\u001b[0m: argument of type 'int' is not iterable"
     ]
    }
   ],
   "source": [
    "if [1,2,3] in 1:\n",
    "    print('yes')"
   ]
  },
  {
   "cell_type": "code",
   "execution_count": 9,
   "metadata": {},
   "outputs": [],
   "source": [
    "def location(number):\n",
    "    loc=[[1,2,3],[4,5,6],[7,8,9],['*',0,'#']]\n",
    "    for i in range(len(loc)):\n",
    "        if number in loc[i]:\n",
    "            return(i,loc[i].index(number))       "
   ]
  },
  {
   "cell_type": "code",
   "execution_count": 24,
   "metadata": {},
   "outputs": [
    {
     "data": {
      "text/plain": [
       "4"
      ]
     },
     "execution_count": 24,
     "metadata": {},
     "output_type": "execute_result"
    }
   ],
   "source": [
    "abs(location(1)[0]+location(1)[1]-(location(0)[1]+location(0)[0]))"
   ]
  },
  {
   "cell_type": "code",
   "execution_count": 23,
   "metadata": {},
   "outputs": [
    {
     "data": {
      "text/plain": [
       "(3, 0)"
      ]
     },
     "execution_count": 23,
     "metadata": {},
     "output_type": "execute_result"
    }
   ],
   "source": [
    "a=location('#')\n",
    "a=location('*')\n",
    "a"
   ]
  },
  {
   "cell_type": "code",
   "execution_count": 25,
   "metadata": {},
   "outputs": [],
   "source": [
    "# 내 풀이\n",
    "# 좌표로 만들기\n",
    "def location(number):\n",
    "    loc=[[1,2,3],[4,5,6],[7,8,9],['*',0,'#']]\n",
    "    for i in range(len(loc)):\n",
    "        if number in loc[i]:\n",
    "            return(i,loc[i].index(number))\n",
    "                                  \n",
    "                                  \n",
    "def solution(numbers, hand):\n",
    "    answer = ''\n",
    "    r_hand = location('#')\n",
    "    l_hand = location('*')\n",
    "    # 왼손, 오른손만 누르는 자판\n",
    "    for i in range(len(numbers)):\n",
    "        if numbers[i]==1 or numbers[i]==4 or numbers[i]==7:\n",
    "            answer+='L'\n",
    "            l_hand=location(numbers[i])\n",
    "        elif numbers[i]==3 or numbers[i]==6 or numbers[i]==9: \n",
    "            answer+='R'\n",
    "            r_hand=location(numbers[i])\n",
    "        else: # 2,5,8,0 누를때 , 누르면 해당 엄지위치 바뀜\n",
    "            # 오른손거리 \n",
    "            r=abs(location(numbers[i])[0]-r_hand[0])+ abs(location(numbers[i])[1]-r_hand[1])\n",
    "            # 왼손거리\n",
    "            l=abs(location(numbers[i])[0]-l_hand[0])+ abs(location(numbers[i])[1]-l_hand[1])  \n",
    "            #print(i,r,r_hand,l,l_hand)\n",
    "            # 오른손, 왼손잡이 구분 \n",
    "            if r==l:\n",
    "                if hand=='right':\n",
    "                        answer+='R'\n",
    "                        r_hand=location(numbers[i])\n",
    "                elif hand=='left':\n",
    "                        answer+='L'\n",
    "                        l_hand=location(numbers[i])\n",
    "            elif r>l:\n",
    "                answer+='L'\n",
    "                l_hand=location(numbers[i])  \n",
    "            elif r<l:      \n",
    "                answer+='R'\n",
    "                r_hand=location(numbers[i])\n",
    "                  \n",
    "    return answer"
   ]
  },
  {
   "cell_type": "code",
   "execution_count": null,
   "metadata": {},
   "outputs": [],
   "source": []
  }
 ],
 "metadata": {
  "kernelspec": {
   "display_name": "Python 3",
   "language": "python",
   "name": "python3"
  },
  "language_info": {
   "codemirror_mode": {
    "name": "ipython",
    "version": 3
   },
   "file_extension": ".py",
   "mimetype": "text/x-python",
   "name": "python",
   "nbconvert_exporter": "python",
   "pygments_lexer": "ipython3",
   "version": "3.7.9"
  }
 },
 "nbformat": 4,
 "nbformat_minor": 4
}
