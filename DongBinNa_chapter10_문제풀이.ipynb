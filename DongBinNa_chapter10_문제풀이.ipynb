{
 "cells": [
  {
   "cell_type": "markdown",
   "metadata": {},
   "source": [
    "# 그래프, 트리\n",
    "\n",
    "그래프 : 노드와 노드사이의 간선의 정보를 가지고 있는 자료구조\n",
    "    \n",
    "트리 : 부모 자식간의 계층모델\n",
    "    \n",
    "우선순위 큐 : 최소힙 or 최대힙 사용 -> 최소힙은 트리에 속함(부모노드가 자식노드보가 크기가 작은 트리)   \n",
    "    \n",
    "<그래프 구현방식>\n",
    "\n",
    "인접행렬 : 2차원 배열을 사용하는 방식 \n",
    "    \n",
    "인접리스트 : 리스트를 사용하는 방식    \n",
    "\n",
    "노드의 개수 V, 간선의 개수 : E\n",
    "    \n",
    "인접행렬-> 메모리공간: O(V^2) , 간선비용 탐색 : O(1) -> 플로이드 워셜 알고리즘 \n",
    "\n",
    "인접리스트-> 메모리공간: O(E), 간선비용 탐색 : O(V) -> 다익스트라 알고리즘\n"
   ]
  },
  {
   "cell_type": "markdown",
   "metadata": {},
   "source": [
    "# 서로소 \n",
    "\n",
    "서로소 집합 : 공통원소가 없는 두 집합\n",
    "    \n",
    "서로소 집합 자료구조 -> 트리 자료구조 이용\n",
    "\n",
    "1. union(합집합)연산으로 서로 연결된 A,B를 확인\n",
    "\n",
    "   1) A,B의 루트노드 A' , B'를 찾음\n",
    "\n",
    "   2) A'를 B'의 부모노드로 설정 \n",
    "\n",
    "\n",
    "2. 1번을 반복\n",
    "\n",
    "-> 서로소 부분집합으로 나누어진 원소들의 데이터를 처리하기 위한 자료구조"
   ]
  },
  {
   "cell_type": "code",
   "execution_count": 2,
   "metadata": {},
   "outputs": [
    {
     "name": "stdout",
     "output_type": "stream",
     "text": [
      "6 4\n",
      "1 4\n",
      "2 3\n",
      "2 4\n",
      "5 6\n",
      "각 원소가 속한 집합:111155\n",
      "부모테이블 :112155"
     ]
    }
   ],
   "source": [
    "#서로소 집합 알고리즘 소스코드\n",
    "\n",
    "#특정원소가 속한 집합 찾기\n",
    "\n",
    "def find_parent(parent,x):\n",
    "    # 루트노드가 아니라면, 루트 노드를 찾을떄까지 재귀적으로 호출 -> 경로 압축\n",
    "    if parent[x] !=x:\n",
    "        return find_parent(parent, parent[x])\n",
    "    return x\n",
    "# 두 원소가 속한 집합을 합치기 \n",
    "def union_parent(parent,a,b): # union -> 루트노드를 연결하나 더 작은 번호를 부모노드로 할당\n",
    "    a= find_parent(parent, a)\n",
    "    b= find_parent(parent,b)\n",
    "    if a < b:\n",
    "        parent[b]= a\n",
    "    else:    \n",
    "        parent[a]= b\n",
    "        \n",
    "# 노드의 개수와 간선(union 연산)의 개수 입력\n",
    "v,e = map(int, input().split())\n",
    "parent = [0]*(v+1) # 부모 테이블 초기화\n",
    "\n",
    "# 부모 테이블상에서, 부모를 자기 자신으로 초기화\n",
    "for i in range(1,v+1):\n",
    "    parent[i]=i\n",
    "\n",
    "# union 연산을 각각 수행\n",
    "for i in range(e):\n",
    "    a,b = map(int,input().split())\n",
    "    union_parent(parent,a,b)\n",
    "    \n",
    "# 각 원소가 속한 집합 출력\n",
    "print('각 원소가 속한 집합:', end='')\n",
    "for i in range(1,v+1):\n",
    "    print(find_parent(parent,i),end='')\n",
    "    \n",
    "print()\n",
    "\n",
    "# 부모 테이블 내용 출력\n",
    "\n",
    "print('부모테이블 :', end='')\n",
    "for i in range(1,v+1):\n",
    "    print(parent[i],end='')\n"
   ]
  },
  {
   "attachments": {
    "image-2.png": {
     "image/png": "[encoded data removed]"
    }
   },
   "cell_type": "markdown",
   "metadata": {},
   "source": [
    "![image-2.png](attachment:image-2.png)"
   ]
  },
  {
   "cell_type": "markdown",
   "metadata": {},
   "source": [
    "## 사이틀 판별시 -> 서로소 집합 사용\n",
    "\n",
    "1. 각 간선을 확인하여 두 노드의 루트 노드를 확인한다.\n",
    "    \n",
    "    1) 루트 노드가 서로 다르다면 두 노드에 대하여 union연산을 수행한다\n",
    "    \n",
    "    2) 루트 노드가 서로 같다면 사이클발생!\n",
    "    \n",
    "2. 모든 간선에 대하여 1.을 반복 "
   ]
  },
  {
   "cell_type": "code",
   "execution_count": 7,
   "metadata": {},
   "outputs": [
    {
     "name": "stdout",
     "output_type": "stream",
     "text": [
      "3 3\n",
      "1 2\n",
      "1 3\n",
      "2 3\n"
     ]
    }
   ],
   "source": [
    "# 서로소 집합을 활용한 사이클 판별 소스코드\n",
    "\n",
    "# 특정원소가 속한 집합을 찾기\n",
    "\n",
    "def find_parent(parent,x):\n",
    "    # 루트 노드가 아니라면, 루트 노드를 찾을떄까지 재귀적으로 호출 \n",
    "    if parent[x] !=x:\n",
    "        parent[x] = find_parent(parent,parent[x])\n",
    "    return parent[x]\n",
    "\n",
    "# 두 원소가 속한 집합을 합치기 \n",
    "def union_parent(parent,a,b): # union -> 루트노드를 연결하나 더 작은 번호를 부모노드로 할당\n",
    "    a= find_parent(parent, a)\n",
    "    b= find_parent(parent,b)\n",
    "    if a < b:\n",
    "        parent[b]= a\n",
    "    else:    \n",
    "        parent[a]= b\n",
    "        \n",
    "# 노드의 개수와 간선(union 연산)의 개수 입력\n",
    "v,e = map(int, input().split())\n",
    "parent = [0]*(v+1) # 부모 테이블 초기화\n",
    "\n",
    "# 부모 테이블에서 부모를 자기자신으로 초기화\n",
    "for i in range(1,v+1):\n",
    "    parent[i]=i\n",
    "\n",
    "cycle=False # 사이클 발생여부\n",
    "\n",
    "\n",
    "for i in range(e):\n",
    "    a,b= map(int,input().split())\n",
    "    # 사이클이 발생한 경우 종료 \n",
    "    if find_parent(parent,a) ==find_parent(parent,b):\n",
    "        cycle=True\n",
    "        break\n",
    "    # 사이클이 발생하지 않았다면 합집합(union)수행\n",
    "    else:\n",
    "        union_parent(parent,a,b)"
   ]
  },
  {
   "cell_type": "code",
   "execution_count": 8,
   "metadata": {},
   "outputs": [
    {
     "name": "stdout",
     "output_type": "stream",
     "text": [
      "사이클 발생\n"
     ]
    }
   ],
   "source": [
    "if cycle:\n",
    "    print(\"사이클 발생\")\n",
    "else:\n",
    "    print(\"사이클 발생안함\")"
   ]
  },
  {
   "cell_type": "code",
   "execution_count": null,
   "metadata": {},
   "outputs": [],
   "source": []
  },
  {
   "cell_type": "markdown",
   "metadata": {},
   "source": [
    "# 신장트리 \n",
    "\n",
    "### 신장트리 -> 하나의 그래프가 있을때 모든 노드를 포함하면서 사이클이 존재하지 않는 부분 그래프\n",
    "\n",
    "### 트리의 성립조건 : 모든 노드가 포함되어 서로 연결되면서 사이클이 존재하지 않음"
   ]
  },
  {
   "cell_type": "code",
   "execution_count": null,
   "metadata": {},
   "outputs": [],
   "source": []
  },
  {
   "cell_type": "markdown",
   "metadata": {},
   "source": [
    "## 크루스칼 알고리즘 -> 그리디 알고리즘\n",
    "\n",
    "-> 신장 트리 중에서 최소 비용으로 만들 수 있는 신장 트리를 찾는 알고리즘 -> 간선의 개수가 E개일때 O(ElogE)의 시간 복잡도\n",
    "\n",
    "(1) -23->(2)-13->(3)\n",
    "(1)-25->(3)\n",
    "\n",
    "다음과 같이 연결되어 있을때 \n",
    "\n",
    "(1)-23->(2)-13->(3)\n",
    "\n",
    "이 최소비용으로 만들 수 있는 신장트리\n",
    "\n",
    "\n",
    "1. 간선데이터를 비용에 따라 오름차순으로 정렬\n",
    "2. 간선을 하나씩 확인하며 현재의 간선이 사이클을 발생시키는지 확인한다.\n",
    "\n",
    "    1) 사이클이 발생하지 않는 경우 최소 신장 트리에 포함시킨다.\n",
    "    \n",
    "    2) 사이클이 발생하는 경우 최소 신장 트리에 포함시키지 않는다.\n",
    "\n",
    "3. 모든 간선에 대하여 2.를 반복    "
   ]
  },
  {
   "cell_type": "code",
   "execution_count": 24,
   "metadata": {},
   "outputs": [
    {
     "name": "stdout",
     "output_type": "stream",
     "text": [
      "7 9\n",
      "1 2 29\n",
      "1 5 75\n",
      "2 3 35\n",
      "2 6 34\n",
      "3 4 7\n",
      "4 6 23\n",
      "4 7 13\n",
      "5 6 53\n",
      "6 7 25\n",
      "159\n"
     ]
    }
   ],
   "source": [
    "# 특정원소가 속한 집합을 찾기\n",
    "\n",
    "def find_parent(parent,x):\n",
    "    # 루트 노드가 아니라면, 루트 노드를 찾을떄까지 재귀적으로 호출 \n",
    "    if parent[x] !=x:\n",
    "        parent[x] = find_parent(parent,parent[x])\n",
    "    return parent[x]\n",
    "\n",
    "# 두 원소가 속한 집합을 합치기 \n",
    "def union_parent(parent,a,b): # union -> 루트노드를 연결하나 더 작은 번호를 부모노드로 할당\n",
    "    a= find_parent(parent, a)\n",
    "    b= find_parent(parent,b)\n",
    "    if a < b:\n",
    "        parent[b]= a\n",
    "    else:    \n",
    "        parent[a]= b\n",
    "        \n",
    "# 노드의 개수와 간선(union 연산)의 개수 입력\n",
    "v,e = map(int, input().split())\n",
    "parent = [0]*(v+1) # 부모 테이블 초기화\n",
    "\n",
    "# 모든 간선을 담을 리스트와 최종 비용을 담을 변수\n",
    "edges=[]\n",
    "result=0\n",
    "\n",
    "# 부모 테이블에서 부모를 자기자신으로 초기화\n",
    "for i in range(1,v+1):\n",
    "    parent[i]=i\n",
    "    \n",
    "# 모든 간선에 대한 정보를 입력받기 \n",
    "\n",
    "for _ in range(e):\n",
    "    a, b, cost= map(int,input().split())\n",
    "    # 비용순으로 정렬하기 위해 튜플의 첫번째 원소를 비용으로 설정\n",
    "    edges.append((cost,a,b))\n",
    "    \n",
    "# 간선을 비용순으로 정렬\n",
    "\n",
    "edges.sort()\n",
    "\n",
    "# 간선을 하나씩 확인하며\n",
    "for edge in edges:\n",
    "    cost,a,b=edge\n",
    "    # 사이클이 발생하지 않는 경우에만 집합에 포함\n",
    "    if find_parent(parent,a) != find_parent(parent,b):\n",
    "        union_parent(parent,a,b)\n",
    "        result+=cost\n",
    "\n",
    "print(result)        "
   ]
  },
  {
   "cell_type": "code",
   "execution_count": 29,
   "metadata": {},
   "outputs": [
    {
     "name": "stdout",
     "output_type": "stream",
     "text": [
      "[0, 1, 2, 3, 4, 5, 6, 7] 3\n",
      "[0, 1, 2, 3, 4, 5, 6, 7] 4\n",
      "[0, 1, 2, 3, 4, 5, 6, 7] 3\n",
      "[0, 1, 2, 3, 4, 5, 6, 7] 4\n",
      "union 3 4\n",
      "[0, 1, 2, 3, 3, 5, 6, 7] 4\n",
      "parent[x] !=x 3 4\n",
      "[0, 1, 2, 3, 3, 5, 6, 7] 3\n",
      "[0, 1, 2, 3, 3, 5, 6, 7] 7\n",
      "[0, 1, 2, 3, 3, 5, 6, 7] 4\n",
      "parent[x] !=x 3 4\n",
      "[0, 1, 2, 3, 3, 5, 6, 7] 3\n",
      "[0, 1, 2, 3, 3, 5, 6, 7] 7\n",
      "union 3 7\n",
      "[0, 1, 2, 3, 3, 5, 6, 3] 4\n",
      "parent[x] !=x 3 4\n",
      "[0, 1, 2, 3, 3, 5, 6, 3] 3\n",
      "[0, 1, 2, 3, 3, 5, 6, 3] 6\n",
      "[0, 1, 2, 3, 3, 5, 6, 3] 4\n",
      "parent[x] !=x 3 4\n",
      "[0, 1, 2, 3, 3, 5, 6, 3] 3\n",
      "[0, 1, 2, 3, 3, 5, 6, 3] 6\n",
      "union 3 6\n",
      "[0, 1, 2, 3, 3, 5, 3, 3] 6\n",
      "parent[x] !=x 3 6\n",
      "[0, 1, 2, 3, 3, 5, 3, 3] 3\n",
      "[0, 1, 2, 3, 3, 5, 3, 3] 7\n",
      "parent[x] !=x 3 7\n",
      "[0, 1, 2, 3, 3, 5, 3, 3] 3\n",
      "[0, 1, 2, 3, 3, 5, 3, 3] 1\n",
      "[0, 1, 2, 3, 3, 5, 3, 3] 2\n",
      "[0, 1, 2, 3, 3, 5, 3, 3] 1\n",
      "[0, 1, 2, 3, 3, 5, 3, 3] 2\n",
      "union 1 2\n",
      "[0, 1, 1, 3, 3, 5, 3, 3] 2\n",
      "parent[x] !=x 1 2\n",
      "[0, 1, 1, 3, 3, 5, 3, 3] 1\n",
      "[0, 1, 1, 3, 3, 5, 3, 3] 6\n",
      "parent[x] !=x 3 6\n",
      "[0, 1, 1, 3, 3, 5, 3, 3] 3\n",
      "[0, 1, 1, 3, 3, 5, 3, 3] 2\n",
      "parent[x] !=x 1 2\n",
      "[0, 1, 1, 3, 3, 5, 3, 3] 1\n",
      "[0, 1, 1, 3, 3, 5, 3, 3] 6\n",
      "parent[x] !=x 3 6\n",
      "[0, 1, 1, 3, 3, 5, 3, 3] 3\n",
      "union 1 3\n",
      "[0, 1, 1, 1, 3, 5, 3, 3] 2\n",
      "parent[x] !=x 1 2\n",
      "[0, 1, 1, 1, 3, 5, 3, 3] 1\n",
      "[0, 1, 1, 1, 3, 5, 3, 3] 3\n",
      "parent[x] !=x 1 3\n",
      "[0, 1, 1, 1, 3, 5, 3, 3] 1\n",
      "[0, 1, 1, 1, 3, 5, 3, 3] 5\n",
      "[0, 1, 1, 1, 3, 5, 3, 3] 6\n",
      "parent[x] !=x 3 6\n",
      "[0, 1, 1, 1, 3, 5, 3, 3] 3\n",
      "parent[x] !=x 1 3\n",
      "[0, 1, 1, 1, 3, 5, 3, 3] 1\n",
      "[0, 1, 1, 1, 3, 5, 1, 3] 5\n",
      "[0, 1, 1, 1, 3, 5, 1, 3] 6\n",
      "parent[x] !=x 1 6\n",
      "[0, 1, 1, 1, 3, 5, 1, 3] 1\n",
      "union 5 1\n",
      "[0, 1, 1, 1, 3, 1, 1, 3] 1\n",
      "[0, 1, 1, 1, 3, 1, 1, 3] 5\n",
      "parent[x] !=x 1 5\n",
      "[0, 1, 1, 1, 3, 1, 1, 3] 1\n",
      "159\n"
     ]
    }
   ],
   "source": [
    "# 특정원소가 속한 집합을 찾기\n",
    "\n",
    "def find_parent(parent,x):\n",
    "    # 루트 노드가 아니라면, 루트 노드를 찾을떄까지 재귀적으로 호출 \n",
    "    print(parent,x)\n",
    "    if parent[x] !=x:\n",
    "        print('parent[x] !=x', parent[x],x)\n",
    "        parent[x] = find_parent(parent,parent[x])\n",
    "    return parent[x]\n",
    "\n",
    "# 두 원소가 속한 집합을 합치기 \n",
    "def union_parent(parent,a,b): # union -> 루트노드를 연결하나 더 작은 번호를 부모노드로 할당\n",
    "    a= find_parent(parent, a)\n",
    "    b= find_parent(parent,b)\n",
    "    print(\"union\",a,b)\n",
    "    if a < b:\n",
    "        parent[b]= a\n",
    "    else:    \n",
    "        parent[a]= b\n",
    "        \n",
    "# 노드의 개수와 간선(union 연산)의 개수 입력\n",
    "v,e = 7,9\n",
    "parent = [0]*(v+1) # 부모 테이블 초기화\n",
    "\n",
    "# 모든 간선을 담을 리스트와 최종 비용을 담을 변수\n",
    "result=0\n",
    "\n",
    "# 부모 테이블에서 부모를 자기자신으로 초기화\n",
    "for i in range(1,v+1):\n",
    "    parent[i]=i\n",
    "\n",
    "# 간선을 하나씩 확인하며\n",
    "for edge in edges:\n",
    "    cost,a,b=edge\n",
    "    # 사이클이 발생하지 않는 경우에만 집합에 포함\n",
    "    if find_parent(parent,a) != find_parent(parent,b):\n",
    "        union_parent(parent,a,b)\n",
    "        result+=cost\n",
    "\n",
    "print(result)       "
   ]
  },
  {
   "cell_type": "code",
   "execution_count": 28,
   "metadata": {},
   "outputs": [
    {
     "data": {
      "text/plain": [
       "[0, 1, 1, 1, 3, 1, 1, 3]"
      ]
     },
     "execution_count": 28,
     "metadata": {},
     "output_type": "execute_result"
    }
   ],
   "source": [
    "parent"
   ]
  },
  {
   "cell_type": "code",
   "execution_count": 36,
   "metadata": {},
   "outputs": [
    {
     "name": "stdout",
     "output_type": "stream",
     "text": [
      "7 8\n",
      "0 1 3\n",
      "1 1 7\n",
      "0 7 6\n",
      "1 7 1\n",
      "0 3 7\n",
      "0 4 2\n",
      "0 1 1\n",
      "1 1 1\n",
      "NO\n",
      "NO\n",
      "YES\n"
     ]
    }
   ],
   "source": [
    "# 팀 결성\n",
    "\n",
    "# 노드개수, 간선 개수 \n",
    "n,m=map(int,input().split())\n",
    "\n",
    "# 모든 간선에 대한 정보를 입력받기 \n",
    "\n",
    "edges=[]\n",
    "\n",
    "for _ in range(m):\n",
    "    cal, a, b= map(int,input().split()) # cal=합치기 0, 같은 팀 확인 0, a번 학생이 속한팀, b번 학생이 속한팀 \n",
    "    # 비용순으로 정렬하기 위해 튜플의 첫번째 원소를 비용으로 설정\n",
    "    edges.append((cal,a,b))\n",
    "\n",
    "parent=[0]*(m+1)# 간선의 개수 \n",
    "# 부모 테이블에서 부모를 자기자신으로 초기화\n",
    "for i in range(1,m+1):\n",
    "    parent[i]=i\n",
    "    \n",
    "def find_parent(parent,x):\n",
    "    if parent[x] !=x:\n",
    "         parent[x] = find_parent(parent,parent[x])\n",
    "    return parent[x]\n",
    "\n",
    "def union_parent(parent,a,b):\n",
    "    a=find_parent(parent,a)\n",
    "    b=find_parent(parent,b)\n",
    "    if a > b:\n",
    "        parent[b]=a \n",
    "    else:\n",
    "        parent[a]=b\n",
    "    \n",
    "\n",
    "for i in edges:\n",
    "    if i[0]==0:\n",
    "        union_parent(parent,i[1],i[2])\n",
    "    elif i[0]==1:\n",
    "        if find_parent(parent,i[1])==find_parent(parent,i[2]):\n",
    "            print('YES')\n",
    "        else:\n",
    "            print(\"NO\")\n",
    "            \n",
    "            \n",
    "            \n"
   ]
  },
  {
   "cell_type": "code",
   "execution_count": null,
   "metadata": {},
   "outputs": [],
   "source": []
  },
  {
   "cell_type": "code",
   "execution_count": 45,
   "metadata": {},
   "outputs": [
    {
     "name": "stdout",
     "output_type": "stream",
     "text": [
      "7 12\n",
      "1 2 3\n",
      "1 3 2\n",
      "3 2 1\n",
      "2 5 2\n",
      "3 4 4\n",
      "7 3 6\n",
      "5 1 5\n",
      "1 6 2\n",
      "6 4 1\n",
      "6 5 3\n",
      "4 5 3\n",
      "6 7 4\n",
      "8\n"
     ]
    }
   ],
   "source": [
    "# 도시분할 계획\n",
    "\n",
    "\n",
    "# n개의 집과 집들을 연결하는 m개의 길  -> 마을을 2개로 분할하고 싶음\n",
    "# 분리된 마을 사이에 있는 길들은 필요가 없음 \n",
    "# 각 분리된 마을안에 임의의 두 집이 경로가 항상 존재해야함 -> 사이클 존재 \n",
    "# 위 조건을 만족하며 필요없는 길을 없애고 길의 유지비의 총합을 최소로 하고 싶음\n",
    "# 길을 없애고 남은 유지비의 총합을 출력 \n",
    "\n",
    "\n",
    "# -> 마을안에서 최소 신장 트리, 남은것 제거, 이렇게 2개로 나눔\n",
    "# 비용이 최소가 되는 서로소 집합 만들기***********\n",
    "\n",
    "\n",
    "n,m=map(int,input().split())# 집이 n개, 길의 개수 m개 \n",
    "\n",
    "edges=[]\n",
    "result=0 # 총 비용 담음\n",
    "\n",
    "for i in range(m):\n",
    "    a,b,c= map(int,input().split()) # a번 집과 b번 집을 연결하는 길의 유지비가 c\n",
    "    edges.append((c,a,b))\n",
    "    \n",
    "parent= [0]*(m+1)\n",
    "\n",
    "for i in range(1,m+1):\n",
    "    parent[i]=i\n",
    "    \n",
    "def find_parent(parent,x):\n",
    "    if parent[x] !=x:\n",
    "        parent[x]= find_parent(parent,parent[x])\n",
    "    return parent[x]    \n",
    "    \n",
    "def union_parent(parent,a,b):\n",
    "    a=find_parent(parent,a)\n",
    "    b=find_parent(parent,b)\n",
    "    if a > b:\n",
    "        parent[b]=a\n",
    "    else:\n",
    "        parent[a]=b\n",
    "\n",
    "# 크루스칼 알고리즘-> 정렬\n",
    "edges.sort() # 첫번째 원소 기준 정렬\n",
    "\n",
    "\n",
    "d=0 # 가장 큰 비용 비교\n",
    "for edge in edges:\n",
    "    c,a,b = edge\n",
    "    if find_parent(parent,a) != find_parent(parent,b):\n",
    "        # 사이클이 발생하지 않는 경우에만 집합에 포함\n",
    "        union_parent(parent,a,b)\n",
    "        result+=c\n",
    "        d=max(c,d)\n",
    "\n",
    "\n",
    "result-=d\n",
    "        \n",
    "print(result)"
   ]
  },
  {
   "attachments": {
    "image.png": {
     "image/png": "[encoded data removed]"
    }
   },
   "cell_type": "markdown",
   "metadata": {},
   "source": [
    "![image.png](attachment:image.png)"
   ]
  },
  {
   "cell_type": "code",
   "execution_count": null,
   "metadata": {},
   "outputs": [],
   "source": []
  },
  {
   "cell_type": "code",
   "execution_count": null,
   "metadata": {},
   "outputs": [],
   "source": []
  },
  {
   "cell_type": "code",
   "execution_count": null,
   "metadata": {},
   "outputs": [],
   "source": []
  }
 ],
 "metadata": {
  "kernelspec": {
   "display_name": "Python 3",
   "language": "python",
   "name": "python3"
  },
  "language_info": {
   "codemirror_mode": {
    "name": "ipython",
    "version": 3
   },
   "file_extension": ".py",
   "mimetype": "text/x-python",
   "name": "python",
   "nbconvert_exporter": "python",
   "pygments_lexer": "ipython3",
   "version": "3.7.9"
  }
 },
 "nbformat": 4,
 "nbformat_minor": 4
}
