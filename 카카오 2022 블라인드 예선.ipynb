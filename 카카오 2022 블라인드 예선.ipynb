{
 "cells": [
  {
   "cell_type": "markdown",
   "metadata": {},
   "source": [
    "문제 설명\n",
    "문제 설명\n",
    "신입사원 무지는 게시판 불량 이용자를 신고하고 처리 결과를 메일로 발송하는 시스템을 개발하려 합니다. 무지가 개발하려는 시스템은 다음과 같습니다.\n",
    "\n",
    "각 유저는 한 번에 한 명의 유저를 신고할 수 있습니다.\n",
    "신고 횟수에 제한은 없습니다. 서로 다른 유저를 계속해서 신고할 수 있습니다.\n",
    "한 유저를 여러 번 신고할 수도 있지만, 동일한 유저에 대한 신고 횟수는 1회로 처리됩니다.\n",
    "k번 이상 신고된 유저는 즉시 게시판 이용이 정지되며, 해당 유저를 신고한 모든 유저에게 정지 사실을 메일로 발송합니다.\n",
    "게시판 이용이 정지된 유저도 불량 이용자를 신고할 수 있습니다.\n",
    "다음은 전체 유저 목록이 [\"muzi\", \"frodo\", \"apeach\", \"neo\"]이고, k = 2(즉, 2번 이상 신고당하면 이용 정지)인 경우의 예시입니다.\n",
    "\n",
    "유저 ID\t유저가 신고한 ID\t설명\n",
    "\"muzi\"\t\"frodo\"\t\"muzi\"가 \"frodo\"를 신고했습니다.\n",
    "\"apeach\"\t\"frodo\"\t\"apeach\"가 \"frodo\"를 신고했습니다.\n",
    "\"frodo\"\t\"neo\"\t\"frodo\"가 \"neo\"를 신고했습니다.\n",
    "\"muzi\"\t\"neo\"\t\"muzi\"가 \"neo\"를 신고했습니다.\n",
    "\"apeach\"\t\"muzi\"\t\"apeach\"가 \"muzi\"를 신고했습니다.\n",
    "각 유저별로 신고당한 횟수는 다음과 같습니다.\n",
    "\n",
    "유저 ID\t신고당한 횟수\n",
    "\"muzi\"\t1\n",
    "\"frodo\"\t2\n",
    "\"apeach\"\t0\n",
    "\"neo\"\t2\n",
    "위 예시에서는 2번 이상 신고당한 \"frodo\"와 \"neo\"의 게시판 이용이 정지됩니다. 이때, 각 유저별로 신고한 아이디와 정지된 아이디를 정리하면 다음과 같습니다.\n",
    "\n",
    "유저 ID\t유저가 신고한 ID\t정지된 ID\n",
    "\"muzi\"\t[\"frodo\", \"neo\"]\t[\"frodo\", \"neo\"]\n",
    "\"frodo\"\t[\"neo\"]\t[\"neo\"]\n",
    "\"apeach\"\t[\"muzi\", \"frodo\"]\t[\"frodo\"]\n",
    "\"neo\"\t없음\t없음\n",
    "따라서 \"muzi\"는 처리 결과 메일을 2회, \"frodo\"와 \"apeach\"는 각각 처리 결과 메일을 1회 받게 됩니다.\n",
    "\n",
    "이용자의 ID가 담긴 문자열 배열 id_list, 각 이용자가 신고한 이용자의 ID 정보가 담긴 문자열 배열 report, 정지 기준이 되는 신고 횟수 k가 매개변수로 주어질 때, 각 유저별로 처리 결과 메일을 받은 횟수를 배열에 담아 return 하도록 solution 함수를 완성해주세요.\n",
    "\n",
    "제한사항\n",
    "2 ≤ id_list의 길이 ≤ 1,000\n",
    "1 ≤ id_list의 원소 길이 ≤ 10\n",
    "id_list의 원소는 이용자의 id를 나타내는 문자열이며 알파벳 소문자로만 이루어져 있습니다.\n",
    "1 ≤ report의 길이 ≤ 200,000\n",
    "3 ≤ report의 원소 길이 ≤ 21\n",
    "report의 원소는 \"이용자id 신고한id\"형태의 문자열입니다.\n",
    "예를 들어 \"muzi frodo\"의 경우 \"muzi\"가 \"frodo\"를 신고했다는 의미입니다.\n",
    "id는 알파벳 소문자로만 이루어져 있습니다.\n",
    "이용자id와 신고한id는 공백(스페이스)하나로 구분되어 있습니다.\n",
    "자기 자신을 신고하는 경우는 없습니다.\n",
    "1 ≤ k ≤ 200, k는 자연수입니다.\n",
    "return 하는 배열은 id_list에 담긴 id 순서대로 각 유저가 받은 결과 메일 수를 담으면 됩니다.\n",
    "입출력 예\n",
    "id_list\treport\tk\tresult\n",
    "[\"muzi\", \"frodo\", \"apeach\", \"neo\"]\t[\"muzi frodo\",\"apeach frodo\",\"frodo neo\",\"muzi neo\",\"apeach muzi\"]\t2\t[2,1,1,0]\n",
    "[\"con\", \"ryan\"]\t[\"ryan con\", \"ryan con\", \"ryan con\", \"ryan con\"]\t3\t[0,0]\n",
    "입출력 예 설명\n",
    "입출력 예 #1\n",
    "\n",
    "문제의 예시와 같습니다.\n",
    "\n",
    "입출력 예 #2\n",
    "\n",
    "\"ryan\"이 \"con\"을 4번 신고했으나, 주어진 조건에 따라 한 유저가 같은 유저를 여러 번 신고한 경우는 신고 횟수 1회로 처리합니다. 따라서 \"con\"은 1회 신고당했습니다. 3번 이상 신고당한 이용자는 없으며, \"con\"과 \"ryan\"은 결과 메일을 받지 않습니다. 따라서 [0, 0]을 return 합니다"
   ]
  },
  {
   "cell_type": "code",
   "execution_count": 51,
   "metadata": {},
   "outputs": [],
   "source": [
    "id_list=[\"muzi\", \"frodo\", \"apeach\", \"neo\"]\n",
    "report=[\"muzi frodo\",\"apeach frodo\",\"frodo neo\",\"muzi neo\",\"apeach muzi\"]\n",
    "k=2\n",
    "# 동일한 유저에 대한 신고 횟수는 1회\n",
    "# k번 이상 신고된 유저는 즉시 게시판 이용이 정지되며, 해당 유저를 신고한 모든 유저에게 정지 사실을 메일로 발송합니다. 모든 유저에게 정지 사실을 메일로 발송합니다.\n",
    "# 게시판 이용이 정지된 유저도 불량 이용자를 신고할 수 있습니다.\n",
    "    "
   ]
  },
  {
   "cell_type": "code",
   "execution_count": 52,
   "metadata": {},
   "outputs": [],
   "source": [
    "result=[0]*len(id_list)\n",
    "# 누가 정지되는지\n",
    "stop_list=[0]*len(id_list)\n",
    "# 동일한 유저에 대한 신고 횟수는 1회\n",
    "report_unique=list(set(report))\n",
    "for i in range(len(id_list)):\n",
    "    for j in report_unique:\n",
    "        if j.split()[1]==id_list[i]:\n",
    "            stop_list[i]+=1               "
   ]
  },
  {
   "cell_type": "code",
   "execution_count": 53,
   "metadata": {},
   "outputs": [],
   "source": [
    "for i in range(len(stop_list)):\n",
    "    if stop_list[i] >=k:\n",
    "        for j in report_unique:\n",
    "            if j.split()[1]==id_list[i]:\n",
    "                result[id_list.index(j.split()[0])]+=1"
   ]
  },
  {
   "cell_type": "code",
   "execution_count": 54,
   "metadata": {},
   "outputs": [
    {
     "data": {
      "text/plain": [
       "[2, 1, 1, 0]"
      ]
     },
     "execution_count": 54,
     "metadata": {},
     "output_type": "execute_result"
    }
   ],
   "source": [
    "result"
   ]
  },
  {
   "cell_type": "code",
   "execution_count": 55,
   "metadata": {},
   "outputs": [],
   "source": [
    "# -> 답은 맞으나 시간초과 뜸"
   ]
  },
  {
   "cell_type": "code",
   "execution_count": 56,
   "metadata": {},
   "outputs": [],
   "source": [
    "def solution(id_list, report, k):\n",
    "    result=[0]*len(id_list)\n",
    "    # 누가 정지되는지\n",
    "    stop_list=[0]*len(id_list)\n",
    "    # 동일한 유저에 대한 신고 횟수는 1회\n",
    "    report_unique=list(set(report))\n",
    "    for j in report_unique:     \n",
    "        stop_list[id_list.index(j.split()[1])]+=1\n",
    "                \n",
    "    for i in range(len(stop_list)):\n",
    "        if stop_list[i] >=k:\n",
    "            for j in report_unique:\n",
    "                if j.split()[1]==id_list[i]:\n",
    "                    result[id_list.index(j.split()[0])]+=1            \n",
    "\n",
    "    return result\n",
    "\n",
    "# -> 고친 코드 시간초과 줄었으나 여전히 남"
   ]
  },
  {
   "cell_type": "code",
   "execution_count": 58,
   "metadata": {},
   "outputs": [
    {
     "data": {
      "text/plain": [
       "[1, 2, 0, 2]"
      ]
     },
     "execution_count": 58,
     "metadata": {},
     "output_type": "execute_result"
    }
   ],
   "source": [
    "stop_list"
   ]
  },
  {
   "cell_type": "code",
   "execution_count": 94,
   "metadata": {},
   "outputs": [],
   "source": [
    "result=[0]*len(id_list)\n",
    "for i in report_unique:\n",
    "    if stop_list[id_list.index(i.split()[1])] >=k:\n",
    "        result[id_list.index(i.split()[0])]+=1"
   ]
  },
  {
   "cell_type": "code",
   "execution_count": 95,
   "metadata": {},
   "outputs": [
    {
     "data": {
      "text/plain": [
       "[2, 1, 1, 0]"
      ]
     },
     "execution_count": 95,
     "metadata": {},
     "output_type": "execute_result"
    }
   ],
   "source": [
    "result"
   ]
  },
  {
   "cell_type": "code",
   "execution_count": 96,
   "metadata": {},
   "outputs": [],
   "source": [
    "# 최종코드-> 다 맞음\n",
    "def solution(id_list, report, k):\n",
    "    result=[0]*len(id_list)\n",
    "    # 누가 정지되는지\n",
    "    stop_list=[0]*len(id_list)\n",
    "    # 동일한 유저에 대한 신고 횟수는 1회\n",
    "    report_unique=list(set(report))\n",
    "    # 아이디별 신고 당한 기록 \n",
    "    for j in report_unique:     \n",
    "        stop_list[id_list.index(j.split()[1])]+=1\n",
    "    for i in report_unique:\n",
    "        if stop_list[id_list.index(i.split()[1])] >=k:\n",
    "            result[id_list.index(i.split()[0])]+=1           \n",
    "    return result"
   ]
  },
  {
   "cell_type": "markdown",
   "metadata": {},
   "source": [
    "문제 설명\n",
    "문제 설명\n",
    "양의 정수 n이 주어집니다. 이 숫자를 k진수로 바꿨을 때, 변환된 수 안에 아래 조건에 맞는 소수(Prime number)가 몇 개인지 알아보려 합니다.\n",
    "\n",
    "0P0처럼 소수 양 쪽에 0이 있는 경우\n",
    "P0처럼 소수 오른쪽에만 0이 있고 왼쪽에는 아무것도 없는 경우\n",
    "0P처럼 소수 왼쪽에만 0이 있고 오른쪽에는 아무것도 없는 경우\n",
    "P처럼 소수 양쪽에 아무것도 없는 경우\n",
    "단, P는 각 자릿수에 0을 포함하지 않는 소수입니다.\n",
    "예를 들어, 101은 P가 될 수 없습니다.\n",
    "예를 들어, 437674을 3진수로 바꾸면 211020101011입니다. 여기서 찾을 수 있는 조건에 맞는 소수는 왼쪽부터 순서대로 211, 2, 11이 있으며, 총 3개입니다. 211은 P0 형태에서 찾을 수 있으며, 2는 0P0에서, 11은 0P에서 찾을 수 있습니다.\n",
    "\n",
    "정수 n과 k가 매개변수로 주어집니다. n을 k진수로 바꿨을 때, 변환된 수 안에서 찾을 수 있는 위 조건에 맞는 소수의 개수를 return 하도록 solution 함수를 완성해 주세요.\n",
    "\n",
    "제한사항\n",
    "1 ≤ n ≤ 1,000,000\n",
    "3 ≤ k ≤ 10\n",
    "입출력 예\n",
    "n\tk\tresult\n",
    "437674\t3\t3\n",
    "110011\t10\t2\n",
    "입출력 예 설명\n",
    "입출력 예 #1\n",
    "\n",
    "문제 예시와 같습니다.\n",
    "\n",
    "입출력 예 #2\n",
    "\n",
    "110011을 10진수로 바꾸면 110011입니다. 여기서 찾을 수 있는 조건에 맞는 소수는 11, 11 2개입니다. 이와 같이, 중복되는 소수를 발견하더라도 모두 따로 세어야 합니다."
   ]
  },
  {
   "cell_type": "code",
   "execution_count": null,
   "metadata": {},
   "outputs": [],
   "source": []
  },
  {
   "cell_type": "code",
   "execution_count": 111,
   "metadata": {},
   "outputs": [
    {
     "name": "stdout",
     "output_type": "stream",
     "text": [
      "1200\n"
     ]
    }
   ],
   "source": [
    "def solution(n, q): # -> 공부하기\n",
    "    rev_base = ''\n",
    "\n",
    "    while n > 0:\n",
    "        n, mod = divmod(n, q)\n",
    "        rev_base += str(mod)\n",
    "\n",
    "    return rev_base[::-1] \n",
    "   \n",
    "    \n",
    "print(solution(45, 3))"
   ]
  },
  {
   "cell_type": "code",
   "execution_count": 105,
   "metadata": {},
   "outputs": [],
   "source": [
    "def is_prime_number(x):\n",
    "    # 2부터 (x - 1)까지의 모든 수를 확인하며\n",
    "    for i in range(2, x):\n",
    "        # x가 해당 수로 나누어떨어진다면\n",
    "        if x % i == 0:\n",
    "            return False # 소수가 아님\n",
    "    return True # 소수임"
   ]
  },
  {
   "cell_type": "code",
   "execution_count": 115,
   "metadata": {},
   "outputs": [],
   "source": [
    "answer=0\n",
    "for i in solution(110011, 10).split('0'):\n",
    "    if i !='' and int(i)!=1 and is_prime_number(int(i)):\n",
    "        answer+=1"
   ]
  },
  {
   "cell_type": "code",
   "execution_count": 110,
   "metadata": {},
   "outputs": [
    {
     "data": {
      "text/plain": [
       "3"
      ]
     },
     "execution_count": 110,
     "metadata": {},
     "output_type": "execute_result"
    }
   ],
   "source": [
    "answer"
   ]
  },
  {
   "cell_type": "code",
   "execution_count": 114,
   "metadata": {},
   "outputs": [
    {
     "data": {
      "text/plain": [
       "['11', '', '11']"
      ]
     },
     "execution_count": 114,
     "metadata": {},
     "output_type": "execute_result"
    }
   ],
   "source": [
    "solution(110011, 10).split('0')"
   ]
  },
  {
   "cell_type": "code",
   "execution_count": 116,
   "metadata": {},
   "outputs": [],
   "source": [
    "# 시간초과 한개 남\n",
    "def is_prime_number(x):\n",
    "    # 2부터 (x - 1)까지의 모든 수를 확인하며\n",
    "    for i in range(2, x):\n",
    "        # x가 해당 수로 나누어떨어진다면\n",
    "        if x % i == 0:\n",
    "            return False # 소수가 아님\n",
    "    return True # 소수임\n",
    "\n",
    "def solution(n, k):\n",
    "    answer=0\n",
    "    str_temp = ''\n",
    "    while n > 0:\n",
    "        n, mod = divmod(n, k)\n",
    "        str_temp += str(mod)\n",
    "\n",
    "    for i in str_temp[::-1].split('0'):\n",
    "        if i!= '' and i !='1' and is_prime_number(int(i)):\n",
    "            answer+=1\n",
    "    return answer"
   ]
  },
  {
   "cell_type": "code",
   "execution_count": 117,
   "metadata": {},
   "outputs": [],
   "source": [
    "# 최종 답-> 다 맞음\n",
    "import math\n",
    "def prime_number(x):\n",
    "    for i in range(2, int(math.sqrt(x)) + 1):\n",
    "        if x % i == 0:\n",
    "            return False \n",
    "    return True \n",
    "\n",
    "def solution(n, k):\n",
    "    answer=0\n",
    "    str_temp = ''\n",
    "    while n > 0:\n",
    "        n, mod = divmod(n, k)\n",
    "        str_temp += str(mod)\n",
    "\n",
    "    for i in str_temp[::-1].split('0'):\n",
    "        if i!= '' and i !='1' and prime_number(int(i)):\n",
    "            answer+=1\n",
    "    return answer"
   ]
  },
  {
   "cell_type": "markdown",
   "metadata": {},
   "source": [
    "문제 설명\n",
    "문제 설명\n",
    "주차장의 요금표와 차량이 들어오고(입차) 나간(출차) 기록이 주어졌을 때, 차량별로 주차 요금을 계산하려고 합니다. 아래는 하나의 예시를 나타냅니다.\n",
    "\n",
    "요금표\n",
    "기본 시간(분)\t기본 요금(원)\t단위 시간(분)\t단위 요금(원)\n",
    "180\t5000\t10\t600\n",
    " \n",
    "\n",
    "입/출차 기록\n",
    "시각(시:분)\t차량 번호\t내역\n",
    "05:34\t5961\t입차\n",
    "06:00\t0000\t입차\n",
    "06:34\t0000\t출차\n",
    "07:59\t5961\t출차\n",
    "07:59\t0148\t입차\n",
    "18:59\t0000\t입차\n",
    "19:09\t0148\t출차\n",
    "22:59\t5961\t입차\n",
    "23:00\t5961\t출차\n",
    " \n",
    "\n",
    "자동차별 주차 요금\n",
    "차량 번호\t누적 주차 시간(분)\t주차 요금(원)\n",
    "0000\t34 + 300 = 334\t5000 + ⌈(334 - 180) / 10⌉ x 600 = 14600\n",
    "0148\t670\t5000 +⌈(670 - 180) / 10⌉x 600 = 34400\n",
    "5961\t145 + 1 = 146\t5000\n",
    "어떤 차량이 입차된 후에 출차된 내역이 없다면, 23:59에 출차된 것으로 간주합니다.\n",
    "0000번 차량은 18:59에 입차된 이후, 출차된 내역이 없습니다. 따라서, 23:59에 출차된 것으로 간주합니다.\n",
    "00:00부터 23:59까지의 입/출차 내역을 바탕으로 차량별 누적 주차 시간을 계산하여 요금을 일괄로 정산합니다.\n",
    "누적 주차 시간이 기본 시간이하라면, 기본 요금을 청구합니다.\n",
    "누적 주차 시간이 기본 시간을 초과하면, 기본 요금에 더해서, 초과한 시간에 대해서 단위 시간 마다 단위 요금을 청구합니다.\n",
    "초과한 시간이 단위 시간으로 나누어 떨어지지 않으면, 올림합니다.\n",
    "⌈a⌉ : a보다 작지 않은 최소의 정수를 의미합니다. 즉, 올림을 의미합니다.\n",
    "주차 요금을 나타내는 정수 배열 fees, 자동차의 입/출차 내역을 나타내는 문자열 배열 records가 매개변수로 주어집니다. 차량 번호가 작은 자동차부터 청구할 주차 요금을 차례대로 정수 배열에 담아서 return 하도록 solution 함수를 완성해주세요.\n",
    "\n",
    "제한사항\n",
    "fees의 길이 = 4\n",
    "\n",
    "fees[0] = 기본 시간(분)\n",
    "1 ≤ fees[0] ≤ 1,439\n",
    "fees[1] = 기본 요금(원)\n",
    "0 ≤ fees[1] ≤ 100,000\n",
    "fees[2] = 단위 시간(분)\n",
    "1 ≤ fees[2] ≤ 1,439\n",
    "fees[3] = 단위 요금(원)\n",
    "1 ≤ fees[3] ≤ 10,000\n",
    "1 ≤ records의 길이 ≤ 1,000\n",
    "\n",
    "records의 각 원소는 \"시각 차량번호 내역\" 형식의 문자열입니다.\n",
    "시각, 차량번호, 내역은 하나의 공백으로 구분되어 있습니다.\n",
    "시각은 차량이 입차되거나 출차된 시각을 나타내며, HH:MM 형식의 길이 5인 문자열입니다.\n",
    "HH:MM은 00:00부터 23:59까지 주어집니다.\n",
    "잘못된 시각(\"25:22\", \"09:65\" 등)은 입력으로 주어지지 않습니다.\n",
    "차량번호는 자동차를 구분하기 위한, `0'~'9'로 구성된 길이 4인 문자열입니다.\n",
    "내역은 길이 2 또는 3인 문자열로, IN 또는 OUT입니다. IN은 입차를, OUT은 출차를 의미합니다.\n",
    "records의 원소들은 시각을 기준으로 오름차순으로 정렬되어 주어집니다.\n",
    "records는 하루 동안의 입/출차된 기록만 담고 있으며, 입차된 차량이 다음날 출차되는 경우는 입력으로 주어지지 않습니다.\n",
    "같은 시각에, 같은 차량번호의 내역이 2번 이상 나타내지 않습니다.\n",
    "마지막 시각(23:59)에 입차되는 경우는 입력으로 주어지지 않습니다.\n",
    "아래의 예를 포함하여, 잘못된 입력은 주어지지 않습니다.\n",
    "주차장에 없는 차량이 출차되는 경우\n",
    "주차장에 이미 있는 차량(차량번호가 같은 차량)이 다시 입차되는 경우\n",
    "입출력 예\n",
    "fees\trecords\tresult\n",
    "[180, 5000, 10, 600]\t[\"05:34 5961 IN\", \"06:00 0000 IN\", \"06:34 0000 OUT\", \"07:59 5961 OUT\", \"07:59 0148 IN\", \"18:59 0000 IN\", \"19:09 0148 OUT\", \"22:59 5961 IN\", \"23:00 5961 OUT\"]\t[14600, 34400, 5000]\n",
    "[120, 0, 60, 591]\t[\"16:00 3961 IN\",\"16:00 0202 IN\",\"18:00 3961 OUT\",\"18:00 0202 OUT\",\"23:58 3961 IN\"]\t[0, 591]\n",
    "[1, 461, 1, 10]\t[\"00:00 1234 IN\"]\t[14841]\n",
    "입출력 예 설명\n",
    "입출력 예 #1\n",
    "\n",
    "문제 예시와 같습니다.\n",
    "\n",
    "입출력 예 #2\n",
    "\n",
    "요금표\n",
    "기본 시간(분)\t기본 요금(원)\t단위 시간(분)\t단위 요금(원)\n",
    "120\t0\t60\t591\n",
    " \n",
    "\n",
    "입/출차 기록\n",
    "시각(시:분)\t차량 번호\t내역\n",
    "16:00\t3961\t입차\n",
    "16:00\t0202\t입차\n",
    "18:00\t3961\t출차\n",
    "18:00\t0202\t출차\n",
    "23:58\t3961\t입차\n",
    " \n",
    "\n",
    "자동차별 주차 요금\n",
    "차량 번호\t누적 주차 시간(분)\t주차 요금(원)\n",
    "0202\t120\t0\n",
    "3961\t120 + 1 = 121\t0 +⌈(121 - 120) / 60⌉x 591 = 591\n",
    "3961번 차량은 2번째 입차된 후에는 출차된 내역이 없으므로, 23:59에 출차되었다고 간주합니다.\n",
    " \n",
    "\n",
    "입출력 예 #3\n",
    "\n",
    "요금표\n",
    "기본 시간(분)\t기본 요금(원)\t단위 시간(분)\t단위 요금(원)\n",
    "1\t461\t1\t10\n",
    " \n",
    "\n",
    "입/출차 기록\n",
    "시각(시:분)\t차량 번호\t내역\n",
    "00:00\t1234\t입차\n",
    " \n",
    "\n",
    "자동차별 주차 요금\n",
    "차량 번호\t누적 주차 시간(분)\t주차 요금(원)\n",
    "1234\t1439\t461 +⌈(1439 - 1) / 1⌉x 10 = 14841\n",
    "1234번 차량은 출차 내역이 없으므로, 23:59에 출차되었다고 간주합니다."
   ]
  },
  {
   "cell_type": "code",
   "execution_count": 118,
   "metadata": {},
   "outputs": [],
   "source": [
    "fee=[180, 5000, 10, 600]\n",
    "records=[\"05:34 5961 IN\", \"06:00 0000 IN\", \"06:34 0000 OUT\", \"07:59 5961 OUT\", \"07:59 0148 IN\", \"18:59 0000 IN\", \"19:09 0148 OUT\", \"22:59 5961 IN\", \"23:00 5961 OUT\"]"
   ]
  },
  {
   "cell_type": "code",
   "execution_count": 157,
   "metadata": {},
   "outputs": [
    {
     "data": {
      "text/plain": [
       "[['05:34', '5961', 'IN'],\n",
       " ['06:00', '0000', 'IN'],\n",
       " ['06:34', '0000', 'OUT'],\n",
       " ['07:59', '5961', 'OUT'],\n",
       " ['07:59', '0148', 'IN'],\n",
       " ['18:59', '0000', 'IN'],\n",
       " ['19:09', '0148', 'OUT'],\n",
       " ['22:59', '5961', 'IN'],\n",
       " ['23:00', '5961', 'OUT']]"
      ]
     },
     "execution_count": 157,
     "metadata": {},
     "output_type": "execute_result"
    }
   ],
   "source": [
    "# 자료전처리\n",
    "record_list=[]\n",
    "car=[]\n",
    "for i in records:\n",
    "    record_list.append([i.split()[0],i.split()[1],i.split()[2]])\n",
    "    car.append(i.split()[1])\n",
    "record_list    \n"
   ]
  },
  {
   "cell_type": "code",
   "execution_count": 163,
   "metadata": {},
   "outputs": [],
   "source": [
    "# 차량 목록 정렬 리스트\n",
    "car_list=list(set(car))\n",
    "car_list.sort()"
   ]
  },
  {
   "cell_type": "code",
   "execution_count": 164,
   "metadata": {},
   "outputs": [
    {
     "data": {
      "text/plain": [
       "['0000', '0148', '5961']"
      ]
     },
     "execution_count": 164,
     "metadata": {},
     "output_type": "execute_result"
    }
   ],
   "source": [
    "car_list"
   ]
  },
  {
   "cell_type": "code",
   "execution_count": 174,
   "metadata": {},
   "outputs": [
    {
     "name": "stdout",
     "output_type": "stream",
     "text": [
      "05:34\n",
      "06:00\n",
      "06:34\n",
      "07:59\n",
      "07:59\n",
      "18:59\n",
      "19:09\n",
      "22:59\n",
      "23:00\n"
     ]
    }
   ],
   "source": [
    "for i in record_list:\n",
    "    print(i[0])"
   ]
  },
  {
   "cell_type": "code",
   "execution_count": 204,
   "metadata": {},
   "outputs": [],
   "source": [
    "# 누적 주차 시간 구하기\n",
    "import datetime as dt\n",
    "answer=[0]*len(car_list)\n",
    "\n",
    "for i in range(len(car_list)):\n",
    "    temp=[]\n",
    "    for j in record_list:\n",
    "        if j[1]==car_list[i] and j[2]=='IN':\n",
    "            temp.append(j[0])\n",
    "        elif j[1]==car_list[i] and j[2]=='OUT':   \n",
    "            answer[i]+=(dt.datetime.strptime(j[0],\"%H:%M\")-dt.datetime.strptime(temp[0],\"%H:%M\")).total_seconds()/60\n",
    "            temp=[]    \n",
    "    #어떤 차량이 입차된 후에 출차된 내역이 없다면, 23:59에 출차된 것으로 간주합니다\n",
    "    if temp !=[]:\n",
    "        answer[i]+=(dt.datetime.strptime(\"23:59\",\"%H:%M\")-dt.datetime.strptime(temp[0],\"%H:%M\")).total_seconds()/60\n",
    "    "
   ]
  },
  {
   "cell_type": "code",
   "execution_count": 205,
   "metadata": {},
   "outputs": [
    {
     "data": {
      "text/plain": [
       "[334.0, 670.0, 146.0]"
      ]
     },
     "execution_count": 205,
     "metadata": {},
     "output_type": "execute_result"
    }
   ],
   "source": [
    "answer"
   ]
  },
  {
   "cell_type": "code",
   "execution_count": 206,
   "metadata": {},
   "outputs": [],
   "source": [
    "fees=[180, 5000, 10, 600]"
   ]
  },
  {
   "cell_type": "code",
   "execution_count": 207,
   "metadata": {},
   "outputs": [],
   "source": [
    "# 금액계산\n",
    "import math\n",
    "\n",
    "for i in range(len(answer)):\n",
    "    if answer[i] <= fees[0]:\n",
    "        answer[i]=fees[1]\n",
    "    else:\n",
    "        answer[i]=fees[1]+math.ceil((answer[i]-fees[0])/fees[2])*fees[3]"
   ]
  },
  {
   "cell_type": "code",
   "execution_count": 208,
   "metadata": {},
   "outputs": [
    {
     "data": {
      "text/plain": [
       "[14600, 34400, 5000]"
      ]
     },
     "execution_count": 208,
     "metadata": {},
     "output_type": "execute_result"
    }
   ],
   "source": [
    "answer"
   ]
  },
  {
   "cell_type": "code",
   "execution_count": 209,
   "metadata": {},
   "outputs": [],
   "source": [
    "# 최종코드-> 다 맞음\n",
    "def solution(fees, records):\n",
    "    record_list=[]\n",
    "    car=[]\n",
    "    for i in records:\n",
    "        record_list.append([i.split()[0],i.split()[1],i.split()[2]])\n",
    "        car.append(i.split()[1])\n",
    "    # 차량 목록 정렬 리스트\n",
    "    car_list=list(set(car))\n",
    "    car_list.sort()\n",
    "    # 누적 주차 시간 구하기\n",
    "    import datetime as dt\n",
    "    answer=[0]*len(car_list)\n",
    "\n",
    "    for i in range(len(car_list)):\n",
    "        temp=[]\n",
    "        for j in record_list:\n",
    "            if j[1]==car_list[i] and j[2]=='IN':\n",
    "                temp.append(j[0])\n",
    "            elif j[1]==car_list[i] and j[2]=='OUT':   \n",
    "                answer[i]+=(dt.datetime.strptime(j[0],\"%H:%M\")-dt.datetime.strptime(temp[0],\"%H:%M\")).total_seconds()/60\n",
    "                temp=[]    \n",
    "        #어떤 차량이 입차된 후에 출차된 내역이 없다면, 23:59에 출차된 것으로 간주합니다\n",
    "        if temp !=[]:\n",
    "            answer[i]+=(dt.datetime.strptime(\"23:59\",\"%H:%M\")-dt.datetime.strptime(temp[0],\"%H:%M\")).total_seconds()/60\n",
    "    # 금액계산\n",
    "    import math\n",
    "\n",
    "    for i in range(len(answer)):\n",
    "        if answer[i] <= fees[0]:\n",
    "            answer[i]=fees[1]\n",
    "        else:\n",
    "            answer[i]=fees[1]+math.ceil((answer[i]-fees[0])/fees[2])*fees[3]\n",
    "    \n",
    "    return answer"
   ]
  },
  {
   "cell_type": "code",
   "execution_count": null,
   "metadata": {},
   "outputs": [],
   "source": []
  },
  {
   "cell_type": "markdown",
   "metadata": {},
   "source": [
    "문제 설명\n",
    "카카오배 양궁대회가 열렸습니다.\n",
    "라이언은 저번 카카오배 양궁대회 우승자이고 이번 대회에도 결승전까지 올라왔습니다. 결승전 상대는 어피치입니다.\n",
    "카카오배 양궁대회 운영위원회는 한 선수의 연속 우승보다는 다양한 선수들이 양궁대회에서 우승하기를 원합니다. 따라서, 양궁대회 운영위원회는 결승전 규칙을 전 대회 우승자인 라이언에게 불리하게 다음과 같이 정했습니다.\n",
    "\n",
    "어피치가 화살 n발을 다 쏜 후에 라이언이 화살 n발을 쏩니다.\n",
    "점수를 계산합니다.\n",
    "과녁판은 아래 사진처럼 생겼으며 가장 작은 원의 과녁 점수는 10점이고 가장 큰 원의 바깥쪽은 과녁 점수가 0점입니다. 01_2022_공채문제_양궁대회_01.png\n",
    "만약, k(k는 1~10사이의 자연수)점을 어피치가 a발을 맞혔고 라이언이 b발을 맞혔을 경우 더 많은 화살을 k점에 맞힌 선수가 k 점을 가져갑니다. 단, a = b일 경우는 어피치가 k점을 가져갑니다. k점을 여러 발 맞혀도 k점 보다 많은 점수를 가져가는 게 아니고 k점만 가져가는 것을 유의하세요. 또한 a = b = 0 인 경우, 즉, 라이언과 어피치 모두 k점에 단 하나의 화살도 맞히지 못한 경우는 어느 누구도 k점을 가져가지 않습니다.\n",
    "예를 들어, 어피치가 10점을 2발 맞혔고 라이언도 10점을 2발 맞혔을 경우 어피치가 10점을 가져갑니다.\n",
    "다른 예로, 어피치가 10점을 0발 맞혔고 라이언이 10점을 2발 맞혔을 경우 라이언이 10점을 가져갑니다.\n",
    "모든 과녁 점수에 대하여 각 선수의 최종 점수를 계산합니다.\n",
    "최종 점수가 더 높은 선수를 우승자로 결정합니다. 단, 최종 점수가 같을 경우 어피치를 우승자로 결정합니다.\n",
    "현재 상황은 어피치가 화살 n발을 다 쏜 후이고 라이언이 화살을 쏠 차례입니다.\n",
    "라이언은 어피치를 가장 큰 점수 차이로 이기기 위해서 n발의 화살을 어떤 과녁 점수에 맞혀야 하는지를 구하려고 합니다.\n",
    "\n",
    "화살의 개수를 담은 자연수 n, 어피치가 맞힌 과녁 점수의 개수를 10점부터 0점까지 순서대로 담은 정수 배열 info가 매개변수로 주어집니다. 이때, 라이언이 가장 큰 점수 차이로 우승하기 위해 n발의 화살을 어떤 과녁 점수에 맞혀야 하는지를 10점부터 0점까지 순서대로 정수 배열에 담아 return 하도록 solution 함수를 완성해 주세요. 만약, 라이언이 우승할 수 없는 경우(무조건 지거나 비기는 경우)는 [-1]을 return 해주세요.\n",
    "\n",
    "제한사항\n",
    "1 ≤ n ≤ 10\n",
    "info의 길이 = 11\n",
    "0 ≤ info의 원소 ≤ n\n",
    "info의 원소 총합 = n\n",
    "info의 i번째 원소는 과녁의 10 - i 점을 맞힌 화살 개수입니다. ( i는 0~10 사이의 정수입니다.)\n",
    "라이언이 우승할 방법이 있는 경우, return 할 정수 배열의 길이는 11입니다.\n",
    "0 ≤ return할 정수 배열의 원소 ≤ n\n",
    "return할 정수 배열의 원소 총합 = n (꼭 n발을 다 쏴야 합니다.)\n",
    "return할 정수 배열의 i번째 원소는 과녁의 10 - i 점을 맞힌 화살 개수입니다. ( i는 0~10 사이의 정수입니다.)\n",
    "라이언이 가장 큰 점수 차이로 우승할 수 있는 방법이 여러 가지 일 경우, 가장 낮은 점수를 더 많이 맞힌 경우를 return 해주세요.\n",
    "가장 낮은 점수를 맞힌 개수가 같을 경우 계속해서 그다음으로 낮은 점수를 더 많이 맞힌 경우를 return 해주세요.\n",
    "예를 들어, [2,3,1,0,0,0,0,1,3,0,0]과 [2,1,0,2,0,0,0,2,3,0,0]를 비교하면 [2,1,0,2,0,0,0,2,3,0,0]를 return 해야 합니다.\n",
    "다른 예로, [0,0,2,3,4,1,0,0,0,0,0]과 [9,0,0,0,0,0,0,0,1,0,0]를 비교하면[9,0,0,0,0,0,0,0,1,0,0]를 return 해야 합니다.\n",
    "라이언이 우승할 방법이 없는 경우, return 할 정수 배열의 길이는 1입니다.\n",
    "라이언이 어떻게 화살을 쏘든 라이언의 점수가 어피치의 점수보다 낮거나 같으면 [-1]을 return 해야 합니다.\n",
    "입출력 예\n",
    "n\tinfo\tresult\n",
    "5\t[2,1,1,1,0,0,0,0,0,0,0]\t[0,2,2,0,1,0,0,0,0,0,0]\n",
    "1\t[1,0,0,0,0,0,0,0,0,0,0]\t[-1]\n",
    "9\t[0,0,1,2,0,1,1,1,1,1,1]\t[1,1,2,0,1,2,2,0,0,0,0]\n",
    "10\t[0,0,0,0,0,0,0,0,3,4,3]\t[1,1,1,1,1,1,1,1,0,0,2]\n",
    "입출력 예 설명\n",
    "입출력 예 #1\n",
    "\n",
    "어피치와 라이언이 아래와 같이 화살을 맞힐 경우,\n",
    "\n",
    "과녁 점수\t어피치가 맞힌 화살 개수\t라이언이 맞힌 화살 개수\t결과\n",
    "10\t2\t3\t라이언이 10점 획득\n",
    "9\t1\t2\t라이언이 9점 획득\n",
    "8\t1\t0\t어피치가 8점 획득\n",
    "7\t1\t0\t어피치가 7점 획득\n",
    "6\t0\t0\t\n",
    "5\t0\t0\t\n",
    "4\t0\t0\t\n",
    "3\t0\t0\t\n",
    "2\t0\t0\t\n",
    "1\t0\t0\t\n",
    "0\t0\t0\t\n",
    "어피치의 최종 점수는 15점, 라이언의 최종 점수는 19점입니다. 4점 차이로 라이언이 우승합니다.\n",
    "\n",
    "하지만, 라이언이 아래와 같이 화살을 맞힐 경우 더 큰 점수 차로 우승할 수 있습니다.\n",
    "\n",
    "과녁 점수\t어피치가 맞힌 화살 개수\t라이언이 맞힌 화살 개수\t결과\n",
    "10\t2\t0\t어피치가 10점 획득\n",
    "9\t1\t2\t라이언이 9점 획득\n",
    "8\t1\t2\t라이언이 8점 획득\n",
    "7\t1\t0\t어피치가 7점 획득\n",
    "6\t0\t1\t라이언이 6점 획득\n",
    "5\t0\t0\t\n",
    "4\t0\t0\t\n",
    "3\t0\t0\t\n",
    "2\t0\t0\t\n",
    "1\t0\t0\t\n",
    "0\t0\t0\t\n",
    "어피치의 최종 점수는 17점, 라이언의 최종 점수는 23점입니다. 6점 차이로 라이언이 우승합니다.\n",
    "\n",
    "따라서 [0,2,2,0,1,0,0,0,0,0,0]을 return 해야 합니다.\n",
    "\n",
    "입출력 예 #2\n",
    "\n",
    "라이언이 10점을 맞혀도 어피치가 10점을 가져가게 됩니다.\n",
    "따라서, 라이언은 우승할 수 없기 때문에 [-1]을 return 해야 합니다.\n",
    "\n",
    "입출력 예 #3\n",
    "\n",
    "어피치와 라이언이 아래와 같이 화살을 맞힐 경우,\n",
    "\n",
    "과녁 점수\t어피치가 맞힌 화살 개수\t라이언이 맞힌 화살 개수\t결과\n",
    "10\t0\t1\t라이언이 10점 획득\n",
    "9\t0\t1\t라이언이 9점 획득\n",
    "8\t1\t2\t라이언이 8점 획득\n",
    "7\t2\t3\t라이언이 7점 획득\n",
    "6\t0\t0\t\n",
    "5\t1\t2\t라이언이 5점 획득\n",
    "4\t1\t0\t어피치가 4점 획득\n",
    "3\t1\t0\t어피치가 3점 획득\n",
    "2\t1\t0\t어피치가 2점 획득\n",
    "1\t1\t0\t어피치가 1점 획득\n",
    "0\t1\t0\t어피치가 0점 획득\n",
    "어피치의 최종 점수는 10점, 라이언의 최종 점수는 39점입니다. 29점 차이로 라이언이 우승합니다.\n",
    "\n",
    "하지만 라이언이 아래와 같이 화살을 맞힐 경우,\n",
    "\n",
    "과녁 점수\t어피치가 맞힌 화살 개수\t라이언이 맞힌 화살 개수\t결과\n",
    "10\t0\t1\t라이언이 10점 획득\n",
    "9\t0\t1\t라이언이 9점 획득\n",
    "8\t1\t2\t라이언이 8점 획득\n",
    "7\t2\t0\t어피치가 7점 획득\n",
    "6\t0\t1\t라이언이 6점 획득\n",
    "5\t1\t2\t라이언이 5점 획득\n",
    "4\t1\t2\t라이언이 4점 획득\n",
    "3\t1\t0\t어피치가 3점 획득\n",
    "2\t1\t0\t어피치가 2점 획득\n",
    "1\t1\t0\t어피치가 1점 획득\n",
    "0\t1\t0\t어피치가 0점 획득\n",
    "어피치의 최종 점수는 13점, 라이언의 최종 점수는 42점입니다. 이 경우도 29점 차이로 라이언이 우승합니다.\n",
    "하지만, 첫 번째 경우와 두 번째 경우를 비교했을 때, 두 번째 경우가 두 경우 중 가장 낮은 점수인 4점을 더 많이 맞혔기 때문에 [1,1,2,3,0,2,0,0,0,0,0]이 아닌 [1,1,2,0,1,2,2,0,0,0,0]을 return 해야 합니다.\n",
    "\n",
    "입출력 예 #4\n",
    "\n",
    "가장 큰 점수 차이로 이기는 경우 중에서 가장 낮은 점수를 가장 많이 맞힌, 10~3점을 한 발씩 맞히고 나머지 두 발을 0점에 맞히는 경우인 [1,1,1,1,1,1,1,1,0,0,2]를 return 해야 합니다."
   ]
  },
  {
   "cell_type": "code",
   "execution_count": 244,
   "metadata": {},
   "outputs": [],
   "source": [
    "# 1. 베이스로 어피치가 안먹은거 먹기\n",
    "# 2. 점수차 구하기\n",
    "# 3. 어피치가 먹은 것 중 점수가 제일 작은 것 먹기\n",
    "# 4. 2. 시행후 비겨해 점수차가 작아지면 진행, 커지면 출력"
   ]
  },
  {
   "cell_type": "code",
   "execution_count": 248,
   "metadata": {},
   "outputs": [],
   "source": [
    "n=5\n",
    "n_copy=n\n",
    "info=[2,1,1,1,0,0,0,0,0,0,0]\n",
    "base=[0]*len(info)\n",
    "score=[]"
   ]
  },
  {
   "cell_type": "code",
   "execution_count": 260,
   "metadata": {},
   "outputs": [
    {
     "data": {
      "text/plain": [
       "[0, 0, 0, 0, 1, 1, 1, 1, 1, 0, 0]"
      ]
     },
     "execution_count": 260,
     "metadata": {},
     "output_type": "execute_result"
    }
   ],
   "source": [
    "# 1. 베이스로 어피치가 안먹은거 먹기\n",
    "for i in range(len(info)):\n",
    "    if info[i]==0 and n_copy!=0:\n",
    "        n_copy-=1\n",
    "        base[i]=1\n",
    "base        "
   ]
  },
  {
   "cell_type": "code",
   "execution_count": 282,
   "metadata": {},
   "outputs": [],
   "source": [
    "# 점수차 구하는 함수 -> 어피치, 라이언 \n",
    "def score(a,l):\n",
    "    apeach=0\n",
    "    lion=0\n",
    "    for i in range(len(a)):\n",
    "        if a[i] !=0 or l[i] !=0:\n",
    "            if a[i] >= l[i]:\n",
    "                apeach+=len(a)-i-1\n",
    "            elif a[i] < l[i]:\n",
    "                lion+=len(a)-i-1\n",
    "    return lion-apeach"
   ]
  },
  {
   "cell_type": "code",
   "execution_count": 288,
   "metadata": {},
   "outputs": [
    {
     "data": {
      "text/plain": [
       "array([False, False, False, False,  True,  True,  True,  True,  True,\n",
       "        True,  True])"
      ]
     },
     "execution_count": 288,
     "metadata": {},
     "output_type": "execute_result"
    }
   ],
   "source": [
    "# 3. 어피치가 먹은 것 중 점수 제일 작은 것 먹기\n",
    "import numpy as np\n",
    "# [0, 0, 0, 0, 1, 1, 1, 1, 1, 0, 0]\n",
    "\n",
    "for i in range(len(info)):\n",
    "    if np.equal([0]*len(info),info).reversed():\n",
    "        base[i]+=info[i]+1\n",
    "        "
   ]
  },
  {
   "cell_type": "code",
   "execution_count": 279,
   "metadata": {},
   "outputs": [
    {
     "data": {
      "text/plain": [
       "11"
      ]
     },
     "execution_count": 279,
     "metadata": {},
     "output_type": "execute_result"
    }
   ],
   "source": [
    "2 1 1 0 1 0 0 0 "
   ]
  },
  {
   "cell_type": "code",
   "execution_count": null,
   "metadata": {},
   "outputs": [],
   "source": []
  }
 ],
 "metadata": {
  "kernelspec": {
   "display_name": "Python 3",
   "language": "python",
   "name": "python3"
  },
  "language_info": {
   "codemirror_mode": {
    "name": "ipython",
    "version": 3
   },
   "file_extension": ".py",
   "mimetype": "text/x-python",
   "name": "python",
   "nbconvert_exporter": "python",
   "pygments_lexer": "ipython3",
   "version": "3.7.9"
  }
 },
 "nbformat": 4,
 "nbformat_minor": 2
}
