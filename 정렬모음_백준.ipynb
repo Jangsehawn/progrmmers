{
 "cells": [
  {
   "cell_type": "code",
   "execution_count": 2,
   "metadata": {
    "scrolled": true
   },
   "outputs": [],
   "source": [
    "a=[\"tom\",\"jerry\",\"mike\",\"tom\"]\n",
    "def double(n):\n",
    "    b={}\n",
    "    for i in range(len(a)):\n",
    "        for k in range(len(a)-i-1):\n",
    "            if n[i]==n[k+1]:\n",
    "                b=n[i]\n",
    "    return(b)                      \n",
    "print(double(a))            \n"
   ]
  },
  {
   "cell_type": "code",
   "execution_count": 3,
   "metadata": {
    "scrolled": true
   },
   "outputs": [],
   "source": [
    "def find_same(a):\n",
    "    n=len(a)\n",
    "    result=set()\n",
    "    for i in range(0,n-1):\n",
    "        for j in range(i+1,n):\n",
    "            if a[i]==a[j]:\n",
    "                result.add(a[i])\n",
    "    return result         \n",
    "b=[\"tom\",\"jerry\",\"mike\",\"tom\"]\n",
    "print(find_same(b))"
   ]
  },
  {
   "cell_type": "code",
   "execution_count": 4,
   "metadata": {},
   "outputs": [],
   "source": [
    "#3-1\n",
    "\n",
    "name=[\"tom\",\"jerry\",\"mike\",\"a\"]\n",
    "\n",
    "def combination(a):\n",
    "    \n",
    "    for i in range(len(a)):\n",
    "        for k in range(i+1,len(a)):\n",
    "            print(a[i],\"-\",a[k])\n",
    "print(combination(name))            \n"
   ]
  },
  {
   "cell_type": "code",
   "execution_count": 5,
   "metadata": {},
   "outputs": [
    {
     "name": "stdout",
     "output_type": "stream",
     "text": [
      "120\n"
     ]
    }
   ],
   "source": [
    "def fac(a):\n",
    "    c1=1\n",
    "    for i in range(1,a+1):\n",
    "        c1*=i\n",
    "    return c1\n",
    "print(fac(5))"
   ]
  },
  {
   "cell_type": "code",
   "execution_count": 6,
   "metadata": {},
   "outputs": [
    {
     "name": "stdout",
     "output_type": "stream",
     "text": [
      "1\n",
      "6\n",
      "120\n"
     ]
    }
   ],
   "source": [
    "def fac(n):\n",
    "    if n<=1:\n",
    "        return 1\n",
    "    return n*fac(n-1)\n",
    "print(fac(1))\n",
    "print(fac(3))\n",
    "print(fac(5))"
   ]
  },
  {
   "cell_type": "code",
   "execution_count": 7,
   "metadata": {},
   "outputs": [
    {
     "name": "stdout",
     "output_type": "stream",
     "text": [
      "15\n"
     ]
    }
   ],
   "source": [
    "def sum(n):\n",
    "    if n<=1:\n",
    "        return 1\n",
    "    return n+sum(n-1)\n",
    "print(sum(5))"
   ]
  },
  {
   "cell_type": "code",
   "execution_count": 30,
   "metadata": {
    "scrolled": false
   },
   "outputs": [
    {
     "name": "stdout",
     "output_type": "stream",
     "text": [
      "29\n",
      "29\n",
      "33\n",
      "58\n",
      "92\n",
      "92\n",
      "33\n",
      "42\n"
     ]
    }
   ],
   "source": [
    "#4-2->모르겠음 왜 안되는지\n",
    "n=[17,29,18,33,58,92,7,33,42]\n",
    "def find_max(a):\n",
    "    max=a[0]\n",
    "    \n",
    "    if max<a[1]:\n",
    "        max=a[1]\n",
    "    a.pop(0)    \n",
    "    if len(a)==1:\n",
    "        return max\n",
    "    print(max)\n",
    "    return find_max(a)\n",
    "print(find_max(n))\n"
   ]
  },
  {
   "cell_type": "code",
   "execution_count": 10,
   "metadata": {},
   "outputs": [
    {
     "name": "stdout",
     "output_type": "stream",
     "text": [
      "2\n"
     ]
    }
   ],
   "source": [
    "def abc(a,b):\n",
    "    \n",
    "    if a>b:\n",
    "        i=b\n",
    "    else:\n",
    "        i=a\n",
    "    while True:\n",
    "        if a%i==0:\n",
    "            if b%i==0:\n",
    "                return i\n",
    "        i-=1\n",
    "print(abc(4,6))       "
   ]
  },
  {
   "cell_type": "code",
   "execution_count": null,
   "metadata": {},
   "outputs": [],
   "source": [
    "def uclid(a,b):\n",
    "    a=max(a,b)\n",
    "    b=min(a,b)\n",
    "    c=gcd(a,b%a)\n",
    "    if b==0:\n",
    "        return c\n",
    "    return uclid(a,b)\n",
    "print(uclid(81,27))"
   ]
  },
  {
   "cell_type": "code",
   "execution_count": null,
   "metadata": {},
   "outputs": [],
   "source": [
    "def gcd2(a,b):\n",
    "    print(a,b)\n",
    "    if b==0:\n",
    "        return a\n",
    "    return gcd2(b,a%b)\n",
    "print(gcd2(81,27))"
   ]
  },
  {
   "cell_type": "code",
   "execution_count": null,
   "metadata": {},
   "outputs": [],
   "source": [
    "def gcd(a,b):\n",
    "    i=min(a,b)\n",
    "    while True:\n",
    "        if a%i==0 and b%i==0:\n",
    "            return  i\n",
    "        i-=1\n",
    "print(gcd(81,33))        \n",
    "print(gcd(33,81))        "
   ]
  },
  {
   "cell_type": "code",
   "execution_count": null,
   "metadata": {},
   "outputs": [],
   "source": [
    "#5-1\n",
    "def fibo(a):\n",
    "    if a==1:\n",
    "        return 0\n",
    "    elif a==2:\n",
    "        return 1\n",
    "    else:    \n",
    "        return fibo(a-1)+fibo(a-2)\n",
    "    return fibo(a)\n",
    "fibo(4)"
   ]
  },
  {
   "cell_type": "code",
   "execution_count": null,
   "metadata": {},
   "outputs": [],
   "source": [
    "def hanoi(n,from_pos,to_pos,aux_pos):\n",
    "    if n==1:\n",
    "        print(from_pos,\"->\",to_pos)\n",
    "        return\n",
    "hanoi(2,1,3,2)    "
   ]
  },
  {
   "cell_type": "code",
   "execution_count": null,
   "metadata": {},
   "outputs": [],
   "source": [
    "def hanoi(n,from_pos,to_pos,aux_pos):\n",
    "    if n==1:\n",
    "        print(from_pos,\"->\",to_pos)\n",
    "        return\n",
    "    hanoi(n-1,from_pos,aux_pos,to_pos)\n",
    "    print(from_pos,\"->\",to_pos)\n",
    "    hanoi(n-1,aux_pos,to_pos,from_pos)\n",
    "print(\"n=1\")    \n",
    "hanoi(1,1,3,2)\n",
    "print(\"n=2\") \n",
    "hanoi(2,1,3,2)\n"
   ]
  },
  {
   "cell_type": "code",
   "execution_count": null,
   "metadata": {},
   "outputs": [],
   "source": [
    "#7-1\n",
    "v=[17,92,18,33,58,7,33]\n",
    "def search(a,x):\n",
    "    b=[]\n",
    "    for i in range(len(a)):\n",
    "        if x==a[i]:\n",
    "            b.append(i)\n",
    "            \n",
    "    return b    \n",
    "print(search(v,33))        "
   ]
  },
  {
   "cell_type": "code",
   "execution_count": null,
   "metadata": {},
   "outputs": [],
   "source": [
    "#7_3\n",
    "stu_no=[39,14,67,105]\n",
    "stu_name=[\"justin\",\"john\",\"mike\",\"summer\"]\n",
    "\n",
    "def find(no,name,x):\n",
    "    for i in range(len(no)):\n",
    "        if x==no[i]:\n",
    "            return name[i]\n",
    "    return print(\"?\")    \n",
    "print(find(stu_no,stu_name,67)) "
   ]
  },
  {
   "cell_type": "code",
   "execution_count": 16,
   "metadata": {},
   "outputs": [
    {
     "ename": "MemoryError",
     "evalue": "",
     "output_type": "error",
     "traceback": [
      "\u001b[1;31m---------------------------------------------------------------------------\u001b[0m",
      "\u001b[1;31mMemoryError\u001b[0m                               Traceback (most recent call last)",
      "\u001b[1;32m<ipython-input-16-dc2328c8b4fa>\u001b[0m in \u001b[0;36m<module>\u001b[1;34m\u001b[0m\n\u001b[0;32m     12\u001b[0m     \u001b[1;32mreturn\u001b[0m \u001b[0mb\u001b[0m\u001b[1;33m\u001b[0m\u001b[1;33m\u001b[0m\u001b[0m\n\u001b[0;32m     13\u001b[0m \u001b[1;33m\u001b[0m\u001b[0m\n\u001b[1;32m---> 14\u001b[1;33m \u001b[0mprint\u001b[0m\u001b[1;33m(\u001b[0m\u001b[0mselect\u001b[0m\u001b[1;33m(\u001b[0m\u001b[0md\u001b[0m\u001b[1;33m)\u001b[0m\u001b[1;33m)\u001b[0m\u001b[1;33m\u001b[0m\u001b[1;33m\u001b[0m\u001b[0m\n\u001b[0m",
      "\u001b[1;32m<ipython-input-16-dc2328c8b4fa>\u001b[0m in \u001b[0;36mselect\u001b[1;34m(a)\u001b[0m\n\u001b[0;32m      9\u001b[0m             \u001b[1;32mif\u001b[0m \u001b[0mc\u001b[0m \u001b[1;33m>\u001b[0m \u001b[0ma\u001b[0m\u001b[1;33m[\u001b[0m\u001b[0mi\u001b[0m\u001b[1;33m]\u001b[0m\u001b[1;33m:\u001b[0m\u001b[1;33m\u001b[0m\u001b[1;33m\u001b[0m\u001b[0m\n\u001b[0;32m     10\u001b[0m                 \u001b[0mc\u001b[0m\u001b[1;33m=\u001b[0m\u001b[0ma\u001b[0m\u001b[1;33m[\u001b[0m\u001b[0mi\u001b[0m\u001b[1;33m]\u001b[0m\u001b[1;33m\u001b[0m\u001b[1;33m\u001b[0m\u001b[0m\n\u001b[1;32m---> 11\u001b[1;33m         \u001b[0mb\u001b[0m\u001b[1;33m.\u001b[0m\u001b[0mappend\u001b[0m\u001b[1;33m(\u001b[0m\u001b[0mc\u001b[0m\u001b[1;33m)\u001b[0m\u001b[1;33m\u001b[0m\u001b[1;33m\u001b[0m\u001b[0m\n\u001b[0m\u001b[0;32m     12\u001b[0m     \u001b[1;32mreturn\u001b[0m \u001b[0mb\u001b[0m\u001b[1;33m\u001b[0m\u001b[1;33m\u001b[0m\u001b[0m\n\u001b[0;32m     13\u001b[0m \u001b[1;33m\u001b[0m\u001b[0m\n",
      "\u001b[1;31mMemoryError\u001b[0m: "
     ]
    }
   ],
   "source": [
    "#선택 정렬알고리즘\n",
    "d=[2,4,5,1,3]\n",
    "def select(a):\n",
    "    b=[]\n",
    "    c=a[0]\n",
    "    while a:\n",
    "        for i in range(len(a)):         \n",
    "            if c > a[i]:               \n",
    "                c=a[i]\n",
    "        b.append(c)\n",
    "    return b\n",
    "\n",
    "print(select(d))         "
   ]
  },
  {
   "cell_type": "code",
   "execution_count": 102,
   "metadata": {},
   "outputs": [
    {
     "name": "stdout",
     "output_type": "stream",
     "text": [
      "[1, 2, 3, 4, 5]\n"
     ]
    }
   ],
   "source": [
    "#선택정랼\n",
    "d=[3,4,5,1,2]\n",
    "def sel_sold(a):\n",
    "    n=len(a)\n",
    "    for i in range(0,n-1):\n",
    "        min_idx=i\n",
    "        for  j in range(i+1,n):\n",
    "            if a[j]<a[min_idx]:\n",
    "                min_idx=j\n",
    "        a[i],a[min_idx]=a[min_idx],a[i]\n",
    "sel_sold(d)\n",
    "print(d)"
   ]
  },
  {
   "cell_type": "code",
   "execution_count": 12,
   "metadata": {},
   "outputs": [
    {
     "name": "stdout",
     "output_type": "stream",
     "text": [
      "[1, 2, 3, 4, 5]\n"
     ]
    }
   ],
   "source": [
    "def find_min_idx(a):\n",
    "    n=len(a)\n",
    "    min_idx=0\n",
    "    for i in range(1,n):\n",
    "        if a[i]<a[min_idx]:\n",
    "            min_idx=i\n",
    "    return min_idx\n",
    "def sel_sort(a):\n",
    "    result=[]\n",
    "    while a:\n",
    "        min_idx=find_min_idx(a)\n",
    "        value=a.pop(min_idx)\n",
    "        result.append(value)\n",
    "    return result\n",
    "d=[2,4,5,1,3]\n",
    "print(sel_sort(d))"
   ]
  },
  {
   "cell_type": "code",
   "execution_count": 15,
   "metadata": {},
   "outputs": [
    {
     "name": "stdout",
     "output_type": "stream",
     "text": [
      "[1, 2, 3, 4, 5]\n"
     ]
    }
   ],
   "source": [
    "def find_ins_idx(r,v):\n",
    "    for i in range(0,len(r)):\n",
    "        if v < r[i]:\n",
    "            return i\n",
    "    return len(r)\n",
    "def ins_sort(a):\n",
    "    result=[]\n",
    "    while a:\n",
    "        value=a.pop(0)\n",
    "        ins_idx=find_ins_idx(result,value)\n",
    "        result.insert(ins_idx,value)\n",
    "    return result\n",
    "d=[2,4,5,3,1]\n",
    "print(ins_sort(d))       "
   ]
  },
  {
   "cell_type": "code",
   "execution_count": 116,
   "metadata": {},
   "outputs": [
    {
     "ename": "IndexError",
     "evalue": "list index out of range",
     "output_type": "error",
     "traceback": [
      "\u001b[1;31m---------------------------------------------------------------------------\u001b[0m",
      "\u001b[1;31mIndexError\u001b[0m                                Traceback (most recent call last)",
      "\u001b[1;32m<ipython-input-116-b6ba40b5de1d>\u001b[0m in \u001b[0;36m<module>\u001b[1;34m\u001b[0m\n\u001b[0;32m      8\u001b[0m                 \u001b[0mb\u001b[0m\u001b[1;33m.\u001b[0m\u001b[0minsert\u001b[0m\u001b[1;33m(\u001b[0m\u001b[0mi\u001b[0m\u001b[1;33m,\u001b[0m\u001b[0mc\u001b[0m\u001b[1;33m)\u001b[0m\u001b[1;33m\u001b[0m\u001b[1;33m\u001b[0m\u001b[0m\n\u001b[0;32m      9\u001b[0m     \u001b[1;32mreturn\u001b[0m \u001b[0mb\u001b[0m\u001b[1;33m\u001b[0m\u001b[1;33m\u001b[0m\u001b[0m\n\u001b[1;32m---> 10\u001b[1;33m \u001b[0mprint\u001b[0m\u001b[1;33m(\u001b[0m\u001b[0mfind2\u001b[0m\u001b[1;33m(\u001b[0m\u001b[0md\u001b[0m\u001b[1;33m)\u001b[0m\u001b[1;33m)\u001b[0m\u001b[1;33m\u001b[0m\u001b[1;33m\u001b[0m\u001b[0m\n\u001b[0m",
      "\u001b[1;32m<ipython-input-116-b6ba40b5de1d>\u001b[0m in \u001b[0;36mfind2\u001b[1;34m(a)\u001b[0m\n\u001b[0;32m      5\u001b[0m         \u001b[0mc\u001b[0m\u001b[1;33m=\u001b[0m\u001b[0ma\u001b[0m\u001b[1;33m.\u001b[0m\u001b[0mpop\u001b[0m\u001b[1;33m(\u001b[0m\u001b[1;36m0\u001b[0m\u001b[1;33m)\u001b[0m\u001b[1;33m\u001b[0m\u001b[1;33m\u001b[0m\u001b[0m\n\u001b[0;32m      6\u001b[0m         \u001b[1;32mfor\u001b[0m \u001b[0mi\u001b[0m \u001b[1;32min\u001b[0m \u001b[0mrange\u001b[0m\u001b[1;33m(\u001b[0m\u001b[1;36m0\u001b[0m\u001b[1;33m,\u001b[0m\u001b[0mlen\u001b[0m\u001b[1;33m(\u001b[0m\u001b[0ma\u001b[0m\u001b[1;33m)\u001b[0m\u001b[1;33m)\u001b[0m\u001b[1;33m:\u001b[0m\u001b[1;33m\u001b[0m\u001b[1;33m\u001b[0m\u001b[0m\n\u001b[1;32m----> 7\u001b[1;33m             \u001b[1;32mif\u001b[0m \u001b[0mc\u001b[0m\u001b[1;33m<\u001b[0m \u001b[0mb\u001b[0m\u001b[1;33m[\u001b[0m\u001b[0mi\u001b[0m\u001b[1;33m]\u001b[0m\u001b[1;33m:\u001b[0m\u001b[1;33m\u001b[0m\u001b[1;33m\u001b[0m\u001b[0m\n\u001b[0m\u001b[0;32m      8\u001b[0m                 \u001b[0mb\u001b[0m\u001b[1;33m.\u001b[0m\u001b[0minsert\u001b[0m\u001b[1;33m(\u001b[0m\u001b[0mi\u001b[0m\u001b[1;33m,\u001b[0m\u001b[0mc\u001b[0m\u001b[1;33m)\u001b[0m\u001b[1;33m\u001b[0m\u001b[1;33m\u001b[0m\u001b[0m\n\u001b[0;32m      9\u001b[0m     \u001b[1;32mreturn\u001b[0m \u001b[0mb\u001b[0m\u001b[1;33m\u001b[0m\u001b[1;33m\u001b[0m\u001b[0m\n",
      "\u001b[1;31mIndexError\u001b[0m: list index out of range"
     ]
    }
   ],
   "source": [
    "d=[2,4,5,1,3]\n",
    "def find2(a):\n",
    "    b=[]\n",
    "    while a:\n",
    "        c=a.pop(0)\n",
    "        for i in range(0,len(a)):\n",
    "            if c< b[i]:\n",
    "                b.insert(i,c)\n",
    "    return b    \n",
    "print(find2(d))"
   ]
  },
  {
   "cell_type": "code",
   "execution_count": 109,
   "metadata": {},
   "outputs": [
    {
     "name": "stdout",
     "output_type": "stream",
     "text": [
      "[1, 2, 3, 4, 5]\n"
     ]
    }
   ],
   "source": [
    "#삽입정렬\n",
    "def ins_sort(a):\n",
    "    n=len(a)\n",
    "    for i in range(1,n):\n",
    "        key=a[i]\n",
    "        j=i-1\n",
    "        while j >=0 and a[j]>key:\n",
    "            a[j+1]=a[j]\n",
    "            j-=1\n",
    "            a[j+1]=key\n",
    "            \n",
    "d=[2,3,5,1,4]\n",
    "ins_sort(d)\n",
    "print(d)"
   ]
  },
  {
   "cell_type": "code",
   "execution_count": 129,
   "metadata": {
    "scrolled": false
   },
   "outputs": [
    {
     "name": "stdout",
     "output_type": "stream",
     "text": [
      "[1, 2, 3, 4, 5, 6, 7, 8, 9, 10]\n"
     ]
    },
    {
     "data": {
      "text/plain": [
       "True"
      ]
     },
     "execution_count": 129,
     "metadata": {},
     "output_type": "execute_result"
    }
   ],
   "source": [
    "#퀵 정렬\n",
    "def quick_sort(a):\n",
    "    n=len(a)\n",
    "    if n<=1:\n",
    "        return a\n",
    "    pivot=a[-1]\n",
    "    g1=[]\n",
    "    g2=[]\n",
    "    for i in range(0,n-1):\n",
    "        if a[i]<pivot:\n",
    "            g1.append(a[i])\n",
    "        else:\n",
    "            g2.append(a[i])\n",
    "    return quick_sort(g1)+[pivot]+quick_sort(g2)\n",
    "d=[6,8,3,9,10,1,2,4,7,5]\n",
    "print(quick_sort(d))\n"
   ]
  },
  {
   "cell_type": "code",
   "execution_count": 142,
   "metadata": {},
   "outputs": [
    {
     "data": {
      "text/plain": [
       "5"
      ]
     },
     "execution_count": 142,
     "metadata": {},
     "output_type": "execute_result"
    }
   ],
   "source": [
    "d=[6,8,3,9,10,1,2,4,7,5]\n",
    "d[-1]"
   ]
  },
  {
   "cell_type": "code",
   "execution_count": 149,
   "metadata": {},
   "outputs": [
    {
     "name": "stdout",
     "output_type": "stream",
     "text": [
      "yes\n"
     ]
    }
   ],
   "source": [
    "def find_pal(a):\n",
    "    b=[]\n",
    "    for k in range(len(a)):\n",
    "        if a.isalpha():\n",
    "            b.append(a[k])\n",
    "    for i in range(len(b)):\n",
    "        if b[i]!=b[-i-1]:\n",
    "            return 'no'\n",
    "    return 'yes'\n",
    "d='madam im adam'\n",
    "print(find_pal(d))"
   ]
  },
  {
   "cell_type": "code",
   "execution_count": 169,
   "metadata": {},
   "outputs": [
    {
     "name": "stdout",
     "output_type": "stream",
     "text": [
      "5\n"
     ]
    }
   ],
   "source": [
    "def fibo(n):\n",
    "    if n==1:\n",
    "        return 0\n",
    "    elif n==2:\n",
    "        return 1\n",
    "    else  :\n",
    "        return fibo(n-1)+fibo(n-2)\n",
    "print(fibo(6))    \n",
    "# 0 1 1 2 3 5"
   ]
  }
 ],
 "metadata": {
  "kernelspec": {
   "display_name": "Python 3",
   "language": "python",
   "name": "python3"
  },
  "language_info": {
   "codemirror_mode": {
    "name": "ipython",
    "version": 3
   },
   "file_extension": ".py",
   "mimetype": "text/x-python",
   "name": "python",
   "nbconvert_exporter": "python",
   "pygments_lexer": "ipython3",
   "version": "3.7.7"
  }
 },
 "nbformat": 4,
 "nbformat_minor": 2
}
