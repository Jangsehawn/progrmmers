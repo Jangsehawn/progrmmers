{
 "cells": [
  {
   "cell_type": "markdown",
   "metadata": {},
   "source": [
    "# Simple Example"
   ]
  },
  {
   "cell_type": "code",
   "execution_count": 24,
   "metadata": {},
   "outputs": [
    {
     "data": {
      "text/plain": [
       "[[],\n",
       " [(2, 2), (3, 5), (4, 1)],\n",
       " [(3, 4), (4, 2)],\n",
       " [(2, 3), (6, 5)],\n",
       " [(3, 3), (5, 1)],\n",
       " [(3, 1), (6, 2)],\n",
       " []]"
      ]
     },
     "execution_count": 24,
     "metadata": {},
     "output_type": "execute_result"
    }
   ],
   "source": [
    "import sys\n",
    "input=sys.stdin.readline\n",
    "INF=int(1e9)\n",
    "\n",
    "# 노드 개수, 간선 입력받기\n",
    "\n",
    "n,m= 6,11\n",
    "\n",
    "# 시작노드 입력\n",
    "start=1\n",
    "\n",
    "# 각 노드에 연결되어 있는 노드에 대한 정보를 담은 리스트를 만들기\n",
    "graph=[[] for i in range(n+1)]\n",
    "# 방문한 적 있는지 체크리스트\n",
    "visited = [False] * (n+1)\n",
    "\n",
    "# 최단거리 테이블을 모두 무한으로 초기화\n",
    "\n",
    "distance = [INF] *(n+1)\n",
    "\n",
    "# 모든 간선 정보를 입력받기 \n",
    "\n",
    "graph[1].append((2,2))\n",
    "graph[1].append((3,5))\n",
    "graph[1].append((4,1))\n",
    "graph[2].append((3,4))\n",
    "graph[2].append((4,2))\n",
    "graph[3].append((2,3))\n",
    "graph[3].append((6,5))\n",
    "graph[4].append((3,3))\n",
    "graph[4].append((5,1))\n",
    "graph[5].append((3,1))\n",
    "graph[5].append((6,2))\n",
    "graph"
   ]
  },
  {
   "cell_type": "code",
   "execution_count": 27,
   "metadata": {},
   "outputs": [],
   "source": [
    "\n",
    "    \n",
    "# 방문하지 않은 노드중에서, 가장 최단 거리가 짧은 노드의 번호를 반환\n",
    "\n",
    "def get_smallest_node():\n",
    "    min_value  =INF \n",
    "    index=0 # 가장 최단 거리가 짧은 노드(인덱스)\n",
    "    for i in range(1,n+1):\n",
    "        if distance[i] < min_value  and not visited[i]:\n",
    "            min_value=distance[i]\n",
    "            index=i\n",
    "    return index        \n",
    "\n",
    "def dijkstra(start):\n",
    "    # 시작 노드에 대해서 초기화\n",
    "    distance[start] = 0\n",
    "    visited[start] = True\n",
    "    for j in graph[start]:\n",
    "        distance[j[0]] =j[1]\n",
    "    # 시작 노드를 제외한 전체 n-1개의 노드에 대해 반복\n",
    "    for i in range(n-1):\n",
    "        # 현재 최단거리가 가장 짧은 노들르 꺼내서, 방문처리\n",
    "        now=get_smallest_node()\n",
    "        visited[now]=True\n",
    "        # 현재 노드와 연결된 다른 노드를 확인\n",
    "        for j in graph[now]:\n",
    "            cost=distance[now]+j[1]\n",
    "            # 현재 노드를 거쳐서 다른 노드로 이동하는 거리가 짧은 경우\n",
    "            if cost < distance[j[0]]:\n",
    "                distance[j[0]]=cost\n",
    "                "
   ]
  },
  {
   "cell_type": "code",
   "execution_count": 28,
   "metadata": {},
   "outputs": [],
   "source": [
    "# 다익스트라 알고리즘 수행\n",
    "dijkstra(start)"
   ]
  },
  {
   "cell_type": "code",
   "execution_count": 30,
   "metadata": {},
   "outputs": [
    {
     "name": "stdout",
     "output_type": "stream",
     "text": [
      "0\n",
      "2\n",
      "3\n",
      "1\n",
      "2\n",
      "4\n"
     ]
    }
   ],
   "source": [
    "# 모든 노드로 가기 위한 최단거리를 출력\n",
    "for i in range(1,n+1):\n",
    "    # 도달할 수 없는 경우, 무한(inf)라고 출력\n",
    "    if distance[i]==INF:\n",
    "        print('inf')\n",
    "    # 도달할 수 있는 경우 거리출력\n",
    "    else:\n",
    "        print(distance[i])\n",
    "        \n",
    "# v= 노드의 개수\n",
    "# 이 다익스트라 알고리즘의 시간복잡도는 O(v^2)"
   ]
  },
  {
   "cell_type": "code",
   "execution_count": null,
   "metadata": {},
   "outputs": [],
   "source": [
    "# 개선된 다익스트라 알고리즘\n",
    "# v=노드의 개수\n",
    "# e=간선의 개수\n",
    "# 힙사용 -> 최악의 경우에도 O(elogv) 보장 \n"
   ]
  },
  {
   "cell_type": "code",
   "execution_count": null,
   "metadata": {},
   "outputs": [],
   "source": []
  },
  {
   "cell_type": "code",
   "execution_count": null,
   "metadata": {},
   "outputs": [],
   "source": []
  },
  {
   "cell_type": "code",
   "execution_count": null,
   "metadata": {},
   "outputs": [],
   "source": []
  },
  {
   "cell_type": "code",
   "execution_count": null,
   "metadata": {},
   "outputs": [],
   "source": []
  },
  {
   "cell_type": "code",
   "execution_count": null,
   "metadata": {},
   "outputs": [],
   "source": []
  }
 ],
 "metadata": {
  "kernelspec": {
   "display_name": "Python 3",
   "language": "python",
   "name": "python3"
  },
  "language_info": {
   "codemirror_mode": {
    "name": "ipython",
    "version": 3
   },
   "file_extension": ".py",
   "mimetype": "text/x-python",
   "name": "python",
   "nbconvert_exporter": "python",
   "pygments_lexer": "ipython3",
   "version": "3.7.9"
  }
 },
 "nbformat": 4,
 "nbformat_minor": 4
}
