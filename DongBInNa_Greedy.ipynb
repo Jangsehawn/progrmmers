{
 "cells": [
  {
   "cell_type": "code",
   "execution_count": 12,
   "metadata": {},
   "outputs": [],
   "source": [
    "import time\n",
    "from random import randint"
   ]
  },
  {
   "cell_type": "code",
   "execution_count": 13,
   "metadata": {},
   "outputs": [],
   "source": [
    "array=[]\n",
    "for _ in range(10000):\n",
    "    array.append(randint(1,100))"
   ]
  },
  {
   "cell_type": "code",
   "execution_count": 15,
   "metadata": {},
   "outputs": [
    {
     "name": "stdout",
     "output_type": "stream",
     "text": [
      "0.0\n"
     ]
    }
   ],
   "source": [
    "start_time=time.time()\n",
    "array.sort()\n",
    "end_time=time.time()\n",
    "print(end_time-start_time)"
   ]
  },
  {
   "cell_type": "markdown",
   "metadata": {},
   "source": [
    "# 3-1 거스름돈"
   ]
  },
  {
   "cell_type": "code",
   "execution_count": 21,
   "metadata": {},
   "outputs": [
    {
     "data": {
      "text/plain": [
       "3"
      ]
     },
     "execution_count": 21,
     "metadata": {},
     "output_type": "execute_result"
    }
   ],
   "source": [
    "# N원 N은 10의 배수\n",
    "# 거스러줄 동전 최소 개수 \n",
    "n=1230\n",
    "\n",
    "n//500 # 500원 개수\n",
    "(n-(n//500)*500)//100 # 100원 개수\n",
    "(n -(n//500)*500 -((n-(n//500)*500)//100)*100) //10 # 10원 개수\n"
   ]
  },
  {
   "cell_type": "code",
   "execution_count": 22,
   "metadata": {},
   "outputs": [
    {
     "name": "stdout",
     "output_type": "stream",
     "text": [
      "10\n"
     ]
    }
   ],
   "source": [
    "# 답안 예시\n",
    "n=1230\n",
    "\n",
    "count=0\n",
    "\n",
    "# 큰 단위의 화폐확인\n",
    "list=[500,100,50,10]\n",
    "\n",
    "for coin in list:\n",
    "    count+=n//coin# 동전개수를 더해줌\n",
    "    n%=coin# 동전액수로 나눈 나머지를 반환\n",
    "print(coin)    \n"
   ]
  },
  {
   "cell_type": "code",
   "execution_count": 25,
   "metadata": {},
   "outputs": [
    {
     "data": {
      "text/plain": [
       "0"
      ]
     },
     "execution_count": 25,
     "metadata": {},
     "output_type": "execute_result"
    }
   ],
   "source": [
    "a=4\n",
    "a%=4\n",
    "a"
   ]
  },
  {
   "cell_type": "markdown",
   "metadata": {},
   "source": [
    "# 3-2 큰 수의 법칙"
   ]
  },
  {
   "cell_type": "code",
   "execution_count": 35,
   "metadata": {},
   "outputs": [
    {
     "name": "stdout",
     "output_type": "stream",
     "text": [
      "2 4 5\n",
      "2 4 5 4 6\n"
     ]
    }
   ],
   "source": [
    "n,m,k=map(int,input().split())\n",
    "\n",
    "lis=[map(int,input().split())]\n",
    "\n",
    "\n"
   ]
  },
  {
   "cell_type": "code",
   "execution_count": 23,
   "metadata": {},
   "outputs": [],
   "source": [
    "n,m,k=5,8,3"
   ]
  },
  {
   "cell_type": "code",
   "execution_count": 28,
   "metadata": {},
   "outputs": [],
   "source": [
    "lis=[2,4,5,4,6]"
   ]
  },
  {
   "cell_type": "code",
   "execution_count": 29,
   "metadata": {},
   "outputs": [],
   "source": [
    "\n",
    "first=max(lis)*(m//(k+1)*k+m%(k+1))\n",
    "lis.remove(max(lis))\n",
    "second=max(lis)*m//(k+1)\n"
   ]
  },
  {
   "cell_type": "code",
   "execution_count": 30,
   "metadata": {},
   "outputs": [
    {
     "data": {
      "text/plain": [
       "46"
      ]
     },
     "execution_count": 30,
     "metadata": {},
     "output_type": "execute_result"
    }
   ],
   "source": [
    "first+second"
   ]
  },
  {
   "cell_type": "code",
   "execution_count": null,
   "metadata": {},
   "outputs": [],
   "source": [
    "# 단순예시"
   ]
  },
  {
   "cell_type": "code",
   "execution_count": 40,
   "metadata": {},
   "outputs": [
    {
     "name": "stdout",
     "output_type": "stream",
     "text": [
      "5 8 3\n",
      "2 4 5 4 6\n"
     ]
    }
   ],
   "source": [
    "n,m,k=map(int,input().split())\n",
    "\n",
    "data=[map(int,input().split())]"
   ]
  },
  {
   "cell_type": "code",
   "execution_count": 46,
   "metadata": {},
   "outputs": [],
   "source": [
    "data=[2,4,5,4,6]"
   ]
  },
  {
   "cell_type": "code",
   "execution_count": 47,
   "metadata": {},
   "outputs": [
    {
     "name": "stdout",
     "output_type": "stream",
     "text": [
      "46\n"
     ]
    }
   ],
   "source": [
    "data.sort() \n",
    "first=data[n-1]\n",
    "second=data[n-2]\n",
    "\n",
    "count=int(m/(k+1))*k # 가장 큰 수가 더해지는 횟수 계산 int안에 넣으므로 소수점 사라짐\n",
    "count+=m%(k+1)\n",
    "\n",
    "result=0\n",
    "result+=(count)*first# 가장 큰 수 더하기\n",
    "result+=(m-count)*second # 두번째 큰 수 더하기\n",
    "print(result)"
   ]
  },
  {
   "cell_type": "markdown",
   "metadata": {},
   "source": [
    "# 3-3 숫자 카드 게임"
   ]
  },
  {
   "cell_type": "code",
   "execution_count": 48,
   "metadata": {},
   "outputs": [
    {
     "name": "stdout",
     "output_type": "stream",
     "text": [
      "3 4\n"
     ]
    }
   ],
   "source": [
    "n,m=map(int,input().split())"
   ]
  },
  {
   "cell_type": "code",
   "execution_count": 51,
   "metadata": {},
   "outputs": [
    {
     "name": "stdout",
     "output_type": "stream",
     "text": [
      "1 2 3 4\n",
      "4 5 6 7\n",
      "7 8 9 0\n"
     ]
    }
   ],
   "source": [
    "mat=[0]*n\n",
    "for i in range(n):\n",
    "    mat[i]=[map(int,input().split())]"
   ]
  },
  {
   "cell_type": "code",
   "execution_count": 65,
   "metadata": {},
   "outputs": [],
   "source": [
    "mat=[[3,1,2],[4,1,4],[2,2,2]]"
   ]
  },
  {
   "cell_type": "code",
   "execution_count": 70,
   "metadata": {},
   "outputs": [
    {
     "name": "stdout",
     "output_type": "stream",
     "text": [
      "2\n"
     ]
    }
   ],
   "source": [
    "a=min(mat[0])\n",
    "for i in range(n):\n",
    "    a=max(min(mat[i]),a)\n",
    "print(a)"
   ]
  },
  {
   "cell_type": "code",
   "execution_count": 71,
   "metadata": {},
   "outputs": [],
   "source": [
    "# 답안 예시\n",
    "n,m=map(int,input().split())\n",
    "\n",
    "result=0\n",
    "for i in range(n):\n",
    "    data=[map(int,input().split())]\n",
    "    min_value=min(data)\n",
    "    result=max(result,min_value)\n",
    "print(result)    "
   ]
  },
  {
   "cell_type": "markdown",
   "metadata": {},
   "source": [
    "# 3-4 1이 될 때까지 "
   ]
  },
  {
   "cell_type": "code",
   "execution_count": 3,
   "metadata": {},
   "outputs": [
    {
     "name": "stdout",
     "output_type": "stream",
     "text": [
      "9 3\n"
     ]
    }
   ],
   "source": [
    "n,k=map(int,input().split())"
   ]
  },
  {
   "cell_type": "code",
   "execution_count": 4,
   "metadata": {},
   "outputs": [
    {
     "name": "stdout",
     "output_type": "stream",
     "text": [
      "2\n"
     ]
    }
   ],
   "source": [
    "for i in range(n):\n",
    "    if n%k==0:\n",
    "        n=n/k\n",
    "    else:\n",
    "        n-=1\n",
    "    if n==1:\n",
    "        print(i+1)\n",
    "        break\n",
    "        "
   ]
  },
  {
   "cell_type": "code",
   "execution_count": 6,
   "metadata": {},
   "outputs": [
    {
     "name": "stdout",
     "output_type": "stream",
     "text": [
      "9 3\n",
      "2\n"
     ]
    }
   ],
   "source": [
    "# 답안 예시\n",
    "n,k=map(int,input().split())\n",
    "result=0\n",
    "while True:\n",
    "    if n%k==0:\n",
    "        n=n/k\n",
    "    else:\n",
    "        n-=1\n",
    "    result+=1    \n",
    "    if n==1:\n",
    "        print(result)\n",
    "        break\n",
    "\n"
   ]
  },
  {
   "cell_type": "code",
   "execution_count": 9,
   "metadata": {},
   "outputs": [
    {
     "name": "stdout",
     "output_type": "stream",
     "text": [
      "9 3\n",
      "0\n"
     ]
    }
   ],
   "source": [
    "# 답안 예시\n",
    "n,k=map(int,input().split())\n",
    "result=0\n",
    "while n > 1:\n",
    "    if n%k==0:\n",
    "        n=n/k\n",
    "    else:\n",
    "        n-=1\n",
    "    result+=1\n",
    "print(result)\n",
    "\n"
   ]
  },
  {
   "cell_type": "code",
   "execution_count": null,
   "metadata": {},
   "outputs": [],
   "source": []
  }
 ],
 "metadata": {
  "kernelspec": {
   "display_name": "Python 3",
   "language": "python",
   "name": "python3"
  },
  "language_info": {
   "codemirror_mode": {
    "name": "ipython",
    "version": 3
   },
   "file_extension": ".py",
   "mimetype": "text/x-python",
   "name": "python",
   "nbconvert_exporter": "python",
   "pygments_lexer": "ipython3",
   "version": "3.7.7"
  }
 },
 "nbformat": 4,
 "nbformat_minor": 2
}
