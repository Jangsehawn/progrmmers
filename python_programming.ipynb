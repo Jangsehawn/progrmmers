{
 "cells": [
  {
   "cell_type": "markdown",
   "metadata": {
    "collapsed": true,
    "pycharm": {
     "name": "#%% md\n"
    }
   },
   "source": [
    "# 클래스, 캡슐화\n",
    "\n",
    "프라이빗 어트라이뷰트 : 이름이 _로 시작하는 어트리뷰트는 프라이빗(private)으로 간주"
   ]
  },
  {
   "cell_type": "code",
   "execution_count": 1,
   "outputs": [],
   "source": [
    "class Stock:\n",
    "    def __init__(self,name, shares, price):\n",
    "        self.name =name\n",
    "        self.shares = shares\n",
    "        self.price = price"
   ],
   "metadata": {
    "collapsed": false,
    "pycharm": {
     "name": "#%%\n"
    }
   }
  },
  {
   "cell_type": "code",
   "execution_count": 2,
   "outputs": [
    {
     "data": {
      "text/plain": "<__main__.Stock at 0x17b073d6340>"
     },
     "execution_count": 2,
     "metadata": {},
     "output_type": "execute_result"
    }
   ],
   "source": [
    "s = Stock('IBM', 50, 91.1)\n",
    "s.shares = 100\n",
    "s.shares = \"hundred\" # 모든 값에서 어트라이뷰트를 설정할 수 있음\n",
    "s"
   ],
   "metadata": {
    "collapsed": false,
    "pycharm": {
     "name": "#%%\n"
    }
   }
  },
  {
   "cell_type": "markdown",
   "source": [
    "# 프로퍼티\n",
    "\n",
    "프로퍼티 액세스는 @property와 @shares.setter 하에서 getter와 setter 메서드를 트리거\n",
    "\n",
    "프로퍼티는 프라이빗 이름을 _shares 같이 내부적으로 사용하지만, 클래스의 나머지(프로퍼티가 아닌 것)는 shares와 같은 이름을 계속 사용할 수 있다.\n"
   ],
   "metadata": {
    "collapsed": false,
    "pycharm": {
     "name": "#%% md\n"
    }
   }
  },
  {
   "cell_type": "code",
   "execution_count": 10,
   "outputs": [],
   "source": [
    "# shares에 문자열인 경우 Type error를 일으키고 싶음\n",
    "class Stock:\n",
    "    def __init__(self, name, shares, price):\n",
    "        self.name = name\n",
    "        self.shares =shares\n",
    "        self.price = price\n",
    "    @property\n",
    "    def shares(self):\n",
    "            return self._shares\n",
    "    @property\n",
    "    def cost(self):\n",
    "        return self.shares * self.price\n",
    "\n",
    "    @shares.setter\n",
    "    def shares(self,value):\n",
    "        if not isinstance(value, int):\n",
    "            raise TypeError(\"Expected int\")\n",
    "        self._shares = value"
   ],
   "metadata": {
    "collapsed": false,
    "pycharm": {
     "name": "#%%\n"
    }
   }
  },
  {
   "cell_type": "code",
   "execution_count": 11,
   "outputs": [],
   "source": [
    "s = Stock('IBM', 50, 91.1)\n",
    "s.shares # @property를 트리거\n",
    "s.shares = 75    # @shares.setter를 트리거"
   ],
   "metadata": {
    "collapsed": false,
    "pycharm": {
     "name": "#%%\n"
    }
   }
  },
  {
   "cell_type": "code",
   "execution_count": 12,
   "outputs": [
    {
     "data": {
      "text/plain": "49010.0"
     },
     "execution_count": 12,
     "metadata": {},
     "output_type": "execute_result"
    }
   ],
   "source": [
    "s = Stock('GOOG', 100, 490.1)\n",
    "s.cost"
   ],
   "metadata": {
    "collapsed": false,
    "pycharm": {
     "name": "#%%\n"
    }
   }
  },
  {
   "cell_type": "markdown",
   "source": [
    "# 데코레이터(Decorator) 구문\n",
    "@ 구문을 \"데코레이션(decoration)\"이라고 부른다. 데코레이션은 바로 뒤따라오는 함수 정의에 적용되는 수정자를 지정한다."
   ],
   "metadata": {
    "collapsed": false,
    "pycharm": {
     "name": "#%% md\n",
     "is_executing": true
    }
   }
  },
  {
   "cell_type": "code",
   "source": [],
   "metadata": {
    "collapsed": false,
    "pycharm": {
     "name": "#%%\n"
    }
   },
   "execution_count": null,
   "outputs": []
  },
  {
   "cell_type": "markdown",
   "source": [
    "# 가변 인자"
   ],
   "metadata": {
    "collapsed": false,
    "pycharm": {
     "name": "#%% md\n",
     "is_executing": true
    }
   }
  },
  {
   "cell_type": "markdown",
   "source": [
    "위치 가변 인자(*args)"
   ],
   "metadata": {
    "collapsed": false,
    "pycharm": {
     "name": "#%% md\n"
    }
   },
   "outputs": [
    {
     "ename": "SyntaxError",
     "evalue": "invalid syntax (Temp/ipykernel_13268/1917264963.py, line 1)",
     "output_type": "error",
     "traceback": [
      "\u001B[1;36m  Input \u001B[1;32mIn [13]\u001B[1;36m\u001B[0m\n\u001B[1;33m    위치 가변 인자(*args)\u001B[0m\n\u001B[1;37m       ^\u001B[0m\n\u001B[1;31mSyntaxError\u001B[0m\u001B[1;31m:\u001B[0m invalid syntax\n"
     ]
    }
   ],
   "execution_count": 13
  },
  {
   "cell_type": "code",
   "execution_count": 14,
   "outputs": [
    {
     "data": {
      "text/plain": "(2, 3, 3, 4, 5)"
     },
     "execution_count": 14,
     "metadata": {},
     "output_type": "execute_result"
    }
   ],
   "source": [
    "def f(x, *args):\n",
    "    return args\n",
    "f(1,2,3,3,4,5)\n",
    "# x -> 1\n",
    "# args -> (2,3,4,5) 추가적인 인자를 튜플로 전달"
   ],
   "metadata": {
    "collapsed": false,
    "pycharm": {
     "name": "#%%\n"
    }
   }
  },
  {
   "cell_type": "markdown",
   "source": [
    "키워드 가변 인자(**kwargs)"
   ],
   "metadata": {
    "collapsed": false,
    "pycharm": {
     "name": "#%% md\n",
     "is_executing": true
    }
   }
  },
  {
   "cell_type": "code",
   "execution_count": 16,
   "outputs": [
    {
     "data": {
      "text/plain": "{'flag': True, 'mode': 'fast', 'header': 'debug'}"
     },
     "execution_count": 16,
     "metadata": {},
     "output_type": "execute_result"
    }
   ],
   "source": [
    "def f(x, y, **kwargs):\n",
    "    return kwargs\n",
    "f(2, 3, flag=True, mode='fast', header='debug')\n",
    "# 추가적인 키워드를 딕셔너리로 전달한다."
   ],
   "metadata": {
    "collapsed": false,
    "pycharm": {
     "name": "#%%\n"
    }
   }
  },
  {
   "cell_type": "markdown",
   "source": [
    "# 익명함수와 람다\n",
    "\n",
    "람다\n",
    "단일 표현식만 허용한다.\n",
    "if, while 같은 문장은 허용하지 않는다.\n",
    "sort()의 예와 같이 함수와 함께 사용하는 것이 일반적인 용도다."
   ],
   "metadata": {
    "collapsed": false,
    "pycharm": {
     "name": "#%% md\n",
     "is_executing": true
    }
   }
  },
  {
   "cell_type": "code",
   "execution_count": 17,
   "outputs": [],
   "source": [
    "portfolio=[\n",
    "  {'name': 'AA', 'price': 32.2, 'shares': 100},\n",
    "  {'name': 'CAT', 'price': 83.44, 'shares': 150},\n",
    "  {'name': 'GE', 'price': 40.37, 'shares': 95},\n",
    "  {'name': 'IBM', 'price': 91.1, 'shares': 50},\n",
    "  {'name': 'IBM', 'price': 70.44, 'shares': 100},\n",
    "  {'name': 'MSFT', 'price': 51.23, 'shares': 200},\n",
    "  {'name': 'MSFT', 'price': 65.1, 'shares': 50}\n",
    "]"
   ],
   "metadata": {
    "collapsed": false,
    "pycharm": {
     "name": "#%%\n"
    }
   }
  },
  {
   "cell_type": "code",
   "execution_count": 19,
   "outputs": [
    {
     "data": {
      "text/plain": "[{'name': 'AA', 'price': 32.2, 'shares': 100},\n {'name': 'GE', 'price': 40.37, 'shares': 95},\n {'name': 'MSFT', 'price': 51.23, 'shares': 200},\n {'name': 'MSFT', 'price': 65.1, 'shares': 50},\n {'name': 'IBM', 'price': 70.44, 'shares': 100},\n {'name': 'CAT', 'price': 83.44, 'shares': 150},\n {'name': 'IBM', 'price': 91.1, 'shares': 50}]"
     },
     "execution_count": 19,
     "metadata": {},
     "output_type": "execute_result"
    }
   ],
   "source": [
    "portfolio.sort(key=lambda s: s['price'])\n",
    "portfolio"
   ],
   "metadata": {
    "collapsed": false,
    "pycharm": {
     "name": "#%%\n"
    }
   }
  },
  {
   "cell_type": "markdown",
   "source": [
    "# 함수 데코레이터"
   ],
   "metadata": {
    "collapsed": false,
    "pycharm": {
     "name": "#%% md\n"
    }
   }
  },
  {
   "cell_type": "code",
   "execution_count": 21,
   "outputs": [],
   "source": [
    "def add(x, y):\n",
    "    print('Calling add')\n",
    "    return x + y\n",
    "\n",
    "def sub(x, y):\n",
    "    print('Calling sub')\n",
    "    return x - y\n",
    "\n",
    "def logged(func):\n",
    "    def wrapper(*args, **kwargs): # 함수에 로깅을 추가해주는 함수. 래퍼(wrapper라고 칭함)\n",
    "        print('Calling', func.__name__)\n",
    "        return func(*args, **kwargs)\n",
    "    return wrapper\n",
    "\n",
    "def add(x, y):\n",
    "    return x + y\n",
    "\n",
    "logged_add = logged(add)"
   ],
   "metadata": {
    "collapsed": false,
    "pycharm": {
     "name": "#%%\n"
    }
   }
  },
  {
   "cell_type": "code",
   "execution_count": 22,
   "outputs": [
    {
     "name": "stdout",
     "output_type": "stream",
     "text": [
      "Calling add\n"
     ]
    },
    {
     "data": {
      "text/plain": "7"
     },
     "execution_count": 22,
     "metadata": {},
     "output_type": "execute_result"
    }
   ],
   "source": [
    "logged_add (3,4)"
   ],
   "metadata": {
    "collapsed": false,
    "pycharm": {
     "name": "#%%\n"
    }
   }
  },
  {
   "cell_type": "code",
   "execution_count": 24,
   "outputs": [
    {
     "data": {
      "text/plain": "'add'"
     },
     "execution_count": 24,
     "metadata": {},
     "output_type": "execute_result"
    }
   ],
   "source": [
    "# 함수 이름을 문자열로 받을 수 있음\n",
    "str(add.__name__)"
   ],
   "metadata": {
    "collapsed": false,
    "pycharm": {
     "name": "#%%\n"
    }
   }
  },
  {
   "cell_type": "code",
   "execution_count": 42,
   "outputs": [
    {
     "name": "stdout",
     "output_type": "stream",
     "text": [
      "Calling wrapper\n",
      "Calling add5\n"
     ]
    },
    {
     "data": {
      "text/plain": "8"
     },
     "execution_count": 42,
     "metadata": {},
     "output_type": "execute_result"
    }
   ],
   "source": [
    "# 특수한 구문\n",
    "@logged\n",
    "def add5(x, y):\n",
    "    return x + y\n",
    "\n",
    "add2 = logged(add5)\n",
    "\n",
    "add2(3,5)"
   ],
   "metadata": {
    "collapsed": false,
    "pycharm": {
     "name": "#%%\n"
    }
   }
  },
  {
   "cell_type": "markdown",
   "source": [
    "# 테스팅\n",
    "assert 문은 프로그램의 내부 점검이다. 표현식이 참이 아니면 AssertionError 예외가 발생한다."
   ],
   "metadata": {
    "collapsed": false,
    "pycharm": {
     "name": "#%% md\n"
    }
   }
  },
  {
   "cell_type": "code",
   "execution_count": null,
   "outputs": [],
   "source": [
    "def add(x, y):\n",
    "    assert isinstance(x, int), 'Expected int'\n",
    "    assert isinstance(y, int), 'Expected int'\n",
    "    return x + y\n",
    "\n",
    "add(2,'2') == 4"
   ],
   "metadata": {
    "collapsed": false,
    "pycharm": {
     "name": "#%%\n"
    }
   }
  },
  {
   "cell_type": "markdown",
   "source": [
    "# 로깅\n",
    "\n",
    "logging 모듈은 진단 정보를 기록하기 위한 표준 라이브러리 모듈\n",
    "\n",
    "DEBUG\tdebug()\t상세한 정보를 출력\n",
    "\n",
    "INFO\tinfo()\t예상대로 작동하는지를 확인\n",
    "\n",
    "WARNING\twarning()\t소프트웨어는 정상 동작하는데 예상치 못한 일이 발생한 것에 대해 표시\n",
    "\n",
    "ERROR\terror()\t소프트웨어의 일부가 정상적으로 동작하지 않는 경우에 대해 표시\n",
    "\n",
    "CRITICAL\tcritical()\t심각한 에러 상황에 대해 표시"
   ],
   "metadata": {
    "collapsed": false,
    "pycharm": {
     "name": "#%% md\n"
    }
   }
  },
  {
   "cell_type": "code",
   "execution_count": 18,
   "outputs": [
    {
     "name": "stderr",
     "output_type": "stream",
     "text": [
      "C:\\Users\\FLEXIN~1\\AppData\\Local\\Temp/ipykernel_16088/2050424705.py:20: DeprecationWarning: The 'warn' function is deprecated, use 'warning' instead\n",
      "  logging.warn(f\"input: {a} {b}, output={ret}\")\n",
      "WARNING:root:input: 3 123, output=126\n",
      "2022-04-19 15:33:24,116 - root - WARNING - input: 3 123, output=126\n",
      "--- Logging error ---\n",
      "Traceback (most recent call last):\n",
      "  File \"C:\\Users\\FLEXINK-02\\AppData\\Local\\Programs\\Python\\Python39\\lib\\logging\\__init__.py\", line 434, in format\n",
      "    return self._format(record)\n",
      "  File \"C:\\Users\\FLEXINK-02\\AppData\\Local\\Programs\\Python\\Python39\\lib\\logging\\__init__.py\", line 430, in _format\n",
      "    return self._fmt % record.__dict__\n",
      "KeyError: 'ineno'\n",
      "\n",
      "During handling of the above exception, another exception occurred:\n",
      "\n",
      "Traceback (most recent call last):\n",
      "  File \"C:\\Users\\FLEXINK-02\\AppData\\Local\\Programs\\Python\\Python39\\lib\\logging\\__init__.py\", line 1083, in emit\n",
      "    msg = self.format(record)\n",
      "  File \"C:\\Users\\FLEXINK-02\\AppData\\Local\\Programs\\Python\\Python39\\lib\\logging\\__init__.py\", line 927, in format\n",
      "    return fmt.format(record)\n",
      "  File \"C:\\Users\\FLEXINK-02\\AppData\\Local\\Programs\\Python\\Python39\\lib\\logging\\__init__.py\", line 666, in format\n",
      "    s = self.formatMessage(record)\n",
      "  File \"C:\\Users\\FLEXINK-02\\AppData\\Local\\Programs\\Python\\Python39\\lib\\logging\\__init__.py\", line 635, in formatMessage\n",
      "    return self._style.format(record)\n",
      "  File \"C:\\Users\\FLEXINK-02\\AppData\\Local\\Programs\\Python\\Python39\\lib\\logging\\__init__.py\", line 436, in format\n",
      "    raise ValueError('Formatting field not found in record: %s' % e)\n",
      "ValueError: Formatting field not found in record: 'ineno'\n",
      "Call stack:\n",
      "  File \"C:\\Users\\FLEXINK-02\\AppData\\Local\\Programs\\Python\\Python39\\lib\\runpy.py\", line 197, in _run_module_as_main\n",
      "    return _run_code(code, main_globals, None,\n",
      "  File \"C:\\Users\\FLEXINK-02\\AppData\\Local\\Programs\\Python\\Python39\\lib\\runpy.py\", line 87, in _run_code\n",
      "    exec(code, run_globals)\n",
      "  File \"c:\\users\\flexink-02\\documents\\basic-project\\venv\\lib\\site-packages\\ipykernel_launcher.py\", line 16, in <module>\n",
      "    app.launch_new_instance()\n",
      "  File \"c:\\users\\flexink-02\\documents\\basic-project\\venv\\lib\\site-packages\\traitlets\\config\\application.py\", line 846, in launch_instance\n",
      "    app.start()\n",
      "  File \"c:\\users\\flexink-02\\documents\\basic-project\\venv\\lib\\site-packages\\ipykernel\\kernelapp.py\", line 677, in start\n",
      "    self.io_loop.start()\n",
      "  File \"c:\\users\\flexink-02\\documents\\basic-project\\venv\\lib\\site-packages\\tornado\\platform\\asyncio.py\", line 199, in start\n",
      "    self.asyncio_loop.run_forever()\n",
      "  File \"C:\\Users\\FLEXINK-02\\AppData\\Local\\Programs\\Python\\Python39\\lib\\asyncio\\base_events.py\", line 596, in run_forever\n",
      "    self._run_once()\n",
      "  File \"C:\\Users\\FLEXINK-02\\AppData\\Local\\Programs\\Python\\Python39\\lib\\asyncio\\base_events.py\", line 1890, in _run_once\n",
      "    handle._run()\n",
      "  File \"C:\\Users\\FLEXINK-02\\AppData\\Local\\Programs\\Python\\Python39\\lib\\asyncio\\events.py\", line 80, in _run\n",
      "    self._context.run(self._callback, *self._args)\n",
      "  File \"c:\\users\\flexink-02\\documents\\basic-project\\venv\\lib\\site-packages\\ipykernel\\kernelbase.py\", line 457, in dispatch_queue\n",
      "    await self.process_one()\n",
      "  File \"c:\\users\\flexink-02\\documents\\basic-project\\venv\\lib\\site-packages\\ipykernel\\kernelbase.py\", line 446, in process_one\n",
      "    await dispatch(*args)\n",
      "  File \"c:\\users\\flexink-02\\documents\\basic-project\\venv\\lib\\site-packages\\ipykernel\\kernelbase.py\", line 353, in dispatch_shell\n",
      "    await result\n",
      "  File \"c:\\users\\flexink-02\\documents\\basic-project\\venv\\lib\\site-packages\\ipykernel\\kernelbase.py\", line 648, in execute_request\n",
      "    reply_content = await reply_content\n",
      "  File \"c:\\users\\flexink-02\\documents\\basic-project\\venv\\lib\\site-packages\\ipykernel\\ipkernel.py\", line 353, in do_execute\n",
      "    res = shell.run_cell(code, store_history=store_history, silent=silent)\n",
      "  File \"c:\\users\\flexink-02\\documents\\basic-project\\venv\\lib\\site-packages\\ipykernel\\zmqshell.py\", line 532, in run_cell\n",
      "    return super().run_cell(*args, **kwargs)\n",
      "  File \"c:\\users\\flexink-02\\documents\\basic-project\\venv\\lib\\site-packages\\IPython\\core\\interactiveshell.py\", line 2768, in run_cell\n",
      "    result = self._run_cell(\n",
      "  File \"c:\\users\\flexink-02\\documents\\basic-project\\venv\\lib\\site-packages\\IPython\\core\\interactiveshell.py\", line 2814, in _run_cell\n",
      "    return runner(coro)\n",
      "  File \"c:\\users\\flexink-02\\documents\\basic-project\\venv\\lib\\site-packages\\IPython\\core\\async_helpers.py\", line 129, in _pseudo_sync_runner\n",
      "    coro.send(None)\n",
      "  File \"c:\\users\\flexink-02\\documents\\basic-project\\venv\\lib\\site-packages\\IPython\\core\\interactiveshell.py\", line 3012, in run_cell_async\n",
      "    has_raised = await self.run_ast_nodes(code_ast.body, cell_name,\n",
      "  File \"c:\\users\\flexink-02\\documents\\basic-project\\venv\\lib\\site-packages\\IPython\\core\\interactiveshell.py\", line 3191, in run_ast_nodes\n",
      "    if await self.run_code(code, result, async_=asy):\n",
      "  File \"c:\\users\\flexink-02\\documents\\basic-project\\venv\\lib\\site-packages\\IPython\\core\\interactiveshell.py\", line 3251, in run_code\n",
      "    exec(code_obj, self.user_global_ns, self.user_ns)\n",
      "  File \"C:\\Users\\FLEXIN~1\\AppData\\Local\\Temp/ipykernel_16088/2050424705.py\", line 23, in <module>\n",
      "    result = hap(3, 123)# 경고 메시지 또는 특수한 Logger 객체를 발행하도록 코드를 수정한다. logging.getLogger(__name__)으로 생성한 것\n",
      "  File \"C:\\Users\\FLEXIN~1\\AppData\\Local\\Temp/ipykernel_16088/2050424705.py\", line 20, in hap\n",
      "    logging.warn(f\"input: {a} {b}, output={ret}\")\n",
      "Message: 'input: 3 123, output=126'\n",
      "Arguments: ()\n",
      "--- Logging error ---\n",
      "Traceback (most recent call last):\n",
      "  File \"C:\\Users\\FLEXINK-02\\AppData\\Local\\Programs\\Python\\Python39\\lib\\logging\\__init__.py\", line 434, in format\n",
      "    return self._format(record)\n",
      "  File \"C:\\Users\\FLEXINK-02\\AppData\\Local\\Programs\\Python\\Python39\\lib\\logging\\__init__.py\", line 430, in _format\n",
      "    return self._fmt % record.__dict__\n",
      "KeyError: 'ineno'\n",
      "\n",
      "During handling of the above exception, another exception occurred:\n",
      "\n",
      "Traceback (most recent call last):\n",
      "  File \"C:\\Users\\FLEXINK-02\\AppData\\Local\\Programs\\Python\\Python39\\lib\\logging\\__init__.py\", line 1083, in emit\n",
      "    msg = self.format(record)\n",
      "  File \"C:\\Users\\FLEXINK-02\\AppData\\Local\\Programs\\Python\\Python39\\lib\\logging\\__init__.py\", line 927, in format\n",
      "    return fmt.format(record)\n",
      "  File \"C:\\Users\\FLEXINK-02\\AppData\\Local\\Programs\\Python\\Python39\\lib\\logging\\__init__.py\", line 666, in format\n",
      "    s = self.formatMessage(record)\n",
      "  File \"C:\\Users\\FLEXINK-02\\AppData\\Local\\Programs\\Python\\Python39\\lib\\logging\\__init__.py\", line 635, in formatMessage\n",
      "    return self._style.format(record)\n",
      "  File \"C:\\Users\\FLEXINK-02\\AppData\\Local\\Programs\\Python\\Python39\\lib\\logging\\__init__.py\", line 436, in format\n",
      "    raise ValueError('Formatting field not found in record: %s' % e)\n",
      "ValueError: Formatting field not found in record: 'ineno'\n",
      "Call stack:\n",
      "  File \"C:\\Users\\FLEXINK-02\\AppData\\Local\\Programs\\Python\\Python39\\lib\\runpy.py\", line 197, in _run_module_as_main\n",
      "    return _run_code(code, main_globals, None,\n",
      "  File \"C:\\Users\\FLEXINK-02\\AppData\\Local\\Programs\\Python\\Python39\\lib\\runpy.py\", line 87, in _run_code\n",
      "    exec(code, run_globals)\n",
      "  File \"c:\\users\\flexink-02\\documents\\basic-project\\venv\\lib\\site-packages\\ipykernel_launcher.py\", line 16, in <module>\n",
      "    app.launch_new_instance()\n",
      "  File \"c:\\users\\flexink-02\\documents\\basic-project\\venv\\lib\\site-packages\\traitlets\\config\\application.py\", line 846, in launch_instance\n",
      "    app.start()\n",
      "  File \"c:\\users\\flexink-02\\documents\\basic-project\\venv\\lib\\site-packages\\ipykernel\\kernelapp.py\", line 677, in start\n",
      "    self.io_loop.start()\n",
      "  File \"c:\\users\\flexink-02\\documents\\basic-project\\venv\\lib\\site-packages\\tornado\\platform\\asyncio.py\", line 199, in start\n",
      "    self.asyncio_loop.run_forever()\n",
      "  File \"C:\\Users\\FLEXINK-02\\AppData\\Local\\Programs\\Python\\Python39\\lib\\asyncio\\base_events.py\", line 596, in run_forever\n",
      "    self._run_once()\n",
      "  File \"C:\\Users\\FLEXINK-02\\AppData\\Local\\Programs\\Python\\Python39\\lib\\asyncio\\base_events.py\", line 1890, in _run_once\n",
      "    handle._run()\n",
      "  File \"C:\\Users\\FLEXINK-02\\AppData\\Local\\Programs\\Python\\Python39\\lib\\asyncio\\events.py\", line 80, in _run\n",
      "    self._context.run(self._callback, *self._args)\n",
      "  File \"c:\\users\\flexink-02\\documents\\basic-project\\venv\\lib\\site-packages\\ipykernel\\kernelbase.py\", line 457, in dispatch_queue\n",
      "    await self.process_one()\n",
      "  File \"c:\\users\\flexink-02\\documents\\basic-project\\venv\\lib\\site-packages\\ipykernel\\kernelbase.py\", line 446, in process_one\n",
      "    await dispatch(*args)\n",
      "  File \"c:\\users\\flexink-02\\documents\\basic-project\\venv\\lib\\site-packages\\ipykernel\\kernelbase.py\", line 353, in dispatch_shell\n",
      "    await result\n",
      "  File \"c:\\users\\flexink-02\\documents\\basic-project\\venv\\lib\\site-packages\\ipykernel\\kernelbase.py\", line 648, in execute_request\n",
      "    reply_content = await reply_content\n",
      "  File \"c:\\users\\flexink-02\\documents\\basic-project\\venv\\lib\\site-packages\\ipykernel\\ipkernel.py\", line 353, in do_execute\n",
      "    res = shell.run_cell(code, store_history=store_history, silent=silent)\n",
      "  File \"c:\\users\\flexink-02\\documents\\basic-project\\venv\\lib\\site-packages\\ipykernel\\zmqshell.py\", line 532, in run_cell\n",
      "    return super().run_cell(*args, **kwargs)\n",
      "  File \"c:\\users\\flexink-02\\documents\\basic-project\\venv\\lib\\site-packages\\IPython\\core\\interactiveshell.py\", line 2768, in run_cell\n",
      "    result = self._run_cell(\n",
      "  File \"c:\\users\\flexink-02\\documents\\basic-project\\venv\\lib\\site-packages\\IPython\\core\\interactiveshell.py\", line 2814, in _run_cell\n",
      "    return runner(coro)\n",
      "  File \"c:\\users\\flexink-02\\documents\\basic-project\\venv\\lib\\site-packages\\IPython\\core\\async_helpers.py\", line 129, in _pseudo_sync_runner\n",
      "    coro.send(None)\n",
      "  File \"c:\\users\\flexink-02\\documents\\basic-project\\venv\\lib\\site-packages\\IPython\\core\\interactiveshell.py\", line 3012, in run_cell_async\n",
      "    has_raised = await self.run_ast_nodes(code_ast.body, cell_name,\n",
      "  File \"c:\\users\\flexink-02\\documents\\basic-project\\venv\\lib\\site-packages\\IPython\\core\\interactiveshell.py\", line 3191, in run_ast_nodes\n",
      "    if await self.run_code(code, result, async_=asy):\n",
      "  File \"c:\\users\\flexink-02\\documents\\basic-project\\venv\\lib\\site-packages\\IPython\\core\\interactiveshell.py\", line 3251, in run_code\n",
      "    exec(code_obj, self.user_global_ns, self.user_ns)\n",
      "  File \"C:\\Users\\FLEXIN~1\\AppData\\Local\\Temp/ipykernel_16088/2050424705.py\", line 23, in <module>\n",
      "    result = hap(3, 123)# 경고 메시지 또는 특수한 Logger 객체를 발행하도록 코드를 수정한다. logging.getLogger(__name__)으로 생성한 것\n",
      "  File \"C:\\Users\\FLEXIN~1\\AppData\\Local\\Temp/ipykernel_16088/2050424705.py\", line 20, in hap\n",
      "    logging.warn(f\"input: {a} {b}, output={ret}\")\n",
      "Message: 'input: 3 123, output=126'\n",
      "Arguments: ()\n",
      "2022-04-19 15:33:24,116 - 2050424705.py - 20 - WARNING - input: 3 123, output=126\n",
      "2022-04-19 15:33:24,116 - 2050424705.py - 20 - WARNING - input: 3 123, output=126\n",
      "2022-04-19 15:33:24,116 - 2050424705.py - 20 - WARNING - input: 3 123, output=126\n",
      "2022-04-19 15:33:24,116 - 2050424705.py - 20 - WARNING - input: 3 123, output=126\n",
      "2022-04-19 15:33:24,116 - root - 20 - WARNING - input: 3 123, output=126\n",
      "2022-04-19 15:33:24,116 - root -  WARNING - input: 3 123, output=126\n",
      "2022-04-19 15:33:24,116 - root -  WARNING - input: 3 123, output=126\n",
      "2022-04-19 15:33:24,116 - 2050424705.py - 20 - WARNING - input: 3 123, output=126\n",
      "2022-04-19 15:33:24,116 - 2050424705.py - 20 - WARNING - input: 3 123, output=126\n",
      "2022-04-19 15:33:24,116 - 2050424705.py - 20 - WARNING - input: 3 123, output=126\n",
      "2022-04-19 15:33:24,116 - 2050424705.py - 20 - WARNING - input: 3 123, output=126\n"
     ]
    },
    {
     "data": {
      "text/plain": "126"
     },
     "execution_count": 18,
     "metadata": {},
     "output_type": "execute_result"
    }
   ],
   "source": [
    "import logging\n",
    "\n",
    "logger = logging.getLogger()\n",
    "logger.setLevel(logging.INFO)\n",
    "\n",
    "formatter = logging.Formatter('%(asctime)s - %(filename)s - %(lineno)d - %(levelname)s - %(message)s')\n",
    "# logging.basicConfig(level=logging.INFO)\n",
    "file_handler = logging.FileHandler('/temp/my.log')\n",
    "file_handler.setFormatter(formatter)\n",
    "logger.addHandler(file_handler)\n",
    "\n",
    "stream_handler = logging.StreamHandler()\n",
    "stream_handler.setFormatter(formatter)\n",
    "logger.addHandler(stream_handler)\n",
    "\n",
    "\n",
    "\n",
    "def hap(a, b):\n",
    "    ret = a + b\n",
    "    logging.warn(f\"input: {a} {b}, output={ret}\")\n",
    "    return ret\n",
    "\n",
    "result = hap(3, 123)# 경고 메시지 또는 특수한 Logger 객체를 발행하도록 코드를 수정한다. logging.getLogger(__name__)으로 생성한 것\n",
    "result"
   ],
   "metadata": {
    "collapsed": false,
    "pycharm": {
     "name": "#%%\n"
    }
   }
  },
  {
   "cell_type": "markdown",
   "source": [
    "로거 객체를 생성\n",
    "\n",
    "name ='asdaf'\n",
    "\n",
    "log = logging.getLogger(name)\n",
    "\n",
    "로그 메세지를 발행\n",
    "\n",
    "log.critical(message [, args])\n",
    "log.error(message [, args])\n",
    "log.warning(message [, args])\n",
    "log.info(message [, args])\n",
    "log.debug(message [, args])"
   ],
   "metadata": {
    "collapsed": false,
    "pycharm": {
     "name": "#%% md\n"
    }
   }
  },
  {
   "cell_type": "code",
   "execution_count": null,
   "outputs": [],
   "source": [],
   "metadata": {
    "collapsed": false,
    "pycharm": {
     "name": "#%%\n"
    }
   }
  },
  {
   "cell_type": "markdown",
   "source": [
    "# 데이터 테이블\n",
    "\n",
    "데이터 테이블을 이용하여 데이터 빨리 불러오기"
   ],
   "metadata": {
    "collapsed": false,
    "pycharm": {
     "name": "#%% md\n"
    }
   }
  },
  {
   "cell_type": "code",
   "execution_count": null,
   "outputs": [],
   "source": [
    "#import datatable as dt  # -> 큰 크기의 파일 빨리 불러올 수 있음\n",
    "import pandas as pd\n",
    "\n",
    "datatable_df = dt.fread('data.csv', encoding='utf-8')\n",
    "df = datatable_df.to_pandas()"
   ],
   "metadata": {
    "collapsed": false,
    "pycharm": {
     "name": "#%%\n"
    }
   }
  },
  {
   "cell_type": "code",
   "execution_count": null,
   "outputs": [],
   "source": [],
   "metadata": {
    "collapsed": false,
    "pycharm": {
     "name": "#%%\n"
    }
   }
  },
  {
   "cell_type": "code",
   "execution_count": null,
   "outputs": [],
   "source": [],
   "metadata": {
    "collapsed": false,
    "pycharm": {
     "name": "#%%\n"
    }
   }
  }
 ],
 "metadata": {
  "kernelspec": {
   "display_name": "Python 3",
   "language": "python",
   "name": "python3"
  },
  "language_info": {
   "codemirror_mode": {
    "name": "ipython",
    "version": 2
   },
   "file_extension": ".py",
   "mimetype": "text/x-python",
   "name": "python",
   "nbconvert_exporter": "python",
   "pygments_lexer": "ipython2",
   "version": "2.7.6"
  }
 },
 "nbformat": 4,
 "nbformat_minor": 0
}