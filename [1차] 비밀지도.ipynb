{
 "cells": [
  {
   "cell_type": "code",
   "execution_count": 1,
   "metadata": {},
   "outputs": [],
   "source": [
    "def solution(n, arr1, arr2):\n",
    "    answer = []\n",
    "    # 이진법으로 변환\n",
    "    \n",
    "    # bin(arr1[i])[2:] -> 1~n까지임...\n",
    "    for i in range(len(arr1)): \n",
    "        a=''\n",
    "        arr1_2=str(bin(arr1[i])[2:])\n",
    "        arr2_2=str(bin(arr2[i])[2:])\n",
    "        if len(arr1_2) !=n:\n",
    "            arr1_2=' '*(n-len(arr1_2))+arr1_2    \n",
    "        if len(arr2_2) !=n:\n",
    "            arr2_2=' '*(n-len(arr2_2))+arr2_2  \n",
    "        for j in range(n):\n",
    "            if arr1_2[j]=='1' or arr2_2[j]=='1':\n",
    "                a+='#'\n",
    "            else:\n",
    "                a+=' '\n",
    "        answer.append(a)\n",
    "    \n",
    "    return answer"
   ]
  }
 ],
 "metadata": {
  "kernelspec": {
   "display_name": "Python 3",
   "language": "python",
   "name": "python3"
  },
  "language_info": {
   "codemirror_mode": {
    "name": "ipython",
    "version": 3
   },
   "file_extension": ".py",
   "mimetype": "text/x-python",
   "name": "python",
   "nbconvert_exporter": "python",
   "pygments_lexer": "ipython3",
   "version": "3.7.9"
  }
 },
 "nbformat": 4,
 "nbformat_minor": 4
}
