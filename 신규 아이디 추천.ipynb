{
 "cells": [
  {
   "cell_type": "code",
   "execution_count": 24,
   "metadata": {},
   "outputs": [
    {
     "data": {
      "text/plain": [
       "'Therewerenine9chick-peasinmypocket'"
      ]
     },
     "execution_count": 24,
     "metadata": {},
     "output_type": "execute_result"
    }
   ],
   "source": [
    "import string\n",
    "import re\n",
    "\n",
    "phrase = '  There were \"nine\" (9) chick-peas in my pocket!!!      '\n",
    "allow = string.ascii_letters + string.digits + '-'\n",
    "re.sub('[^%s]' % allow, '', phrase)\n",
    "\n",
    "# 특정문자만 허용되는 역요구사항의 경우 set 보완연산자로 정규식 사용\n",
    "# ^ -> not([]안에 있을때), 처음과 매칭([]밖에 있을때)   ex) [^0-9] -> 숫자가 아님, '^choco' -> 문자열의 처음과 매칭 (시작점에 매칭될때만 해당됨)   \n"
   ]
  },
  {
   "cell_type": "code",
   "execution_count": 26,
   "metadata": {},
   "outputs": [
    {
     "data": {
      "text/plain": [
       "'0123456789'"
      ]
     },
     "execution_count": 26,
     "metadata": {},
     "output_type": "execute_result"
    }
   ],
   "source": [
    "string.digits "
   ]
  },
  {
   "cell_type": "code",
   "execution_count": 27,
   "metadata": {},
   "outputs": [
    {
     "data": {
      "text/plain": [
       "'abcdefghijklmnopqrstuvwxyzABCDEFGHIJKLMNOPQRSTUVWXYZ'"
      ]
     },
     "execution_count": 27,
     "metadata": {},
     "output_type": "execute_result"
    }
   ],
   "source": [
    "string.ascii_letters"
   ]
  },
  {
   "cell_type": "code",
   "execution_count": 58,
   "metadata": {},
   "outputs": [
    {
     "data": {
      "text/plain": [
       "'...BaT..y.abcdefghijklm_-.'"
      ]
     },
     "execution_count": 58,
     "metadata": {},
     "output_type": "execute_result"
    }
   ],
   "source": [
    "answer= \"...!@BaT#*..y.abcdefghijklm^=+!@#$%^&*()_-.=\"\n",
    "#answer=\"z-+.^.\"\n",
    "#answer=\"=.=\"\n",
    "\n",
    "\n",
    "allow= string.ascii_letters+string.digits+'\\-'+'\\_'+'\\.'\n",
    "answer=re.sub('[^%s]'%allow,'',answer )\n",
    "answer\n",
    "# 정규식에서 특수문자를 넣어줄때 \\를 붙여줘야함\n"
   ]
  },
  {
   "cell_type": "code",
   "execution_count": 64,
   "metadata": {},
   "outputs": [
    {
     "data": {
      "text/plain": [
       "2"
      ]
     },
     "execution_count": 64,
     "metadata": {},
     "output_type": "execute_result"
    }
   ],
   "source": [
    "a='z1'\n",
    "len(a)"
   ]
  },
  {
   "cell_type": "code",
   "execution_count": null,
   "metadata": {},
   "outputs": [],
   "source": [
    "# 다른 사람 풀이\n",
    "\n",
    "import re\n",
    "\n",
    "def solution(new_id):\n",
    "    st = new_id\n",
    "    st = st.lower()\n",
    "    st = re.sub('[^a-z0-9\\-_.]', '', st)\n",
    "    st = re.sub('\\.+', '.', st)\n",
    "    st = re.sub('^[.]|[.]$', '', st)\n",
    "    st = 'a' if len(st) == 0 else st[:15]\n",
    "    st = re.sub('^[.]|[.]$', '', st)\n",
    "    st = st if len(st) > 2 else st + \"\".join([st[-1] for i in range(3-len(st))])\n",
    "    return st\n"
   ]
  },
  {
   "cell_type": "code",
   "execution_count": null,
   "metadata": {},
   "outputs": [],
   "source": [
    "import string\n",
    "import re\n",
    "\n",
    "def solution(new_id):\n",
    "    #print(new_id[:2]+new_id[4:]) -> 3,4 인덱스 생략\n",
    "    #1 완\n",
    "    answer = new_id.lower()\n",
    "    #2 완\n",
    "     #-> 돌면서 삭제하니깐 인덱스 에러남-> 공백으로 처리후 한꺼번에 처리 -> 정규표현식으로 한번에 처리\n",
    "    allow= string.ascii_letters+string.digits+'\\-'+'\\_'+'\\.'\n",
    "    answer=re.sub('[^%s]'%allow,'',answer )\n",
    "    #3 -> 돌면서 삭제하니깐 인덱스 에러가 남 -> 포문으로 따로 빼야함 -> 2번 이상인 경우 모두 포함-> 문자열을 공백으로 처리하고 제거 (완)\n",
    "    for i in range(len(answer)):    \n",
    "        if i<len(answer)-1 and answer[i]=='.' and answer[i+1]=='.':\n",
    "                answer=answer[:i]+' '+answer[(i+1):]\n",
    "    answer=answer.replace(' ','')\n",
    "                \n",
    "    #4 완\n",
    "    if answer[0]=='.':\n",
    "        answer=answer[1:]\n",
    "    elif answer[-1]=='.':\n",
    "        answer=answer[:-1] \n",
    "    \n",
    "    #5 완\n",
    "    if answer=='':\n",
    "        answer='a'\n",
    "    #6 완\n",
    "    if len(answer) >= 16: #.이 여러개 붙을 수 있음\n",
    "        answer=answer[:15]\n",
    "    if answer[-1]=='.':\n",
    "        answer=answer[:-1] \n",
    "    #7 \n",
    "    if len(answer) <=2:\n",
    "        i=len(answer)\n",
    "        while i<3:\n",
    "            answer=answer+answer[-1]\n",
    "            i+=1\n",
    "        \n",
    "    return answer"
   ]
  }
 ],
 "metadata": {
  "kernelspec": {
   "display_name": "Python 3",
   "language": "python",
   "name": "python3"
  },
  "language_info": {
   "codemirror_mode": {
    "name": "ipython",
    "version": 3
   },
   "file_extension": ".py",
   "mimetype": "text/x-python",
   "name": "python",
   "nbconvert_exporter": "python",
   "pygments_lexer": "ipython3",
   "version": "3.7.9"
  }
 },
 "nbformat": 4,
 "nbformat_minor": 4
}
