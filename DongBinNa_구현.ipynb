{
 "cells": [
  {
   "cell_type": "markdown",
   "metadata": {},
   "source": [
    "# 4-1 상하좌우"
   ]
  },
  {
   "cell_type": "code",
   "execution_count": 2,
   "metadata": {},
   "outputs": [
    {
     "name": "stdout",
     "output_type": "stream",
     "text": [
      "5\n",
      "R R R U D D\n"
     ]
    }
   ],
   "source": [
    "n=int(input())\n",
    "a=list(input().split())"
   ]
  },
  {
   "cell_type": "code",
   "execution_count": 18,
   "metadata": {},
   "outputs": [
    {
     "name": "stdout",
     "output_type": "stream",
     "text": [
      "3 4\n"
     ]
    }
   ],
   "source": [
    "answer=[1,1]\n",
    "\n",
    "for i in range(len(a)):\n",
    "    if a[i]=='R' and 0< answer[1]+1  and answer[1]+1 <= n:\n",
    "        answer[1]+=1\n",
    "    elif a[i]=='L' and 0< answer[1]-1  and answer[1]-1 <= n:\n",
    "        answer[1]-=1    \n",
    "    elif a[i]=='U' and 0< answer[0]-1  and answer[0]-1 <= n:\n",
    "        answer[0]-=1    \n",
    "    elif a[i]=='D' and 0< answer[0]+1  and answer[0]+1 <= n:\n",
    "        answer[0]+=1    \n",
    "print(answer[0],answer[1])        "
   ]
  },
  {
   "cell_type": "markdown",
   "metadata": {},
   "source": [
    "# 4-2 시각 "
   ]
  },
  {
   "cell_type": "code",
   "execution_count": 19,
   "metadata": {},
   "outputs": [
    {
     "name": "stdout",
     "output_type": "stream",
     "text": [
      "입력 :5\n"
     ]
    }
   ],
   "source": [
    "n=int(input('입력 :'))"
   ]
  },
  {
   "cell_type": "code",
   "execution_count": 23,
   "metadata": {},
   "outputs": [
    {
     "name": "stdout",
     "output_type": "stream",
     "text": [
      "11475\n"
     ]
    }
   ],
   "source": [
    "count=0\n",
    "for i in range(n+1):# n<24\n",
    "    for j in range(60):\n",
    "        for k in range(60):\n",
    "            if (str(i+1)+str(j+1)+str(k+1)).count('3') >=1:\n",
    "                count+=1\n",
    "print(count)               "
   ]
  },
  {
   "cell_type": "code",
   "execution_count": null,
   "metadata": {},
   "outputs": [],
   "source": [
    "# 답안예시\n",
    "count=0\n",
    "for i in range(n+1):# n<24\n",
    "    for j in range(60):\n",
    "        for k in range(60):\n",
    "            if '3' in str(i+1)+str(j+1)+str(k+1): # 3이 문자열에 있는지  in 활용!!!\n",
    "                count+=1\n",
    "print(count)               "
   ]
  },
  {
   "cell_type": "markdown",
   "metadata": {},
   "source": [
    "# 4-3 왕실의 나이트"
   ]
  },
  {
   "cell_type": "code",
   "execution_count": 89,
   "metadata": {},
   "outputs": [
    {
     "name": "stdout",
     "output_type": "stream",
     "text": [
      "d4\n"
     ]
    }
   ],
   "source": [
    "loc= input()"
   ]
  },
  {
   "cell_type": "code",
   "execution_count": 90,
   "metadata": {},
   "outputs": [],
   "source": [
    "answer=0\n",
    "# 1. 생각나는 방법 -> 알파벳을 숫자로 바꿔 좌표로 게산 \n",
    "location=[0,0]\n",
    "location[0],location[1]=ord(loc[0]),int(loc[1]) # ord-> 아스키코드로 변환"
   ]
  },
  {
   "cell_type": "code",
   "execution_count": 86,
   "metadata": {},
   "outputs": [
    {
     "data": {
      "text/plain": [
       "[98, 3]"
      ]
     },
     "execution_count": 86,
     "metadata": {},
     "output_type": "execute_result"
    }
   ],
   "source": [
    "location"
   ]
  },
  {
   "cell_type": "code",
   "execution_count": 91,
   "metadata": {},
   "outputs": [
    {
     "data": {
      "text/plain": [
       "8"
      ]
     },
     "execution_count": 91,
     "metadata": {},
     "output_type": "execute_result"
    }
   ],
   "source": [
    "answer=0\n",
    "for i in range(2):\n",
    "    for j in range(2):\n",
    "        for k in range(2):\n",
    "            location[0],location[1]=ord(loc[0]),int(loc[1])\n",
    "            location[k]+=(4*i-2) \n",
    "            location[pow((k-1),2)]+=(2*j-1)\n",
    "            if 0< location[1] and location[1]<9 and 96 < location[0] and location[0]< 105:\n",
    "                answer+=1 \n",
    "answer"
   ]
  },
  {
   "cell_type": "code",
   "execution_count": 93,
   "metadata": {},
   "outputs": [
    {
     "name": "stdout",
     "output_type": "stream",
     "text": [
      "a1\n"
     ]
    },
    {
     "data": {
      "text/plain": [
       "2"
      ]
     },
     "execution_count": 93,
     "metadata": {},
     "output_type": "execute_result"
    }
   ],
   "source": [
    "# 답안예시\n",
    "input_data=input()\n",
    "row= int(input_data[1])\n",
    "column=int(ord(input_data[0]))-int(ord('a'))+1\n",
    "\n",
    "steps=[(-2,-1),(-1,-2),(1,-2),(2,-1),(2,1),(1,2),(-1,2),(-2,1)]\n",
    "\n",
    "result=0\n",
    "for step in steps:\n",
    "    next_row = row+ step[0]\n",
    "    next_column=column+step[1]\n",
    "    if 0< next_row and next_row<9 and 0 < next_column and next_column< 9:\n",
    "            result+=1 \n",
    "result\n",
    "\n"
   ]
  },
  {
   "cell_type": "markdown",
   "metadata": {},
   "source": [
    "# 4-3 게임개발"
   ]
  },
  {
   "cell_type": "code",
   "execution_count": 109,
   "metadata": {},
   "outputs": [
    {
     "name": "stdout",
     "output_type": "stream",
     "text": [
      "4 4\n",
      "1 1 0\n",
      "1 1 1 1\n",
      "1 0 0 1\n",
      "1 1 0 1\n",
      "1 1 1 1\n"
     ]
    }
   ],
   "source": [
    "n,m=map(int,input().split())\n",
    "gamer=list(map(int,input().split()))\n",
    "data=[list(map(int,input().split())) for i in range(n)]"
   ]
  },
  {
   "cell_type": "code",
   "execution_count": 110,
   "metadata": {},
   "outputs": [
    {
     "data": {
      "text/plain": [
       "[[1, 1, 1, 1], [1, 0, 0, 1], [1, 1, 0, 1], [1, 1, 1, 1]]"
      ]
     },
     "execution_count": 110,
     "metadata": {},
     "output_type": "execute_result"
    }
   ],
   "source": [
    "data"
   ]
  },
  {
   "cell_type": "code",
   "execution_count": null,
   "metadata": {},
   "outputs": [],
   "source": [
    "anwer=0\n",
    "visited=data # 방문한 곳 표시\n",
    "# 방향전환\n",
    "def dire(n):\n",
    "    if n==0:\n",
    "        return 3\n",
    "    elif n==1:\n",
    "        return 0\n",
    "    elif n==2:\n",
    "        return 1\n",
    "    elif n==3:\n",
    "        return 2\n",
    "\n",
    "# 방향이동\n",
    "def move(n,abc):\n",
    "    if n==0:\n",
    "        abc[1]+=1\n",
    "    elif n==1:\n",
    "        abc[0]+=1\n",
    "    elif n==2:\n",
    "        abc[0]-=1\n",
    "    elif n==3:\n",
    "        abc[0]-=1    \n",
    "# 뒤로 이동\n",
    "def move_back(n,abc):\n",
    "    if n==0:\n",
    "        abc[1]-=1\n",
    "    elif n==1:\n",
    "        abc[0]-=1\n",
    "    elif n==2:\n",
    "        abc[0]+=1\n",
    "    elif n==3:\n",
    "        abc[0]+=1  \n",
    "# 1\n",
    "gamer[2]=dire(gamer[2])\n",
    "visted[gamer[0],gamer[1]]='visit'\n",
    "# 2 \n",
    "\n",
    "next_step=gamer\n",
    "move(next_step[2],next_step)\n",
    "if data[next_step[0],next_step[1]]==0:\n",
    "    move(gamer[2],gamer)\n",
    "    visted[next_step[0],next_step[1]]='visit'\n",
    "# 3\n",
    "\n",
    "if visted[gamer[0]+1,gamer[1]]='visit' and visted[gamer[0],gamer[1]]+1='visit' and visted[gamer[0],gamer[1]]-1='visit' and visted[gamer[0]-1,gamer[1]]='visit':\n",
    "    move_back(next_step[2],next_step)\n",
    "    if data[next_step[0],next_step[1]]==1:\n",
    "        break\n",
    "    move_back(gamer[2],gamer)\n",
    "# 방문개수 세기\n",
    "for i in range(n):\n",
    "    answer+=visted[i].count('visit')\n",
    "print(answer)    \n",
    "    "
   ]
  },
  {
   "cell_type": "code",
   "execution_count": 118,
   "metadata": {},
   "outputs": [],
   "source": [
    "anwer=0\n",
    "visited=data # 방문한 곳 표시\n",
    "# 방향전환\n",
    "def dire(n):\n",
    "    if n==0:\n",
    "        return 3\n",
    "    elif n==1:\n",
    "        return 0\n",
    "    elif n==2:\n",
    "        return 1\n",
    "    elif n==3:\n",
    "        return 2\n",
    "\n",
    "# 방향이동\n",
    "def move(n,abc):\n",
    "    if n==0:\n",
    "        abc[1]+=1\n",
    "    elif n==1:\n",
    "        abc[0]+=1\n",
    "    elif n==2:\n",
    "        abc[0]-=1\n",
    "    elif n==3:\n",
    "        abc[0]-=1    \n",
    "# 뒤로 이동\n",
    "def move_back(n,abc):\n",
    "    if n==0:\n",
    "        abc[1]-=1\n",
    "    elif n==1:\n",
    "        abc[0]-=1\n",
    "    elif n==2:\n",
    "        abc[0]+=1\n",
    "    elif n==3:\n",
    "        abc[0]+=1  "
   ]
  },
  {
   "cell_type": "code",
   "execution_count": 131,
   "metadata": {},
   "outputs": [
    {
     "data": {
      "text/plain": [
       "[1, 1, 1, 1]"
      ]
     },
     "execution_count": 131,
     "metadata": {},
     "output_type": "execute_result"
    }
   ],
   "source": [
    "visted[0]"
   ]
  },
  {
   "cell_type": "code",
   "execution_count": 137,
   "metadata": {},
   "outputs": [
    {
     "ename": "IndexError",
     "evalue": "list index out of range",
     "output_type": "error",
     "traceback": [
      "\u001b[1;31m---------------------------------------------------------------------------\u001b[0m",
      "\u001b[1;31mIndexError\u001b[0m                                Traceback (most recent call last)",
      "\u001b[1;32m<ipython-input-137-29cffc103509>\u001b[0m in \u001b[0;36m<module>\u001b[1;34m\u001b[0m\n\u001b[0;32m      6\u001b[0m     \u001b[0mvisted\u001b[0m\u001b[1;33m[\u001b[0m\u001b[0mgamer\u001b[0m\u001b[1;33m[\u001b[0m\u001b[1;36m0\u001b[0m\u001b[1;33m]\u001b[0m\u001b[1;33m]\u001b[0m\u001b[1;33m[\u001b[0m\u001b[0mgamer\u001b[0m\u001b[1;33m[\u001b[0m\u001b[1;36m1\u001b[0m\u001b[1;33m]\u001b[0m\u001b[1;33m]\u001b[0m\u001b[1;33m=\u001b[0m\u001b[1;34m'visit'\u001b[0m\u001b[1;33m\u001b[0m\u001b[1;33m\u001b[0m\u001b[0m\n\u001b[0;32m      7\u001b[0m     \u001b[0mnext_step\u001b[0m\u001b[1;33m=\u001b[0m\u001b[0mgamer\u001b[0m\u001b[1;33m\u001b[0m\u001b[1;33m\u001b[0m\u001b[0m\n\u001b[1;32m----> 8\u001b[1;33m     \u001b[1;32mif\u001b[0m \u001b[0mvisted\u001b[0m\u001b[1;33m[\u001b[0m\u001b[0mgamer\u001b[0m\u001b[1;33m[\u001b[0m\u001b[1;36m0\u001b[0m\u001b[1;33m]\u001b[0m\u001b[1;33m+\u001b[0m\u001b[1;36m1\u001b[0m\u001b[1;33m]\u001b[0m\u001b[1;33m[\u001b[0m\u001b[0mgamer\u001b[0m\u001b[1;33m[\u001b[0m\u001b[1;36m1\u001b[0m\u001b[1;33m]\u001b[0m\u001b[1;33m]\u001b[0m\u001b[1;33m==\u001b[0m\u001b[1;34m'visit'\u001b[0m \u001b[1;32mand\u001b[0m \u001b[0mvisted\u001b[0m\u001b[1;33m[\u001b[0m\u001b[0mgamer\u001b[0m\u001b[1;33m[\u001b[0m\u001b[1;36m0\u001b[0m\u001b[1;33m]\u001b[0m\u001b[1;33m]\u001b[0m\u001b[1;33m[\u001b[0m\u001b[0mgamer\u001b[0m\u001b[1;33m[\u001b[0m\u001b[1;36m1\u001b[0m\u001b[1;33m]\u001b[0m\u001b[1;33m+\u001b[0m\u001b[1;36m1\u001b[0m\u001b[1;33m]\u001b[0m\u001b[1;33m==\u001b[0m\u001b[1;34m'visit'\u001b[0m \u001b[1;32mand\u001b[0m \u001b[0mvisted\u001b[0m\u001b[1;33m[\u001b[0m\u001b[0mgamer\u001b[0m\u001b[1;33m[\u001b[0m\u001b[1;36m0\u001b[0m\u001b[1;33m]\u001b[0m\u001b[1;33m]\u001b[0m\u001b[1;33m[\u001b[0m\u001b[0mgamer\u001b[0m\u001b[1;33m[\u001b[0m\u001b[1;36m1\u001b[0m\u001b[1;33m]\u001b[0m\u001b[1;33m-\u001b[0m\u001b[1;36m1\u001b[0m\u001b[1;33m]\u001b[0m\u001b[1;33m==\u001b[0m\u001b[1;34m'visit'\u001b[0m \u001b[1;32mand\u001b[0m \u001b[0mvisted\u001b[0m\u001b[1;33m[\u001b[0m\u001b[0mgamer\u001b[0m\u001b[1;33m[\u001b[0m\u001b[1;36m0\u001b[0m\u001b[1;33m]\u001b[0m\u001b[1;33m-\u001b[0m\u001b[1;36m1\u001b[0m\u001b[1;33m]\u001b[0m\u001b[1;33m[\u001b[0m\u001b[0mgamer\u001b[0m\u001b[1;33m[\u001b[0m\u001b[1;36m1\u001b[0m\u001b[1;33m]\u001b[0m\u001b[1;33m]\u001b[0m\u001b[1;33m==\u001b[0m\u001b[1;34m'visit'\u001b[0m\u001b[1;33m:\u001b[0m\u001b[1;33m\u001b[0m\u001b[1;33m\u001b[0m\u001b[0m\n\u001b[0m\u001b[0;32m      9\u001b[0m         \u001b[0mmove_back\u001b[0m\u001b[1;33m(\u001b[0m\u001b[0mnext_step\u001b[0m\u001b[1;33m[\u001b[0m\u001b[1;36m2\u001b[0m\u001b[1;33m]\u001b[0m\u001b[1;33m,\u001b[0m\u001b[0mnext_step\u001b[0m\u001b[1;33m)\u001b[0m\u001b[1;33m\u001b[0m\u001b[1;33m\u001b[0m\u001b[0m\n\u001b[0;32m     10\u001b[0m         \u001b[1;32mif\u001b[0m \u001b[0mdata\u001b[0m\u001b[1;33m[\u001b[0m\u001b[0mnext_step\u001b[0m\u001b[1;33m[\u001b[0m\u001b[1;36m0\u001b[0m\u001b[1;33m]\u001b[0m\u001b[1;33m]\u001b[0m\u001b[1;33m[\u001b[0m\u001b[0mnext_step\u001b[0m\u001b[1;33m[\u001b[0m\u001b[1;36m1\u001b[0m\u001b[1;33m]\u001b[0m\u001b[1;33m]\u001b[0m\u001b[1;33m==\u001b[0m\u001b[1;36m1\u001b[0m\u001b[1;33m:\u001b[0m\u001b[1;33m\u001b[0m\u001b[1;33m\u001b[0m\u001b[0m\n",
      "\u001b[1;31mIndexError\u001b[0m: list index out of range"
     ]
    }
   ],
   "source": [
    "anwer=0\n",
    "visted=data\n",
    "for i in range(n*m):\n",
    "    # 1\n",
    "    gamer[2]=dire(gamer[2])\n",
    "    visted[gamer[0]][gamer[1]]='visit'\n",
    "    next_step=gamer\n",
    "    if visted[gamer[0]+1][gamer[1]]=='visit' and visted[gamer[0]][gamer[1]+1]=='visit' and visted[gamer[0]][gamer[1]-1]=='visit' and visted[gamer[0]-1][gamer[1]]=='visit':\n",
    "        move_back(next_step[2],next_step)\n",
    "        if data[next_step[0]][next_step[1]]==1:\n",
    "            break\n",
    "        move_back(gamer[2],gamer)\n",
    "    move(next_step[2],next_step)\n",
    "    if data[next_step[0]][next_step[1]]==0:\n",
    "        move(gamer[2],gamer)\n",
    "        visted[next_step[0]][next_step[1]]='visit'"
   ]
  },
  {
   "cell_type": "code",
   "execution_count": 138,
   "metadata": {},
   "outputs": [],
   "source": [
    "# recursion 이용"
   ]
  },
  {
   "cell_type": "code",
   "execution_count": 139,
   "metadata": {},
   "outputs": [
    {
     "name": "stdout",
     "output_type": "stream",
     "text": [
      "4 4\n",
      "1 1 0\n",
      "1 1 1 1\n",
      "1 0 0 1\n",
      "1 1 0 1\n",
      "1 1 1 1\n"
     ]
    }
   ],
   "source": [
    "n,m=map(int,input().split())\n",
    "gamer=list(map(int,input().split()))\n",
    "data=[list(map(int,input().split())) for i in range(n)]"
   ]
  },
  {
   "cell_type": "code",
   "execution_count": 161,
   "metadata": {},
   "outputs": [],
   "source": [
    "visited=[[False]*n for i in range(m)]"
   ]
  },
  {
   "cell_type": "code",
   "execution_count": 163,
   "metadata": {},
   "outputs": [
    {
     "data": {
      "text/plain": [
       "[[False, False, False, False],\n",
       " [False, False, False, False],\n",
       " [False, False, False, False],\n",
       " [False, False, False, False]]"
      ]
     },
     "execution_count": 163,
     "metadata": {},
     "output_type": "execute_result"
    }
   ],
   "source": [
    "visited"
   ]
  },
  {
   "cell_type": "code",
   "execution_count": 164,
   "metadata": {},
   "outputs": [],
   "source": [
    "def fuck(a,b,dir):\n",
    "    # base case\n",
    "    \n",
    "    if a < 0 or a >=  len(data[0]) or b < 0 or b >= len(data) or data[a][b]==1 or visited[a][b] == True:\n",
    "        return 0\n",
    "    \n",
    "    visited[a][b]=True\n",
    "    \n",
    "    # preprocessing\n",
    "    \n",
    "    result = 0\n",
    "    \n",
    "    if dir ==0:\n",
    "        result = fuck(a,b -1, 3) + fuck(a+1, b, 2) + fuck(a, b+1, 1) + fuck(a-1, b, 0)\n",
    "    elif dir ==1:\n",
    "        result = fuck(a,b -1, 3) + fuck(a+1, b, 2) + fuck(a, b+1, 1) + fuck(a-1, b, 0)\n",
    "    elif dir ==2:\n",
    "        result = fuck(a,b -1, 3) + fuck(a+1, b, 2) + fuck(a, b+1, 1) + fuck(a-1, b, 0)\n",
    "    elif dir ==3:\n",
    "        result = fuck(a,b -1, 3) + fuck(a+1, b, 2) + fuck(a, b+1, 1) + fuck(a-1, b, 0)\n",
    "    \n",
    "    return result + 1\n",
    "\n",
    "\n",
    "\n",
    "\n"
   ]
  },
  {
   "cell_type": "code",
   "execution_count": 165,
   "metadata": {},
   "outputs": [
    {
     "data": {
      "text/plain": [
       "3"
      ]
     },
     "execution_count": 165,
     "metadata": {},
     "output_type": "execute_result"
    }
   ],
   "source": [
    "fuck(1,1,0)"
   ]
  },
  {
   "cell_type": "code",
   "execution_count": 166,
   "metadata": {},
   "outputs": [
    {
     "data": {
      "text/plain": [
       "[[False, False, False, False],\n",
       " [False, True, True, False],\n",
       " [False, False, True, False],\n",
       " [False, False, False, False]]"
      ]
     },
     "execution_count": 166,
     "metadata": {},
     "output_type": "execute_result"
    }
   ],
   "source": [
    "visited"
   ]
  },
  {
   "cell_type": "code",
   "execution_count": null,
   "metadata": {},
   "outputs": [],
   "source": []
  },
  {
   "cell_type": "code",
   "execution_count": null,
   "metadata": {},
   "outputs": [],
   "source": []
  },
  {
   "cell_type": "code",
   "execution_count": null,
   "metadata": {},
   "outputs": [],
   "source": []
  },
  {
   "cell_type": "code",
   "execution_count": null,
   "metadata": {},
   "outputs": [],
   "source": []
  },
  {
   "cell_type": "code",
   "execution_count": null,
   "metadata": {},
   "outputs": [],
   "source": []
  }
 ],
 "metadata": {
  "kernelspec": {
   "display_name": "Python 3",
   "language": "python",
   "name": "python3"
  },
  "language_info": {
   "codemirror_mode": {
    "name": "ipython",
    "version": 3
   },
   "file_extension": ".py",
   "mimetype": "text/x-python",
   "name": "python",
   "nbconvert_exporter": "python",
   "pygments_lexer": "ipython3",
   "version": "3.7.7"
  }
 },
 "nbformat": 4,
 "nbformat_minor": 2
}
