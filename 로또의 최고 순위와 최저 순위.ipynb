{
 "cells": [
  {
   "cell_type": "code",
   "execution_count": 1,
   "metadata": {},
   "outputs": [],
   "source": [
    "def solution(lottos, win_nums):\n",
    "    answer = []\n",
    "    # lottos와 win_nums에서 몇개 겹치는지\n",
    "    a=len(set(lottos)&set(win_nums))\n",
    "    # 0의 개수\n",
    "    b=lottos.count(0)\n",
    "    # 최고순위\n",
    "    if (a+b)!=0:\n",
    "        answer.append(7-(a+b)) \n",
    "    elif (a+b)==0:\n",
    "        answer.append(6)\n",
    "    # 최저 순위\n",
    "    if a>=1:\n",
    "        answer.append(7-a)\n",
    "    elif a==0:\n",
    "        answer.append(6)\n",
    "    return answer"
   ]
  }
 ],
 "metadata": {
  "kernelspec": {
   "display_name": "Python 3",
   "language": "python",
   "name": "python3"
  },
  "language_info": {
   "codemirror_mode": {
    "name": "ipython",
    "version": 3
   },
   "file_extension": ".py",
   "mimetype": "text/x-python",
   "name": "python",
   "nbconvert_exporter": "python",
   "pygments_lexer": "ipython3",
   "version": "3.7.9"
  }
 },
 "nbformat": 4,
 "nbformat_minor": 4
}
