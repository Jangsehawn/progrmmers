{
 "cells": [
  {
   "cell_type": "markdown",
   "metadata": {},
   "source": [
    "# 최단 경로 알고리즘\n",
    "\n",
    "## 다익스트라 -> 한 지점에서 다른 특정 지점까지의 최단 경로\n",
    "\n",
    "## -> 그리디 알고리즘\n",
    "\n",
    "1. 출발 노드를 선정한다\n",
    "\n",
    "2. 최단거리 테이블을 초기화한다\n",
    "\n",
    "3. 방문하지 않은 노드중에서 최단거리가 가장 짧은 노드를 선택\n",
    "\n",
    "4. 해당 노드를 거쳐 다른 노드로 가는 비용을 계산하여 최단거리 테이블을 갱신한다\n",
    "\n",
    "5. 3,4 반복 "
   ]
  },
  {
   "cell_type": "code",
   "execution_count": null,
   "metadata": {},
   "outputs": [],
   "source": [
    "-> 노드간의 거리를 무한으로 설정 (ex: 99999)\n",
    "-> 거리가 짧은 노드를 선택 \n",
    "-> 다음 노드로 가는 거리를 비교\n",
    "-> 기존 것보다 짧으면 업데이트\n",
    "-> 방문한것을 표시하여 모두 방문\n",
    "\n",
    "-> \"한 단계당 하나의 노드에 대한 최단거리를 확실히 찾는 것\""
   ]
  },
  {
   "cell_type": "code",
   "execution_count": 7,
   "metadata": {},
   "outputs": [],
   "source": [
    "# 1, 간단버전 다익스트라  -> 복잡도 O(V^2)\n",
    "\n",
    "import sys\n",
    "input =sys.stdin.readline\n",
    "INF=int(1e9) # 무한 설정 , 10억"
   ]
  },
  {
   "cell_type": "code",
   "execution_count": 27,
   "metadata": {},
   "outputs": [
    {
     "data": {
      "text/plain": [
       "[[],\n",
       " [(2, 2), (3, 5), (4, 1)],\n",
       " [(3, 3), (4, 2), (2, 3)],\n",
       " [(2, 3), (6, 5)],\n",
       " [(3, 3), (5, 1)],\n",
       " [(3, 1), (6, 2)],\n",
       " []]"
      ]
     },
     "execution_count": 27,
     "metadata": {},
     "output_type": "execute_result"
    }
   ],
   "source": [
    "# 노드 개수, 간선 개수\n",
    "n,m = 6, 11\n",
    "\n",
    "# 시작노드\n",
    "start=1 \n",
    "\n",
    "# 노드 정보 담는 리스트\n",
    "graph=[[]for i in range(n+1)]\n",
    "\n",
    "# 방문한 적이 있는지 체크하는 목적의 리스트 만들기 \n",
    "visited= [False]*(n+1)\n",
    "\n",
    "# 최단거리 테이블 무한으로 초기화\n",
    "distance = [INF]*(n+1)\n",
    "\n",
    "# 모든 간선의 정보\n",
    "# a번 노드에서 b번으로 가는 비용이 c \n",
    "# graph[a].append(b,c)\n",
    "graph[1].append((2,2))\n",
    "graph[1].append((3,5))\n",
    "graph[1].append((4,1))\n",
    "graph[2].append((3,3))\n",
    "graph[2].append((4,2))\n",
    "graph[2].append((2,3))\n",
    "graph[3].append((2,3))\n",
    "graph[3].append((6,5))\n",
    "graph[4].append((3,3))\n",
    "graph[4].append((5,1))\n",
    "graph[5].append((3,1))\n",
    "graph[5].append((6,2))\n",
    "\n",
    "graph"
   ]
  },
  {
   "cell_type": "code",
   "execution_count": 11,
   "metadata": {},
   "outputs": [
    {
     "ename": "UnboundLocalError",
     "evalue": "local variable 'min_value' referenced before assignment",
     "output_type": "error",
     "traceback": [
      "\u001b[1;31m---------------------------------------------------------------------------\u001b[0m",
      "\u001b[1;31mUnboundLocalError\u001b[0m                         Traceback (most recent call last)",
      "\u001b[1;32m<ipython-input-11-1c23fda86624>\u001b[0m in \u001b[0;36m<module>\u001b[1;34m\u001b[0m\n\u001b[0;32m     27\u001b[0m                 \u001b[0mdistance\u001b[0m\u001b[1;33m[\u001b[0m\u001b[0mj\u001b[0m\u001b[1;33m[\u001b[0m\u001b[1;36m0\u001b[0m\u001b[1;33m]\u001b[0m\u001b[1;33m]\u001b[0m \u001b[1;33m=\u001b[0m \u001b[0mcost\u001b[0m\u001b[1;33m\u001b[0m\u001b[1;33m\u001b[0m\u001b[0m\n\u001b[0;32m     28\u001b[0m \u001b[1;33m\u001b[0m\u001b[0m\n\u001b[1;32m---> 29\u001b[1;33m \u001b[0mdijkstra\u001b[0m\u001b[1;33m(\u001b[0m\u001b[0mstart\u001b[0m\u001b[1;33m)\u001b[0m\u001b[1;33m\u001b[0m\u001b[1;33m\u001b[0m\u001b[0m\n\u001b[0m",
      "\u001b[1;32m<ipython-input-11-1c23fda86624>\u001b[0m in \u001b[0;36mdijkstra\u001b[1;34m(start)\u001b[0m\n\u001b[0;32m     18\u001b[0m     \u001b[1;32mfor\u001b[0m \u001b[0mi\u001b[0m \u001b[1;32min\u001b[0m \u001b[0mrange\u001b[0m\u001b[1;33m(\u001b[0m\u001b[0mn\u001b[0m\u001b[1;33m-\u001b[0m\u001b[1;36m1\u001b[0m\u001b[1;33m)\u001b[0m\u001b[1;33m:\u001b[0m\u001b[1;33m\u001b[0m\u001b[1;33m\u001b[0m\u001b[0m\n\u001b[0;32m     19\u001b[0m         \u001b[1;31m# 현재 최단거리가 가장 짧은 노드를 꺼내서 방문처리\u001b[0m\u001b[1;33m\u001b[0m\u001b[1;33m\u001b[0m\u001b[1;33m\u001b[0m\u001b[0m\n\u001b[1;32m---> 20\u001b[1;33m         \u001b[0mnow\u001b[0m\u001b[1;33m=\u001b[0m\u001b[0mget_smallest_node\u001b[0m\u001b[1;33m(\u001b[0m\u001b[1;33m)\u001b[0m\u001b[1;33m\u001b[0m\u001b[1;33m\u001b[0m\u001b[0m\n\u001b[0m\u001b[0;32m     21\u001b[0m         \u001b[0mvisited\u001b[0m\u001b[1;33m[\u001b[0m\u001b[0mnow\u001b[0m\u001b[1;33m]\u001b[0m\u001b[1;33m=\u001b[0m\u001b[1;32mTrue\u001b[0m\u001b[1;33m\u001b[0m\u001b[1;33m\u001b[0m\u001b[0m\n\u001b[0;32m     22\u001b[0m         \u001b[1;31m# 현재 노드와 연결된 다른 노드를 확인\u001b[0m\u001b[1;33m\u001b[0m\u001b[1;33m\u001b[0m\u001b[1;33m\u001b[0m\u001b[0m\n",
      "\u001b[1;32m<ipython-input-11-1c23fda86624>\u001b[0m in \u001b[0;36mget_smallest_node\u001b[1;34m()\u001b[0m\n\u001b[0;32m      3\u001b[0m     \u001b[0mindex\u001b[0m\u001b[1;33m=\u001b[0m\u001b[1;36m0\u001b[0m \u001b[1;31m# 가장 최단거리가 짧은 노드의 인덱스\u001b[0m\u001b[1;33m\u001b[0m\u001b[1;33m\u001b[0m\u001b[0m\n\u001b[0;32m      4\u001b[0m     \u001b[1;32mfor\u001b[0m \u001b[0mi\u001b[0m \u001b[1;32min\u001b[0m \u001b[0mrange\u001b[0m\u001b[1;33m(\u001b[0m\u001b[1;36m1\u001b[0m\u001b[1;33m,\u001b[0m\u001b[0mn\u001b[0m\u001b[1;33m+\u001b[0m\u001b[1;36m1\u001b[0m\u001b[1;33m)\u001b[0m\u001b[1;33m:\u001b[0m\u001b[1;33m\u001b[0m\u001b[1;33m\u001b[0m\u001b[0m\n\u001b[1;32m----> 5\u001b[1;33m         \u001b[1;32mif\u001b[0m \u001b[0mdistance\u001b[0m\u001b[1;33m[\u001b[0m\u001b[0mi\u001b[0m\u001b[1;33m]\u001b[0m \u001b[1;33m<\u001b[0m \u001b[0mmin_value\u001b[0m \u001b[1;32mand\u001b[0m \u001b[1;32mnot\u001b[0m \u001b[0mvisited\u001b[0m\u001b[1;33m[\u001b[0m\u001b[0mi\u001b[0m\u001b[1;33m]\u001b[0m\u001b[1;33m:\u001b[0m\u001b[1;33m\u001b[0m\u001b[1;33m\u001b[0m\u001b[0m\n\u001b[0m\u001b[0;32m      6\u001b[0m             \u001b[0mmin_value\u001b[0m \u001b[1;33m=\u001b[0m \u001b[0mdistance\u001b[0m\u001b[1;33m[\u001b[0m\u001b[0mi\u001b[0m\u001b[1;33m]\u001b[0m\u001b[1;33m\u001b[0m\u001b[1;33m\u001b[0m\u001b[0m\n\u001b[0;32m      7\u001b[0m             \u001b[0mindex\u001b[0m\u001b[1;33m=\u001b[0m\u001b[0mi\u001b[0m\u001b[1;33m\u001b[0m\u001b[1;33m\u001b[0m\u001b[0m\n",
      "\u001b[1;31mUnboundLocalError\u001b[0m: local variable 'min_value' referenced before assignment"
     ]
    }
   ],
   "source": [
    "def get_smallest_node():\n",
    "    min_vlaue =INF\n",
    "    index=0 # 가장 최단거리가 짧은 노드의 인덱스\n",
    "    for i in range(1,n+1):\n",
    "        if distance[i] < min_value and not visited[i]:\n",
    "            min_value = distance[i]\n",
    "            index=i\n",
    "    return index        \n",
    "\n",
    "\n",
    "def dijkstra(start):\n",
    "    # 시작 노드 초기화\n",
    "    distance[start]=0\n",
    "    visited[start]= True\n",
    "    for j in graph[start]:\n",
    "        distance[j[0]]=j[1]\n",
    "    # 시작 노드를 제외한 n-1개에 반복\n",
    "    for i in range(n-1):\n",
    "        # 현재 최단거리가 가장 짧은 노드를 꺼내서 방문처리\n",
    "        now=get_smallest_node()\n",
    "        visited[now]=True\n",
    "        # 현재 노드와 연결된 다른 노드를 확인\n",
    "        for j in graph[now]:\n",
    "            cost=distance[now]+j[1]\n",
    "            # 현재 노드를 거쳐서 다른 노드로 이동하는 거리가 더 짧은 경우 \n",
    "            if cost < distance[j[0]]:\n",
    "                distance[j[0]] = cost\n",
    "\n",
    "dijkstra(start)"
   ]
  },
  {
   "cell_type": "markdown",
   "metadata": {},
   "source": [
    "# 2. 개선된 다익스트라 알고리즘\n",
    "\n",
    "## -> O(ElogV) , E: 간선 개수, V: 노드의 개수\n",
    "\n",
    "## heap 자료구조 사용 (우선순위 큐 만드는데 사용됨)\n",
    "\n",
    "\n",
    "스택 -> 가장 나중에 삽입된 데이터 추출\n",
    "\n",
    "큐 -> 가장 먼저 삽입된 데이터 추출 \n",
    "\n",
    "우선순위 큐 -> 가장 우선순위가 높은 데이터 추출  -> import heapq\n",
    "\n"
   ]
  },
  {
   "cell_type": "code",
   "execution_count": 28,
   "metadata": {},
   "outputs": [],
   "source": [
    "import heapq\n",
    "\n",
    "# headq -> 우선순위 큐\n",
    "# headq.heappush -> 넣기\n",
    "# headq.heappop -> 빼기 \n",
    "\n",
    "# graph\n",
    "# a번 노드에서 b번으로 가는 비용이 c \n",
    "# graph[a].append(b,c)\n",
    "\n",
    "\n",
    "def dijkstra(start):\n",
    "    q=[]\n",
    "    # 시작 노드로 가기 위한 최단 경로는 0으로 설정하여, 큐에 삽입\n",
    "    heapq.heappush(q,(0,start))\n",
    "    distance[start]=0\n",
    "    while q: # 큐가 비어있지 않다면 \n",
    "        # 가장 최단거리가 짧은 노드에 대한 정보 꺼내기 \n",
    "        dist, now = heapq.heappop(q)\n",
    "        # 현재 노드가 이미 처리된 적 있는 노드라면 무시 \n",
    "        if distance[now] < dist:\n",
    "            continue\n",
    "        # 현재 노드와 연결된 인접 노드들을 확인\n",
    "        for i in graph[now]:\n",
    "            cost = dist+i[1]\n",
    "            # 현재 노드를 거쳐서, 다른 노드로 이동하는 거리가 더 짧은 경우\n",
    "            if cost < distance[i[0]]:\n",
    "                distance[i[0]]=cost\n",
    "                heapq.heappush(q,(cost,i[0]))\n",
    "                \n",
    "# 다익스트라 알고리즘 수행\n",
    "dijkstra(start)"
   ]
  },
  {
   "cell_type": "code",
   "execution_count": 29,
   "metadata": {},
   "outputs": [
    {
     "data": {
      "text/plain": [
       "[1000000000, 0, 2, 3, 1, 2, 4]"
      ]
     },
     "execution_count": 29,
     "metadata": {},
     "output_type": "execute_result"
    }
   ],
   "source": [
    "distance"
   ]
  },
  {
   "cell_type": "code",
   "execution_count": 30,
   "metadata": {},
   "outputs": [],
   "source": [
    "a=[]\n",
    "heapq.heappush(a,(0,start)) # 거리, 노드 입력"
   ]
  },
  {
   "cell_type": "code",
   "execution_count": 31,
   "metadata": {},
   "outputs": [
    {
     "data": {
      "text/plain": [
       "(0, 1)"
      ]
     },
     "execution_count": 31,
     "metadata": {},
     "output_type": "execute_result"
    }
   ],
   "source": [
    "heapq.heappop(a)"
   ]
  },
  {
   "cell_type": "code",
   "execution_count": null,
   "metadata": {},
   "outputs": [],
   "source": []
  },
  {
   "cell_type": "markdown",
   "metadata": {},
   "source": [
    "# 플로이드 워셜 알고리즘 -> 모든 지점에서 다른 모든 지점까지의 최단경로\n",
    "\n",
    "## -> 다이나믹 프로그래밍\n",
    "## 복잡도 : O(N^3)\n",
    "\n",
    "a 노드 -> b 노드로 갈때 : Dab\n",
    "\n",
    "k번 단계에 대한 점화식\n",
    "\n",
    "Dab = min(Dab, Dak+Dkb)\n",
    "\n",
    "a에서 b로 가는 최소 비용을 찾음\n"
   ]
  },
  {
   "cell_type": "code",
   "execution_count": 40,
   "metadata": {},
   "outputs": [],
   "source": [
    "INF = int(1e9) # 무한 설정 (1억)\n",
    "\n",
    "# 노드, 간선 개수\n",
    "n,m=4,7\n",
    "\n",
    "# 2차원 리스트 만들고, 모든 값을 무한으로 초기화 \n",
    "graph=[[INF]*(n+1) for _ in range(n+1)]\n",
    "\n",
    "# 자기 자신으로 가는 비용은 0으로 초기화\n",
    "for a in range(1,n+1):\n",
    "    for b in range(1,n+1):\n",
    "        if a==b:\n",
    "            graph[a][b]=0\n",
    "# 각 간선에 대한 정보를 입력받아, 그 값으로 초기화\n",
    "# A에서 B로 가는 비용은 C라고 설정\n",
    "# graph[a][b]=c\n",
    "graph[1][2]=4\n",
    "graph[1][4]=6\n",
    "graph[2][1]=3\n",
    "graph[2][3]=7\n",
    "graph[3][1]=5\n",
    "graph[3][4]=4\n",
    "graph[4][3]=2\n",
    "\n"
   ]
  },
  {
   "cell_type": "code",
   "execution_count": 41,
   "metadata": {},
   "outputs": [
    {
     "data": {
      "text/plain": [
       "[[1000000000, 1000000000, 1000000000, 1000000000, 1000000000],\n",
       " [1000000000, 0, 4, 1000000000, 6],\n",
       " [1000000000, 3, 0, 7, 1000000000],\n",
       " [1000000000, 5, 1000000000, 0, 4],\n",
       " [1000000000, 1000000000, 1000000000, 2, 0]]"
      ]
     },
     "execution_count": 41,
     "metadata": {},
     "output_type": "execute_result"
    }
   ],
   "source": [
    "graph"
   ]
  },
  {
   "cell_type": "code",
   "execution_count": 42,
   "metadata": {},
   "outputs": [],
   "source": [
    "# 점화식에 따라 플로이드 워셜 알고리즘 수행\n",
    "\n",
    "for k in range(1,n+1):\n",
    "    for a in range(1,n+1):\n",
    "        for b in range(1,n+1):\n",
    "            graph[a][b]=min(graph[a][b], graph[a][k]+graph[k][b])\n"
   ]
  },
  {
   "cell_type": "code",
   "execution_count": 43,
   "metadata": {},
   "outputs": [
    {
     "data": {
      "text/plain": [
       "[[1000000000, 1000000000, 1000000000, 1000000000, 1000000000],\n",
       " [1000000000, 0, 4, 8, 6],\n",
       " [1000000000, 3, 0, 7, 9],\n",
       " [1000000000, 5, 9, 0, 4],\n",
       " [1000000000, 7, 11, 2, 0]]"
      ]
     },
     "execution_count": 43,
     "metadata": {},
     "output_type": "execute_result"
    }
   ],
   "source": [
    "graph\n"
   ]
  },
  {
   "cell_type": "code",
   "execution_count": null,
   "metadata": {},
   "outputs": [],
   "source": []
  },
  {
   "cell_type": "markdown",
   "metadata": {},
   "source": [
    "# 미래도시 "
   ]
  },
  {
   "cell_type": "markdown",
   "metadata": {},
   "source": [
    "방문 판매원 A는 1번회사에서 출발하여 k번 회사를 방문하고 x번 회사로 가는 최소시간\n",
    "\n",
    "노드 간 거리는 1 \n",
    "\n",
    "회사는 총 n개"
   ]
  },
  {
   "cell_type": "code",
   "execution_count": 55,
   "metadata": {},
   "outputs": [
    {
     "data": {
      "text/plain": [
       "[[1000000000, 1000000000, 1000000000, 1000000000, 1000000000, 1000000000],\n",
       " [1000000000, 1000000000, 1000000000, 1000000000, 1000000000, 1000000000],\n",
       " [1000000000, 1000000000, 1000000000, 1000000000, 1000000000, 1000000000],\n",
       " [1000000000, 1000000000, 1000000000, 1000000000, 1000000000, 1000000000],\n",
       " [1000000000, 1000000000, 1000000000, 1000000000, 1000000000, 1000000000],\n",
       " [1000000000, 1000000000, 1000000000, 1000000000, 1000000000, 1000000000],\n",
       " [1000000000, 1000000000, 1000000000, 1000000000, 1000000000, 1000000000]]"
      ]
     },
     "execution_count": 55,
     "metadata": {},
     "output_type": "execute_result"
    }
   ],
   "source": [
    "graph=[[INF]*(n+1) for _ in range(n+2)]\n",
    "graph"
   ]
  },
  {
   "cell_type": "code",
   "execution_count": 10,
   "metadata": {},
   "outputs": [
    {
     "data": {
      "text/plain": [
       "[[1000000000, 1000000000, 1000000000, 1000000000, 1000000000, 1000000000],\n",
       " [1000000000, 1000000000, 1, 1, 1, 1000000000],\n",
       " [1000000000, 1, 1000000000, 1000000000, 1, 1000000000],\n",
       " [1000000000, 1, 1000000000, 1000000000, 1, 1],\n",
       " [1000000000, 1, 1, 1, 1000000000, 1],\n",
       " [1000000000, 1000000000, 1000000000, 1, 1, 1000000000]]"
      ]
     },
     "execution_count": 10,
     "metadata": {},
     "output_type": "execute_result"
    }
   ],
   "source": [
    "# 예시 1\n",
    "n,m = 5,7\n",
    "INF=int(1e9)\n",
    "graph=[[INF]*(n+1) for _ in range(n+1)]\n",
    "\n",
    "graph[1][2]=1\n",
    "graph[1][3]=1\n",
    "graph[1][4]=1\n",
    "graph[2][4]=1\n",
    "graph[3][4]=1\n",
    "graph[3][5]=1\n",
    "graph[4][5]=1\n",
    "x,k= 4,5\n",
    "\n",
    "graph[2][1]=1\n",
    "graph[3][1]=1\n",
    "graph[4][1]=1\n",
    "graph[4][2]=1\n",
    "graph[4][3]=1\n",
    "graph[5][3]=1\n",
    "graph[5][4]=1\n",
    "\n",
    "graph"
   ]
  },
  {
   "cell_type": "code",
   "execution_count": 11,
   "metadata": {},
   "outputs": [],
   "source": [
    "\n",
    "\n",
    "for k in range(1,n+1):\n",
    "    for a in range(1,n+1):\n",
    "        for b in range(1,n+1):\n",
    "            graph[a][b]=min(graph[a][b], graph[a][k]+graph[k][b])"
   ]
  },
  {
   "cell_type": "code",
   "execution_count": 12,
   "metadata": {},
   "outputs": [
    {
     "data": {
      "text/plain": [
       "[[1000000000, 1000000000, 1000000000, 1000000000, 1000000000, 1000000000],\n",
       " [1000000000, 2, 1, 1, 1, 2],\n",
       " [1000000000, 1, 2, 2, 1, 2],\n",
       " [1000000000, 1, 2, 2, 1, 1],\n",
       " [1000000000, 1, 1, 1, 2, 1],\n",
       " [1000000000, 2, 2, 1, 1, 2]]"
      ]
     },
     "execution_count": 12,
     "metadata": {},
     "output_type": "execute_result"
    }
   ],
   "source": [
    "graph"
   ]
  },
  {
   "cell_type": "code",
   "execution_count": 13,
   "metadata": {},
   "outputs": [
    {
     "data": {
      "text/plain": [
       "3"
      ]
     },
     "execution_count": 13,
     "metadata": {},
     "output_type": "execute_result"
    }
   ],
   "source": [
    "graph[1][k]+graph[k][x]"
   ]
  },
  {
   "cell_type": "code",
   "execution_count": null,
   "metadata": {},
   "outputs": [],
   "source": []
  },
  {
   "cell_type": "code",
   "execution_count": null,
   "metadata": {},
   "outputs": [],
   "source": []
  },
  {
   "cell_type": "code",
   "execution_count": 60,
   "metadata": {},
   "outputs": [
    {
     "data": {
      "text/plain": [
       "[[1000000000, 1000000000, 1000000000, 1000000000, 1000000000],\n",
       " [1000000000, 1000000000, 1000000000, 1, 1000000000],\n",
       " [1000000000, 1000000000, 1000000000, 1000000000, 1],\n",
       " [1000000000, 1000000000, 1000000000, 1000000000, 1],\n",
       " [1000000000, 1000000000, 1000000000, 1000000000, 1000000000]]"
      ]
     },
     "execution_count": 60,
     "metadata": {},
     "output_type": "execute_result"
    }
   ],
   "source": [
    "# 예시 2\n",
    "\n",
    "n,m = 4,2\n",
    "INF=int(1e9)\n",
    "graph=[[INF]*(n+1) for _ in range(n+1)]\n",
    "\n",
    "graph[1][3]=1\n",
    "graph[2][4]=1\n",
    "graph[3][4]=1\n",
    "graph"
   ]
  },
  {
   "cell_type": "code",
   "execution_count": 61,
   "metadata": {},
   "outputs": [],
   "source": [
    "for k in range(1,n+1):\n",
    "    for a in range(1,n+1):\n",
    "        for b in range(1,n+1):\n",
    "            graph[a][b]=min(graph[a][b], graph[a][k]+graph[k][b])"
   ]
  },
  {
   "cell_type": "code",
   "execution_count": 62,
   "metadata": {},
   "outputs": [
    {
     "data": {
      "text/plain": [
       "[[1000000000, 1000000000, 1000000000, 1000000000, 1000000000],\n",
       " [1000000000, 1000000000, 1000000000, 1, 2],\n",
       " [1000000000, 1000000000, 1000000000, 1000000000, 1],\n",
       " [1000000000, 1000000000, 1000000000, 1000000000, 1],\n",
       " [1000000000, 1000000000, 1000000000, 1000000000, 1000000000]]"
      ]
     },
     "execution_count": 62,
     "metadata": {},
     "output_type": "execute_result"
    }
   ],
   "source": [
    "graph"
   ]
  },
  {
   "cell_type": "code",
   "execution_count": null,
   "metadata": {},
   "outputs": [],
   "source": []
  },
  {
   "cell_type": "markdown",
   "metadata": {},
   "source": [
    " # 전보"
   ]
  },
  {
   "cell_type": "markdown",
   "metadata": {},
   "source": [
    "도시의 개수 : N\n",
    "\n",
    "통로의 개수 : M\n",
    "\n",
    "메세지를 보내고자하는 도시 : C   \n",
    "\n",
    "특정도시 x에서 다른 도시 y로 메세지가 전달되는 시간 z\n",
    "    \n",
    "c에서 메세지를 받게되는 도시수? 도시들이 메세지를 받는데 걸리는 총 시간?\n",
    "\n",
    "    "
   ]
  },
  {
   "cell_type": "code",
   "execution_count": 43,
   "metadata": {},
   "outputs": [
    {
     "data": {
      "text/plain": [
       "[[], [(2, 4), (3, 2), (1, 0)], [(2, 0)], [(3, 0)]]"
      ]
     },
     "execution_count": 43,
     "metadata": {},
     "output_type": "execute_result"
    }
   ],
   "source": [
    "n,m,c=3,2,1\n",
    "\n",
    "INF=int(1e9)\n",
    "# 노드 정보 담는 리스트\n",
    "graph=[[]for i in range(n+1)]\n",
    "\n",
    "# 방문한 적이 있는지 체크하는 목적의 리스트 만들기 \n",
    "visited= [False]*(n+1)\n",
    "\n",
    "# 최단거리 테이블 무한으로 초기화\n",
    "distance = [INF]*(n+1)\n",
    "\n",
    "# a번 노드에서 b번으로 가는 비용이 c \n",
    "# graph[a].append(b,c)\n",
    "\n",
    "# x,y,z=1,2,4\n",
    "graph[1].append((2,4))\n",
    "graph[1].append((3,2))\n",
    "\n",
    "graph[1].append((1,0))\n",
    "graph[2].append((2,0))\n",
    "graph[3].append((3,0))\n",
    "graph"
   ]
  },
  {
   "cell_type": "code",
   "execution_count": 46,
   "metadata": {},
   "outputs": [
    {
     "data": {
      "text/plain": [
       "[]"
      ]
     },
     "execution_count": 46,
     "metadata": {},
     "output_type": "execute_result"
    }
   ],
   "source": [
    "import heapq\n",
    "\n",
    "# 최단거리 테이블 무한으로 초기화\n",
    "INF=int(1e9)\n",
    "distance = [INF]*(n+1)\n",
    "q=[]\n",
    "heapq.heappush(q,(0,c)) # q-> 빈 리스트, 0-> 거리, c-> 시작점\n",
    "distance[c]=0 # 거리 0으로 설정\n",
    "\n",
    "while q: # 큐가 빌때까지 계속\n",
    "    dist, now = heapq.heappop(q) # 제일 거리가 짧은 노드 뻄\n",
    "    if distance[now] < dist: # 처리된 적 있는 노드 무시 \n",
    "        continue\n",
    "    for i in graph[now]: # 인접 노드 확인\n",
    "        cost =dist+i[1]\n",
    "        if cost < distance[i[0]]:\n",
    "            # 현재 노드를 거쳐서, 다른 노드로 이동하는 거리가 더 짧은 경우\n",
    "            distance[i[0]]=cost\n",
    "            heapq.heappush(q,(cost,i[0]))"
   ]
  },
  {
   "cell_type": "code",
   "execution_count": 47,
   "metadata": {},
   "outputs": [
    {
     "data": {
      "text/plain": [
       "[1000000000, 0, 4, 2]"
      ]
     },
     "execution_count": 47,
     "metadata": {},
     "output_type": "execute_result"
    }
   ],
   "source": [
    "distance"
   ]
  },
  {
   "cell_type": "code",
   "execution_count": 57,
   "metadata": {},
   "outputs": [
    {
     "name": "stdout",
     "output_type": "stream",
     "text": [
      "2 4\n"
     ]
    }
   ],
   "source": [
    "city_number=0\n",
    "total_time=0\n",
    "for i in distance:\n",
    "    if i==INF:\n",
    "        continue  \n",
    "    elif i > 0:\n",
    "        total_time=max(total_time,i)\n",
    "        city_number+=1\n",
    "print(city_number, total_time)        "
   ]
  },
  {
   "cell_type": "code",
   "execution_count": 53,
   "metadata": {},
   "outputs": [],
   "source": [
    "#동빈나 코드 \n",
    "import heapq\n",
    "# 노드개수, 간선개수, 시작노드 \n",
    "n,m,c=3,2,1\n",
    "\n",
    "INF=int(1e9)\n",
    "# 노드 정보 담는 리스트\n",
    "graph=[[]for i in range(n+1)]\n",
    "# 최단거리 테이블 무한으로 초기화\n",
    "distance = [INF]*(n+1)\n",
    "\n",
    "graph[1].append((2,4))\n",
    "graph[1].append((3,2))\n",
    "\n",
    "def dijkstra(c):\n",
    "    q=[]\n",
    "    heapq.heappush(q,(0,c))\n",
    "    distance[c]=0\n",
    "    while q:\n",
    "        dist,now = heapq.heappop(q)\n",
    "        if distance[now] < dist:\n",
    "            continue\n",
    "        for i in graph[now]: \n",
    "            cost=dist+i[1]\n",
    "            if cost < distance[i[0]]:\n",
    "                distance[i[0]]=cost\n",
    "                heapq.heappush(q,(cost,i[0]))\n",
    "                \n",
    "dijkstra(c)    "
   ]
  },
  {
   "cell_type": "code",
   "execution_count": 55,
   "metadata": {},
   "outputs": [
    {
     "name": "stdout",
     "output_type": "stream",
     "text": [
      "2 4\n"
     ]
    }
   ],
   "source": [
    "# 도달할 수 있는 노드의 개수 \n",
    "count=0\n",
    "# 도달할 수 있는 노드중에서 가장 멀리있는 노드와의 최단거리\n",
    "max_distance =0\n",
    "\n",
    "for d in distance:\n",
    "    # 도달할 수 있는 노드인 경우\n",
    "    if d != INF:\n",
    "        count+=1\n",
    "        max_distance=max(max_distance,d)\n",
    "# 시작 노드는 제외해야 하므로 count -1을 출력\n",
    "print(count-1,max_distance)"
   ]
  },
  {
   "cell_type": "code",
   "execution_count": null,
   "metadata": {},
   "outputs": [],
   "source": []
  },
  {
   "cell_type": "code",
   "execution_count": null,
   "metadata": {},
   "outputs": [],
   "source": []
  },
  {
   "cell_type": "code",
   "execution_count": null,
   "metadata": {},
   "outputs": [],
   "source": []
  }
 ],
 "metadata": {
  "kernelspec": {
   "display_name": "Python 3",
   "language": "python",
   "name": "python3"
  },
  "language_info": {
   "codemirror_mode": {
    "name": "ipython",
    "version": 3
   },
   "file_extension": ".py",
   "mimetype": "text/x-python",
   "name": "python",
   "nbconvert_exporter": "python",
   "pygments_lexer": "ipython3",
   "version": "3.7.9"
  }
 },
 "nbformat": 4,
 "nbformat_minor": 4
}
